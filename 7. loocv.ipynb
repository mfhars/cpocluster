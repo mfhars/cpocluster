{
 "cells": [
  {
   "cell_type": "code",
   "execution_count": 30,
   "metadata": {},
   "outputs": [],
   "source": [
    "import pandas as pd\n",
    "from sklearn.cluster import KMeans\n",
    "import matplotlib.pyplot as plt\n",
    "import seaborn as sns\n",
    "\n",
    "# Load the data\n",
    "country_mapping = pd.read_excel(r\"C:\\Users\\pingk\\Downloads\\fadhli nitip\\country_mapping.xlsx\")\n",
    "country_2digit = pd.read_excel(r\"C:\\Users\\pingk\\Downloads\\fadhli nitip\\country_2digit.xlsx\")\n",
    "provincial_code = pd.read_excel(r\"C:\\Users\\pingk\\Downloads\\fadhli nitip\\provincial code.xlsx\")\n",
    "three_group_precipitation = pd.read_excel(r\"C:\\Users\\pingk\\Downloads\\fadhli nitip\\three_group_precipitation.xlsx\")\n",
    "four_group_precipitation = pd.read_excel(r\"C:\\Users\\pingk\\Downloads\\fadhli nitip\\four_group_precipitation.xlsx\")\n",
    "island_mapping = pd.read_excel(r\"C:\\Users\\pingk\\Downloads\\fadhli nitip\\island code.xlsx\")\n",
    "thai_mapping = pd.read_excel(r\"C:\\Users\\pingk\\Downloads\\fadhli nitip\\thai_vs_nothai.xlsx\")\n",
    "\n",
    "data_rt4 = pd.read_csv(r\"C:\\Users\\pingk\\Downloads\\fadhli nitip\\fadhli nitip\\csv\\data_rt4_raw_nodrop_removedbadfiles.csv\")\n",
    "data_rt1 = pd.read_csv(r\"C:\\Users\\pingk\\Downloads\\fadhli nitip\\fadhli nitip\\csv\\data_rt1_raw_nodrop.csv\")\n",
    "data_rt3a = pd.read_csv(r\"C:\\Users\\pingk\\Downloads\\fadhli nitip\\fadhli nitip\\csv\\data_rt3_raw_nodrop_a.csv\")\n",
    "data_rt3b = pd.read_csv(r\"C:\\Users\\pingk\\Downloads\\fadhli nitip\\fadhli nitip\\csv\\data_rt3_raw_nodrop_b.csv\")\n",
    "data_rt6 = pd.read_csv(r\"C:\\Users\\pingk\\Downloads\\fadhli nitip\\fadhli nitip\\csv\\data_rt6_raw_nodrop.csv\")\n",
    "data_rt11 = pd.read_csv(r\"C:\\Users\\pingk\\Downloads\\fadhli nitip\\fadhli nitip\\csv\\data_rt11_raw_nodrop.csv\")"
   ]
  },
  {
   "cell_type": "code",
   "execution_count": 31,
   "metadata": {},
   "outputs": [
    {
     "name": "stdout",
     "output_type": "stream",
     "text": [
      "Raw Data:\n",
      "  prov_char  country_code country_char               wavenumber   649.893  \\\n",
      "0       BBX             1           ID  ID-BBX-068-2307-031_001  0.016094   \n",
      "1       BBX             1           ID  ID-BBX-068-2307-031_002  0.013664   \n",
      "2       BBX             1           ID  ID-BBX-068-2307-031_003  0.015954   \n",
      "3       BBX             1           ID  ID-BBX-068-2307-031_004  0.013254   \n",
      "4       BBX             1           ID  ID-BBX-068-2307-031_005  0.014003   \n",
      "\n",
      "    650.376   650.858    651.34   651.822   652.304  ...  3995.783  3996.265  \\\n",
      "0  0.016946  0.017469  0.017538  0.017089  0.016154  ...  0.000476  0.000609   \n",
      "1  0.013097  0.012600  0.012208  0.011938  0.011801  ...  0.000951  0.001064   \n",
      "2  0.016134  0.015986  0.015469  0.014614  0.013532  ...  0.000755  0.000871   \n",
      "3  0.012653  0.011752  0.010722  0.009749  0.008982  ...  0.001851  0.001925   \n",
      "4  0.013402  0.012824  0.012274  0.011728  0.011171  ...  0.002461  0.002472   \n",
      "\n",
      "   3996.747   3997.23  3997.712  3998.194  3998.676  3999.158   3999.64  \\\n",
      "0  0.000719  0.000797  0.000843  0.000862  0.000858  0.000840  0.000813   \n",
      "1  0.001144  0.001182  0.001180  0.001151  0.001114  0.001086  0.001078   \n",
      "2  0.000928  0.000909  0.000814  0.000658  0.000470  0.000288  0.000153   \n",
      "3  0.001983  0.002019  0.002031  0.002017  0.001975  0.001903  0.001802   \n",
      "4  0.002460  0.002435  0.002404  0.002369  0.002324  0.002266  0.002196   \n",
      "\n",
      "   4000.122  \n",
      "0  0.000788  \n",
      "1  0.001095  \n",
      "2  0.000099  \n",
      "3  0.001685  \n",
      "4  0.002118  \n",
      "\n",
      "[5 rows x 6954 columns]\n",
      "  country_name  country_code\n",
      "0     Thailand             0\n",
      "1    Indonesia             1\n",
      "2     Malaysia             2\n",
      "  country_char  country_code\n",
      "0           TH             0\n",
      "1           ID             1\n",
      "2           MY             2\n",
      "  prov_char  prov_code\n",
      "0       CBI          0\n",
      "1       CCO          1\n",
      "2       CPN          2\n",
      "3       KBI          3\n",
      "4       KRI          4\n",
      "  prov_char  three_group_precip tgp_name dgp_name\n",
      "0       SKM                   0  Group 1  Group 1\n",
      "1       PKN                   0  Group 1  Group 1\n",
      "2       CBI                   0  Group 1  Group 1\n",
      "3       CCO                   0  Group 1  Group 1\n",
      "4       KRI                   0  Group 1  Group 1\n",
      "  prov_char  four_group_precip fgp_name\n",
      "0       SKM                  0  Group 1\n",
      "1       PKN                  0  Group 1\n",
      "2       CBI                  0  Group 1\n",
      "3       CCO                  0  Group 1\n",
      "4       KRI                  0  Group 1\n",
      "  prov_char  island_code\n",
      "0       CBI            0\n",
      "1       CCO            0\n",
      "2       CPN            0\n",
      "3       KBI            0\n",
      "4       KRI            0\n",
      "  country_char  th_vs_noth thnoth_name\n",
      "0           TH           0        Thai\n",
      "1           ID           1    Non-Thai\n",
      "2           MY           1    Non-Thai\n"
     ]
    }
   ],
   "source": [
    "# Inspect the first few rows of each dataset\n",
    "print(\"Raw Data:\")\n",
    "print(data_rt4.head())\n",
    "print(country_mapping.head())\n",
    "print(country_2digit.head())\n",
    "print(provincial_code.head())\n",
    "print(three_group_precipitation.head())\n",
    "print(four_group_precipitation.head())\n",
    "print(island_mapping.head())\n",
    "print(thai_mapping.head())\n"
   ]
  },
  {
   "cell_type": "code",
   "execution_count": 32,
   "metadata": {},
   "outputs": [],
   "source": [
    "# Merge data_rt4 with provincial_code on 'prov_char'\n",
    "data_rt4_with_prov_code = pd.merge(data_rt4, provincial_code, how='left', left_on='prov_char', right_on='prov_char')\n",
    "\n",
    "# Merge the result with three_group_precipitation\n",
    "data_rt4_with_3precip = pd.merge(data_rt4_with_prov_code, three_group_precipitation, how='left', left_on='prov_char', right_on='prov_char')\n",
    "\n",
    "# Merge the result with four_group_precipitation\n",
    "data_rt4_with_3p4p = pd.merge(data_rt4_with_3precip, four_group_precipitation, how='left', left_on='prov_char', right_on='prov_char')\n",
    "\n",
    "# Merge the result with country_mapping\n",
    "data_rt4_with_countryname = pd.merge(data_rt4_with_3p4p, country_mapping, how='left', left_on='country_code', right_on='country_code')\n",
    "\n",
    "# Merge the result with thai_mapping\n",
    "data_rt4_with_thai = pd.merge(data_rt4_with_countryname, thai_mapping, how='left', left_on='country_char', right_on='country_char')\n",
    "\n",
    "# Merge the result with island_mapping\n",
    "data_rt4_with_sixcat = pd.merge(data_rt4_with_thai, island_mapping, how='left', left_on='prov_char', right_on='prov_char')"
   ]
  },
  {
   "cell_type": "code",
   "execution_count": 33,
   "metadata": {},
   "outputs": [
    {
     "name": "stdout",
     "output_type": "stream",
     "text": [
      "Data with Additional Groupings:\n",
      "  prov_char  country_code country_char               wavenumber   649.893  \\\n",
      "0       BBX             1           ID  ID-BBX-068-2307-031_001  0.016094   \n",
      "1       BBX             1           ID  ID-BBX-068-2307-031_002  0.013664   \n",
      "2       BBX             1           ID  ID-BBX-068-2307-031_003  0.015954   \n",
      "3       BBX             1           ID  ID-BBX-068-2307-031_004  0.013254   \n",
      "4       BBX             1           ID  ID-BBX-068-2307-031_005  0.014003   \n",
      "\n",
      "    650.376   650.858    651.34   651.822   652.304  ...  prov_code  \\\n",
      "0  0.016946  0.017469  0.017538  0.017089  0.016154  ...         17   \n",
      "1  0.013097  0.012600  0.012208  0.011938  0.011801  ...         17   \n",
      "2  0.016134  0.015986  0.015469  0.014614  0.013532  ...         17   \n",
      "3  0.012653  0.011752  0.010722  0.009749  0.008982  ...         17   \n",
      "4  0.013402  0.012824  0.012274  0.011728  0.011171  ...         17   \n",
      "\n",
      "   three_group_precip  tgp_name  dgp_name  four_group_precip  fgp_name  \\\n",
      "0                   2   Group 3   Group 2                  2   Group 3   \n",
      "1                   2   Group 3   Group 2                  2   Group 3   \n",
      "2                   2   Group 3   Group 2                  2   Group 3   \n",
      "3                   2   Group 3   Group 2                  2   Group 3   \n",
      "4                   2   Group 3   Group 2                  2   Group 3   \n",
      "\n",
      "   country_name  th_vs_noth  thnoth_name  island_code  \n",
      "0     Indonesia           1     Non-Thai            1  \n",
      "1     Indonesia           1     Non-Thai            1  \n",
      "2     Indonesia           1     Non-Thai            1  \n",
      "3     Indonesia           1     Non-Thai            1  \n",
      "4     Indonesia           1     Non-Thai            1  \n",
      "\n",
      "[5 rows x 6964 columns]\n"
     ]
    }
   ],
   "source": [
    "# Inspect the first few rows of each dataset\n",
    "print(\"Data with Additional Groupings:\")\n",
    "print(data_rt4_with_sixcat.head())"
   ]
  },
  {
   "cell_type": "code",
   "execution_count": 34,
   "metadata": {},
   "outputs": [],
   "source": [
    "data_rt4_with_sixcat.to_csv('C:/Users/pingk/Downloads/fadhli nitip/data_rt4.csv', index=False)"
   ]
  },
  {
   "cell_type": "code",
   "execution_count": 35,
   "metadata": {},
   "outputs": [
    {
     "name": "stdout",
     "output_type": "stream",
     "text": [
      "    prov_char  country_code country_char                      wavenumber  \\\n",
      "0         BBX             1           ID         ID-BBX-068-2307-031_001   \n",
      "1         BBX             1           ID         ID-BBX-068-2307-031_002   \n",
      "2         BBX             1           ID         ID-BBX-068-2307-031_003   \n",
      "3         BBX             1           ID         ID-BBX-068-2307-031_004   \n",
      "4         BBX             1           ID         ID-BBX-068-2307-031_005   \n",
      "..        ...           ...          ...                             ...   \n",
      "432       TRG             0           TH  TH-TRG-012-2312-004_008_h2opik   \n",
      "433       TRG             0           TH  TH-TRG-012-2312-004_009_h2opik   \n",
      "434       TRG             0           TH         TH-TRG-018-2311-001_001   \n",
      "435       TRG             0           TH         TH-TRG-018-2311-001_002   \n",
      "436       TRG             0           TH         TH-TRG-018-2311-001_003   \n",
      "\n",
      "      649.893   650.376   650.858    651.34   651.822   652.304  ...  \\\n",
      "0    0.016094  0.016946  0.017469  0.017538  0.017089  0.016154  ...   \n",
      "1    0.013664  0.013097  0.012600  0.012208  0.011938  0.011801  ...   \n",
      "2    0.015954  0.016134  0.015986  0.015469  0.014614  0.013532  ...   \n",
      "3    0.013254  0.012653  0.011752  0.010722  0.009749  0.008982  ...   \n",
      "4    0.014003  0.013402  0.012824  0.012274  0.011728  0.011171  ...   \n",
      "..        ...       ...       ...       ...       ...       ...  ...   \n",
      "432  0.012609  0.012128  0.011822  0.011794  0.012111  0.012778  ...   \n",
      "433  0.014162  0.014071  0.014099  0.014314  0.014771  0.015495  ...   \n",
      "434  0.012689  0.012621  0.012210  0.011603  0.010994  0.010581  ...   \n",
      "435  0.013717  0.013979  0.014267  0.014573  0.014852  0.015038  ...   \n",
      "436  0.008438  0.008271  0.008231  0.008409  0.008851  0.009550  ...   \n",
      "\n",
      "     prov_code  three_group_precip  tgp_name  dgp_name  four_group_precip  \\\n",
      "0           17                   2   Group 3   Group 2                  2   \n",
      "1           17                   2   Group 3   Group 2                  2   \n",
      "2           17                   2   Group 3   Group 2                  2   \n",
      "3           17                   2   Group 3   Group 2                  2   \n",
      "4           17                   2   Group 3   Group 2                  2   \n",
      "..         ...                 ...       ...       ...                ...   \n",
      "432         16                   1   Group 2   Group 1                  1   \n",
      "433         16                   1   Group 2   Group 1                  1   \n",
      "434         16                   1   Group 2   Group 1                  1   \n",
      "435         16                   1   Group 2   Group 1                  1   \n",
      "436         16                   1   Group 2   Group 1                  1   \n",
      "\n",
      "     fgp_name  country_name  th_vs_noth  thnoth_name  island_code  \n",
      "0     Group 3     Indonesia           1     Non-Thai            1  \n",
      "1     Group 3     Indonesia           1     Non-Thai            1  \n",
      "2     Group 3     Indonesia           1     Non-Thai            1  \n",
      "3     Group 3     Indonesia           1     Non-Thai            1  \n",
      "4     Group 3     Indonesia           1     Non-Thai            1  \n",
      "..        ...           ...         ...          ...          ...  \n",
      "432   Group 2      Thailand           0         Thai            0  \n",
      "433   Group 2      Thailand           0         Thai            0  \n",
      "434   Group 2      Thailand           0         Thai            0  \n",
      "435   Group 2      Thailand           0         Thai            0  \n",
      "436   Group 2      Thailand           0         Thai            0  \n",
      "\n",
      "[437 rows x 6964 columns]\n"
     ]
    }
   ],
   "source": [
    "print(data_rt4_with_sixcat)"
   ]
  },
  {
   "cell_type": "code",
   "execution_count": 36,
   "metadata": {},
   "outputs": [
    {
     "name": "stdout",
     "output_type": "stream",
     "text": [
      "      649.893   650.376   650.858    651.34   651.822   652.304   652.786  \\\n",
      "0    0.016094  0.016946  0.017469  0.017538  0.017089  0.016154  0.014849   \n",
      "1    0.013664  0.013097  0.012600  0.012208  0.011938  0.011801  0.011799   \n",
      "2    0.015954  0.016134  0.015986  0.015469  0.014614  0.013532  0.012372   \n",
      "3    0.013254  0.012653  0.011752  0.010722  0.009749  0.008982  0.008484   \n",
      "4    0.014003  0.013402  0.012824  0.012274  0.011728  0.011171  0.010621   \n",
      "..        ...       ...       ...       ...       ...       ...       ...   \n",
      "432  0.012609  0.012128  0.011822  0.011794  0.012111  0.012778  0.013739   \n",
      "433  0.014162  0.014071  0.014099  0.014314  0.014771  0.015495  0.016470   \n",
      "434  0.012689  0.012621  0.012210  0.011603  0.010994  0.010581  0.010496   \n",
      "435  0.013717  0.013979  0.014267  0.014573  0.014852  0.015038  0.015085   \n",
      "436  0.008438  0.008271  0.008231  0.008409  0.008851  0.009550  0.010458   \n",
      "\n",
      "      653.268    653.75   654.232  ...  3995.783  3996.265  3996.747  \\\n",
      "0    0.013370  0.011951  0.010798  ...  0.000476  0.000609  0.000719   \n",
      "1    0.011914  0.012086  0.012223  ...  0.000951  0.001064  0.001144   \n",
      "2    0.011307  0.010487  0.010014  ...  0.000755  0.000871  0.000928   \n",
      "3    0.008240  0.008177  0.008214  ...  0.001851  0.001925  0.001983   \n",
      "4    0.010143  0.009831  0.009767  ...  0.002461  0.002472  0.002460   \n",
      "..        ...       ...       ...  ...       ...       ...       ...   \n",
      "432  0.014886  0.016084  0.017212  ...  0.014931  0.014945  0.014941   \n",
      "433  0.017634  0.018876  0.020060  ...  0.016021  0.016024  0.015996   \n",
      "434  0.010790  0.011409  0.012228  ...  0.000378  0.000344  0.000333   \n",
      "435  0.014971  0.014710  0.014338  ...  0.000986  0.000898  0.000802   \n",
      "436  0.011495  0.012560  0.013556  ...  0.001592  0.001549  0.001518   \n",
      "\n",
      "      3997.23  3997.712  3998.194  3998.676  3999.158   3999.64  4000.122  \n",
      "0    0.000797  0.000843  0.000862  0.000858  0.000840  0.000813  0.000788  \n",
      "1    0.001182  0.001180  0.001151  0.001114  0.001086  0.001078  0.001095  \n",
      "2    0.000909  0.000814  0.000658  0.000470  0.000288  0.000153  0.000099  \n",
      "3    0.002019  0.002031  0.002017  0.001975  0.001903  0.001802  0.001685  \n",
      "4    0.002435  0.002404  0.002369  0.002324  0.002266  0.002196  0.002118  \n",
      "..        ...       ...       ...       ...       ...       ...       ...  \n",
      "432  0.014931  0.014932  0.014950  0.014989  0.015044  0.015108  0.015172  \n",
      "433  0.015965  0.015954  0.015977  0.016035  0.016117  0.016203  0.016269  \n",
      "434  0.000345  0.000377  0.000424  0.000480  0.000541  0.000599  0.000650  \n",
      "435  0.000720  0.000676  0.000685  0.000751  0.000862  0.000990  0.001107  \n",
      "436  0.001505  0.001514  0.001544  0.001589  0.001643  0.001695  0.001742  \n",
      "\n",
      "[437 rows x 6950 columns]\n"
     ]
    }
   ],
   "source": [
    "# Print the filtered numeric columns in one line\n",
    "a = data_rt4_with_sixcat.drop(\n",
    "        columns=[\n",
    "            col for col in data_rt4_with_sixcat.columns \n",
    "            if col in ['country_code', 'prov_code', 'three_group_precip', 'four_group_precip', 'th_vs_noth', 'island_code'] \n",
    "            #or (col.replace('.', '', 1).isdigit() and any(float(col) >= start and float(col) < end for start, end in [(3100, 4001), (1870, 2700)]))\n",
    "            #or (col.replace('.', '', 1).isdigit() and 822.01 <= float(col) < 879.99)\n",
    "        ]\n",
    "    ).select_dtypes(include=['number'])\n",
    "\n",
    "print(a)"
   ]
  },
  {
   "cell_type": "code",
   "execution_count": 37,
   "metadata": {},
   "outputs": [],
   "source": [
    "# Input your dataset here\n",
    "\n",
    "asik  = data_rt4_with_sixcat.drop(\n",
    "        columns=[\n",
    "            col for col in data_rt4_with_sixcat.columns \n",
    "            if col in ['country_code', 'prov_code', 'three_group_precip', 'four_group_precip', 'th_vs_noth', 'island_code'] \n",
    "            #or (col.replace('.', '', 1).isdigit() and any(float(col) >= start and float(col) < end for start, end in [(3100, 4001), (1870, 2700)]))\n",
    "            #or (col.replace('.', '', 1).isdigit() and 822.01 <= float(col) < 879.99)\n",
    "        ]\n",
    "    )\n",
    "\n",
    "asik.to_csv('C:/Users/pingk/Downloads/fadhli nitip/asik.csv', index=False)"
   ]
  },
  {
   "cell_type": "code",
   "execution_count": 23,
   "metadata": {},
   "outputs": [],
   "source": [
    "from sklearn.decomposition import PCA\n",
    "from sklearn.preprocessing import StandardScaler, RobustScaler\n",
    "from sklearn.impute import SimpleImputer\n",
    "from sklearn.ensemble import IsolationForest\n",
    "import numpy as np"
   ]
  },
  {
   "cell_type": "markdown",
   "metadata": {},
   "source": [
    "DATA MANIPULATION FUNCTIONS"
   ]
  },
  {
   "cell_type": "markdown",
   "metadata": {},
   "source": [
    "a. Preprocess Data"
   ]
  },
  {
   "cell_type": "code",
   "execution_count": null,
   "metadata": {},
   "outputs": [],
   "source": [
    "def preprocess_data(df):\n",
    "    # Select numeric columns\n",
    "    numeric_cols = df.select_dtypes(include=['number']).columns\n",
    "    df_numeric = df[numeric_cols]\n",
    "    \n",
    "    # Impute missing values\n",
    "    imputer = SimpleImputer(strategy='mean')\n",
    "    df_imputed = pd.DataFrame(imputer.fit_transform(df_numeric), columns=df_numeric.columns, index=df.index)\n",
    "    \n",
    "    # Log transform the data to reduce skewness\n",
    "    df_log_transformed = np.log1p(df_imputed)\n",
    "    \n",
    "    # Scale the data using RobustScaler\n",
    "    scaler = RobustScaler()\n",
    "    df_scaled = pd.DataFrame(scaler.fit_transform(df_log_transformed), columns=df_numeric.columns, index=df.index)\n",
    "    \n",
    "    # Replace the original numeric columns with the processed ones\n",
    "    df[numeric_cols] = df_scaled\n",
    "    return df\n"
   ]
  },
  {
   "cell_type": "markdown",
   "metadata": {},
   "source": [
    "Select Numeric Columns: Isolates numeric columns for processing.\n",
    "\n",
    "Impute Missing Values: Replaces missing values with the mean of each column.\n",
    "\n",
    "Log Transformation: Reduces skewness in the data.\n",
    "\n",
    "Scaling: Uses RobustScaler to scale the data, which is less sensitive to outliers.\n",
    "\n",
    "Update DataFrame: Updates the original DataFrame with the processed numeric columns."
   ]
  },
  {
   "cell_type": "markdown",
   "metadata": {},
   "source": [
    "b. Remove Outliers"
   ]
  },
  {
   "cell_type": "code",
   "execution_count": 24,
   "metadata": {},
   "outputs": [],
   "source": [
    "def remove_outliers(df):\n",
    "    # Select numeric columns\n",
    "    numeric_cols = df.select_dtypes(include=['number']).columns\n",
    "    df_numeric = df[numeric_cols]\n",
    "    \n",
    "    iso = IsolationForest(contamination=0.05)\n",
    "    yhat = iso.fit_predict(df_numeric)\n",
    "    mask = yhat != -1\n",
    "    df_cleaned = df[mask].reset_index(drop=True)\n",
    "    return df_cleaned\n"
   ]
  },
  {
   "cell_type": "markdown",
   "metadata": {},
   "source": [
    "Select Numeric Columns: Isolates numeric columns for processing.\n",
    "Isolation Forest: Identifies and removes outliers using IsolationForest.\n",
    "Filter Data: Filters out the identified outliers and resets the index."
   ]
  },
  {
   "cell_type": "markdown",
   "metadata": {},
   "source": [
    "c. Drop Columns Within Specified Ranges"
   ]
  },
  {
   "cell_type": "code",
   "execution_count": 25,
   "metadata": {},
   "outputs": [],
   "source": [
    "def drop_columns_within_ranges(df, ranges):\n",
    "    def is_within_ranges(col_name, ranges):\n",
    "        try:\n",
    "            col_value = float(col_name)\n",
    "            return any(start <= col_value < end for start, end in ranges)\n",
    "        except ValueError:\n",
    "            return False\n",
    "\n",
    "    columns_to_drop = [col for col in df.columns if is_within_ranges(col, ranges)]\n",
    "    df_dropped = df.drop(columns=columns_to_drop)\n",
    "    return df_dropped\n"
   ]
  },
  {
   "cell_type": "markdown",
   "metadata": {},
   "source": [
    "is_within_ranges: Checks if a column name falls within any specified numeric ranges.\n",
    "Drop Columns: Drops columns that fall within the specified ranges."
   ]
  },
  {
   "cell_type": "markdown",
   "metadata": {},
   "source": [
    "Main Data Processing and Model Application"
   ]
  },
  {
   "cell_type": "markdown",
   "metadata": {},
   "source": [
    "a. Load Data and Drop Specific Columns"
   ]
  },
  {
   "cell_type": "code",
   "execution_count": 27,
   "metadata": {},
   "outputs": [],
   "source": [
    "# Specify the ranges to drop\n",
    "ranges_to_drop = [\n",
    "    (3100, 4001), \n",
    "    (1870, 2700),\n",
    "    #(822.01, 879.99)\n",
    "]\n",
    "\n",
    "# Drop columns within the specified ranges\n",
    "data_filtered = drop_columns_within_ranges(asik, ranges_to_drop)"
   ]
  },
  {
   "cell_type": "markdown",
   "metadata": {},
   "source": [
    "Load Data: Reads the dataset.\n",
    "Drop Columns: Drops columns within specified ranges."
   ]
  },
  {
   "cell_type": "markdown",
   "metadata": {},
   "source": [
    "b. Preprocess and Remove Outliers"
   ]
  },
  {
   "cell_type": "code",
   "execution_count": 28,
   "metadata": {},
   "outputs": [],
   "source": [
    "# Preprocess the data\n",
    "data_preprocessed = preprocess_data(data_filtered)\n",
    "\n",
    "# Remove outliers\n",
    "data_no_outliers = remove_outliers(data_preprocessed)"
   ]
  },
  {
   "cell_type": "markdown",
   "metadata": {},
   "source": [
    "Preprocess Data: Imputes missing values, log transforms, and scales the data.\n",
    "Remove Outliers: Removes outliers using Isolation Forest."
   ]
  },
  {
   "cell_type": "markdown",
   "metadata": {},
   "source": [
    "KMeans Clustering and PCA with Specific Samples Left Out"
   ]
  },
  {
   "cell_type": "markdown",
   "metadata": {},
   "source": [
    "a. Function Definition"
   ]
  },
  {
   "cell_type": "code",
   "execution_count": 29,
   "metadata": {},
   "outputs": [],
   "source": [
    "def kmeans_pca_specific_samples(df, leave_out_prov_chars, n_clusters=3, n_components=2):\n",
    "    # Separate the samples to leave out\n",
    "    leave_out_samples = df[df['prov_char'].isin(leave_out_prov_chars)]\n",
    "    remaining_samples = df[~df['prov_char'].isin(leave_out_prov_chars)]\n",
    "    \n",
    "    # Select numeric columns for clustering and PCA\n",
    "    numeric_cols = remaining_samples.select_dtypes(include=['number']).columns\n",
    "    remaining_samples_numeric = remaining_samples[numeric_cols]\n",
    "    leave_out_samples_numeric = leave_out_samples[numeric_cols]\n",
    "    \n",
    "    # Perform KMeans clustering on the remaining samples\n",
    "    kmeans = KMeans(n_clusters=n_clusters, random_state=42)\n",
    "    clusters = kmeans.fit_predict(remaining_samples_numeric)\n",
    "    \n",
    "    # Add cluster labels to the remaining samples DataFrame\n",
    "    remaining_samples['Cluster'] = clusters\n",
    "    \n",
    "    # Apply PCA on the remaining samples\n",
    "    pca = PCA(n_components=n_components)\n",
    "    pca_result_remaining = pca.fit_transform(remaining_samples_numeric)\n",
    "    \n",
    "    # Add PCA components to the remaining samples DataFrame\n",
    "    remaining_samples[f'PC1'] = pca_result_remaining[:, 0]\n",
    "    remaining_samples[f'PC2'] = pca_result_remaining[:, 1]\n",
    "    \n",
    "    # Transform the leave out samples using the PCA model fitted on the remaining samples\n",
    "    pca_result_leave_out = pca.transform(leave_out_samples_numeric)\n",
    "    \n",
    "    # Predict clusters for the leave out samples\n",
    "    leave_out_clusters = kmeans.predict(leave_out_samples_numeric)\n",
    "    \n",
    "    # Add PCA components and cluster labels to the leave out samples DataFrame\n",
    "    leave_out_samples[f'PC1'] = pca_result_leave_out[:, 0]\n",
    "    leave_out_samples[f'PC2'] = pca_result_leave_out[:, 1]\n",
    "    leave_out_samples['Cluster'] = leave_out_clusters\n",
    "    \n",
    "    # Concatenate the remaining samples and leave out samples\n",
    "    final_df = pd.concat([remaining_samples, leave_out_samples])\n",
    "    \n",
    "    return final_df, pca\n"
   ]
  }
 ],
 "metadata": {
  "kernelspec": {
   "display_name": "env",
   "language": "python",
   "name": "python3"
  },
  "language_info": {
   "codemirror_mode": {
    "name": "ipython",
    "version": 3
   },
   "file_extension": ".py",
   "mimetype": "text/x-python",
   "name": "python",
   "nbconvert_exporter": "python",
   "pygments_lexer": "ipython3",
   "version": "3.12.4"
  }
 },
 "nbformat": 4,
 "nbformat_minor": 2
}
