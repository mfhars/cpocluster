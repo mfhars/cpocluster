{
 "cells": [
  {
   "cell_type": "markdown",
   "metadata": {},
   "source": [
    "pandas version: 2.2.2\n",
    "numpy version: 2.0.0\n",
    "matplotlib version: 3.9.0\n",
    "sklearn version: 1.5.0\n",
    "Python version: 3.12.4"
   ]
  },
  {
   "cell_type": "markdown",
   "metadata": {},
   "source": [
    "Import Libraries and Load Data"
   ]
  },
  {
   "cell_type": "code",
   "execution_count": 1,
   "metadata": {},
   "outputs": [],
   "source": [
    "import pandas as pd\n",
    "import numpy as np\n",
    "import matplotlib.pyplot as plt\n",
    "import seaborn as sns\n",
    "from sklearn.decomposition import PCA\n",
    "from sklearn.preprocessing import StandardScaler\n",
    "from scipy.stats import shapiro\n",
    "from matplotlib.patches import Ellipse\n",
    "import matplotlib.transforms as transforms\n",
    "\n",
    "# Load the dataset\n",
    "data_path = r\"C:\\Users\\pingk\\Downloads\\fadhli nitip\\fadhli nitip\\csv\\data_rt4_countrybased_raw_nodrop.csv\"  \n",
    "province_code_path = r\"C:\\Users\\pingk\\Downloads\\fadhli nitip\\provincial code.xlsx\" \n",
    "data = pd.read_csv(data_path)\n",
    "province_codes = pd.read_excel(province_code_path)\n"
   ]
  },
  {
   "cell_type": "markdown",
   "metadata": {},
   "source": [
    "Data Evaluation"
   ]
  },
  {
   "cell_type": "code",
   "execution_count": 2,
   "metadata": {},
   "outputs": [
    {
     "data": {
      "text/html": [
       "<div>\n",
       "<style scoped>\n",
       "    .dataframe tbody tr th:only-of-type {\n",
       "        vertical-align: middle;\n",
       "    }\n",
       "\n",
       "    .dataframe tbody tr th {\n",
       "        vertical-align: top;\n",
       "    }\n",
       "\n",
       "    .dataframe thead th {\n",
       "        text-align: right;\n",
       "    }\n",
       "</style>\n",
       "<table border=\"1\" class=\"dataframe\">\n",
       "  <thead>\n",
       "    <tr style=\"text-align: right;\">\n",
       "      <th></th>\n",
       "      <th>prov_char</th>\n",
       "      <th>country_code</th>\n",
       "      <th>country_char</th>\n",
       "      <th>wavenumber</th>\n",
       "      <th>4000.122</th>\n",
       "      <th>3999.64</th>\n",
       "      <th>3999.158</th>\n",
       "      <th>3998.676</th>\n",
       "      <th>3998.194</th>\n",
       "      <th>3997.712</th>\n",
       "      <th>...</th>\n",
       "      <th>653.75</th>\n",
       "      <th>653.268</th>\n",
       "      <th>652.786</th>\n",
       "      <th>652.304</th>\n",
       "      <th>651.822</th>\n",
       "      <th>651.34</th>\n",
       "      <th>650.858</th>\n",
       "      <th>650.376</th>\n",
       "      <th>649.893</th>\n",
       "      <th>16158804.55800001</th>\n",
       "    </tr>\n",
       "  </thead>\n",
       "  <tbody>\n",
       "    <tr>\n",
       "      <th>0</th>\n",
       "      <td>BBX</td>\n",
       "      <td>1</td>\n",
       "      <td>ID</td>\n",
       "      <td>ID-BBX-068-2307-031_001</td>\n",
       "      <td>0.000788</td>\n",
       "      <td>0.000813</td>\n",
       "      <td>0.000840</td>\n",
       "      <td>0.000858</td>\n",
       "      <td>0.000862</td>\n",
       "      <td>0.000843</td>\n",
       "      <td>...</td>\n",
       "      <td>0.011951</td>\n",
       "      <td>0.013370</td>\n",
       "      <td>0.014849</td>\n",
       "      <td>0.016154</td>\n",
       "      <td>0.017089</td>\n",
       "      <td>0.017538</td>\n",
       "      <td>0.017469</td>\n",
       "      <td>0.016946</td>\n",
       "      <td>0.016094</td>\n",
       "      <td>NaN</td>\n",
       "    </tr>\n",
       "    <tr>\n",
       "      <th>1</th>\n",
       "      <td>BBX</td>\n",
       "      <td>1</td>\n",
       "      <td>ID</td>\n",
       "      <td>ID-BBX-068-2307-031_002</td>\n",
       "      <td>0.001095</td>\n",
       "      <td>0.001078</td>\n",
       "      <td>0.001086</td>\n",
       "      <td>0.001114</td>\n",
       "      <td>0.001151</td>\n",
       "      <td>0.001180</td>\n",
       "      <td>...</td>\n",
       "      <td>0.012086</td>\n",
       "      <td>0.011914</td>\n",
       "      <td>0.011799</td>\n",
       "      <td>0.011801</td>\n",
       "      <td>0.011938</td>\n",
       "      <td>0.012208</td>\n",
       "      <td>0.012600</td>\n",
       "      <td>0.013097</td>\n",
       "      <td>0.013664</td>\n",
       "      <td>NaN</td>\n",
       "    </tr>\n",
       "    <tr>\n",
       "      <th>2</th>\n",
       "      <td>BBX</td>\n",
       "      <td>1</td>\n",
       "      <td>ID</td>\n",
       "      <td>ID-BBX-068-2307-031_003</td>\n",
       "      <td>0.000099</td>\n",
       "      <td>0.000153</td>\n",
       "      <td>0.000288</td>\n",
       "      <td>0.000470</td>\n",
       "      <td>0.000658</td>\n",
       "      <td>0.000814</td>\n",
       "      <td>...</td>\n",
       "      <td>0.010487</td>\n",
       "      <td>0.011307</td>\n",
       "      <td>0.012372</td>\n",
       "      <td>0.013532</td>\n",
       "      <td>0.014614</td>\n",
       "      <td>0.015469</td>\n",
       "      <td>0.015986</td>\n",
       "      <td>0.016134</td>\n",
       "      <td>0.015954</td>\n",
       "      <td>NaN</td>\n",
       "    </tr>\n",
       "    <tr>\n",
       "      <th>3</th>\n",
       "      <td>BBX</td>\n",
       "      <td>1</td>\n",
       "      <td>ID</td>\n",
       "      <td>ID-BBX-068-2307-031_004</td>\n",
       "      <td>0.001685</td>\n",
       "      <td>0.001802</td>\n",
       "      <td>0.001903</td>\n",
       "      <td>0.001975</td>\n",
       "      <td>0.002017</td>\n",
       "      <td>0.002031</td>\n",
       "      <td>...</td>\n",
       "      <td>0.008177</td>\n",
       "      <td>0.008240</td>\n",
       "      <td>0.008484</td>\n",
       "      <td>0.008982</td>\n",
       "      <td>0.009749</td>\n",
       "      <td>0.010722</td>\n",
       "      <td>0.011752</td>\n",
       "      <td>0.012653</td>\n",
       "      <td>0.013254</td>\n",
       "      <td>NaN</td>\n",
       "    </tr>\n",
       "    <tr>\n",
       "      <th>4</th>\n",
       "      <td>BBX</td>\n",
       "      <td>1</td>\n",
       "      <td>ID</td>\n",
       "      <td>ID-BBX-068-2307-031_005</td>\n",
       "      <td>0.002118</td>\n",
       "      <td>0.002196</td>\n",
       "      <td>0.002266</td>\n",
       "      <td>0.002324</td>\n",
       "      <td>0.002369</td>\n",
       "      <td>0.002404</td>\n",
       "      <td>...</td>\n",
       "      <td>0.009831</td>\n",
       "      <td>0.010143</td>\n",
       "      <td>0.010621</td>\n",
       "      <td>0.011171</td>\n",
       "      <td>0.011728</td>\n",
       "      <td>0.012274</td>\n",
       "      <td>0.012824</td>\n",
       "      <td>0.013402</td>\n",
       "      <td>0.014003</td>\n",
       "      <td>NaN</td>\n",
       "    </tr>\n",
       "  </tbody>\n",
       "</table>\n",
       "<p>5 rows × 6955 columns</p>\n",
       "</div>"
      ],
      "text/plain": [
       "  prov_char  country_code country_char               wavenumber  4000.122  \\\n",
       "0       BBX             1           ID  ID-BBX-068-2307-031_001  0.000788   \n",
       "1       BBX             1           ID  ID-BBX-068-2307-031_002  0.001095   \n",
       "2       BBX             1           ID  ID-BBX-068-2307-031_003  0.000099   \n",
       "3       BBX             1           ID  ID-BBX-068-2307-031_004  0.001685   \n",
       "4       BBX             1           ID  ID-BBX-068-2307-031_005  0.002118   \n",
       "\n",
       "    3999.64  3999.158  3998.676  3998.194  3997.712  ...    653.75   653.268  \\\n",
       "0  0.000813  0.000840  0.000858  0.000862  0.000843  ...  0.011951  0.013370   \n",
       "1  0.001078  0.001086  0.001114  0.001151  0.001180  ...  0.012086  0.011914   \n",
       "2  0.000153  0.000288  0.000470  0.000658  0.000814  ...  0.010487  0.011307   \n",
       "3  0.001802  0.001903  0.001975  0.002017  0.002031  ...  0.008177  0.008240   \n",
       "4  0.002196  0.002266  0.002324  0.002369  0.002404  ...  0.009831  0.010143   \n",
       "\n",
       "    652.786   652.304   651.822    651.34   650.858   650.376   649.893  \\\n",
       "0  0.014849  0.016154  0.017089  0.017538  0.017469  0.016946  0.016094   \n",
       "1  0.011799  0.011801  0.011938  0.012208  0.012600  0.013097  0.013664   \n",
       "2  0.012372  0.013532  0.014614  0.015469  0.015986  0.016134  0.015954   \n",
       "3  0.008484  0.008982  0.009749  0.010722  0.011752  0.012653  0.013254   \n",
       "4  0.010621  0.011171  0.011728  0.012274  0.012824  0.013402  0.014003   \n",
       "\n",
       "   16158804.55800001  \n",
       "0                NaN  \n",
       "1                NaN  \n",
       "2                NaN  \n",
       "3                NaN  \n",
       "4                NaN  \n",
       "\n",
       "[5 rows x 6955 columns]"
      ]
     },
     "execution_count": 2,
     "metadata": {},
     "output_type": "execute_result"
    }
   ],
   "source": [
    "data.head()"
   ]
  },
  {
   "cell_type": "code",
   "execution_count": 3,
   "metadata": {},
   "outputs": [
    {
     "data": {
      "text/html": [
       "<div>\n",
       "<style scoped>\n",
       "    .dataframe tbody tr th:only-of-type {\n",
       "        vertical-align: middle;\n",
       "    }\n",
       "\n",
       "    .dataframe tbody tr th {\n",
       "        vertical-align: top;\n",
       "    }\n",
       "\n",
       "    .dataframe thead th {\n",
       "        text-align: right;\n",
       "    }\n",
       "</style>\n",
       "<table border=\"1\" class=\"dataframe\">\n",
       "  <thead>\n",
       "    <tr style=\"text-align: right;\">\n",
       "      <th></th>\n",
       "      <th>prov_char</th>\n",
       "      <th>country_code</th>\n",
       "      <th>country_char</th>\n",
       "      <th>wavenumber</th>\n",
       "      <th>4000.122</th>\n",
       "      <th>3999.64</th>\n",
       "      <th>3999.158</th>\n",
       "      <th>3998.676</th>\n",
       "      <th>3998.194</th>\n",
       "      <th>3997.712</th>\n",
       "      <th>...</th>\n",
       "      <th>653.75</th>\n",
       "      <th>653.268</th>\n",
       "      <th>652.786</th>\n",
       "      <th>652.304</th>\n",
       "      <th>651.822</th>\n",
       "      <th>651.34</th>\n",
       "      <th>650.858</th>\n",
       "      <th>650.376</th>\n",
       "      <th>649.893</th>\n",
       "      <th>16158804.55800001</th>\n",
       "    </tr>\n",
       "  </thead>\n",
       "  <tbody>\n",
       "    <tr>\n",
       "      <th>count</th>\n",
       "      <td>447</td>\n",
       "      <td>447.000000</td>\n",
       "      <td>447</td>\n",
       "      <td>447</td>\n",
       "      <td>447.000000</td>\n",
       "      <td>447.000000</td>\n",
       "      <td>447.000000</td>\n",
       "      <td>447.000000</td>\n",
       "      <td>447.000000</td>\n",
       "      <td>447.000000</td>\n",
       "      <td>...</td>\n",
       "      <td>447.000000</td>\n",
       "      <td>447.000000</td>\n",
       "      <td>447.000000</td>\n",
       "      <td>447.000000</td>\n",
       "      <td>447.000000</td>\n",
       "      <td>447.000000</td>\n",
       "      <td>447.000000</td>\n",
       "      <td>447.000000</td>\n",
       "      <td>447.000000</td>\n",
       "      <td>0.0</td>\n",
       "    </tr>\n",
       "    <tr>\n",
       "      <th>unique</th>\n",
       "      <td>25</td>\n",
       "      <td>NaN</td>\n",
       "      <td>3</td>\n",
       "      <td>447</td>\n",
       "      <td>NaN</td>\n",
       "      <td>NaN</td>\n",
       "      <td>NaN</td>\n",
       "      <td>NaN</td>\n",
       "      <td>NaN</td>\n",
       "      <td>NaN</td>\n",
       "      <td>...</td>\n",
       "      <td>NaN</td>\n",
       "      <td>NaN</td>\n",
       "      <td>NaN</td>\n",
       "      <td>NaN</td>\n",
       "      <td>NaN</td>\n",
       "      <td>NaN</td>\n",
       "      <td>NaN</td>\n",
       "      <td>NaN</td>\n",
       "      <td>NaN</td>\n",
       "      <td>NaN</td>\n",
       "    </tr>\n",
       "    <tr>\n",
       "      <th>top</th>\n",
       "      <td>SNI</td>\n",
       "      <td>NaN</td>\n",
       "      <td>TH</td>\n",
       "      <td>MY-SGR-096-2401-004_003</td>\n",
       "      <td>NaN</td>\n",
       "      <td>NaN</td>\n",
       "      <td>NaN</td>\n",
       "      <td>NaN</td>\n",
       "      <td>NaN</td>\n",
       "      <td>NaN</td>\n",
       "      <td>...</td>\n",
       "      <td>NaN</td>\n",
       "      <td>NaN</td>\n",
       "      <td>NaN</td>\n",
       "      <td>NaN</td>\n",
       "      <td>NaN</td>\n",
       "      <td>NaN</td>\n",
       "      <td>NaN</td>\n",
       "      <td>NaN</td>\n",
       "      <td>NaN</td>\n",
       "      <td>NaN</td>\n",
       "    </tr>\n",
       "    <tr>\n",
       "      <th>freq</th>\n",
       "      <td>75</td>\n",
       "      <td>NaN</td>\n",
       "      <td>361</td>\n",
       "      <td>1</td>\n",
       "      <td>NaN</td>\n",
       "      <td>NaN</td>\n",
       "      <td>NaN</td>\n",
       "      <td>NaN</td>\n",
       "      <td>NaN</td>\n",
       "      <td>NaN</td>\n",
       "      <td>...</td>\n",
       "      <td>NaN</td>\n",
       "      <td>NaN</td>\n",
       "      <td>NaN</td>\n",
       "      <td>NaN</td>\n",
       "      <td>NaN</td>\n",
       "      <td>NaN</td>\n",
       "      <td>NaN</td>\n",
       "      <td>NaN</td>\n",
       "      <td>NaN</td>\n",
       "      <td>NaN</td>\n",
       "    </tr>\n",
       "    <tr>\n",
       "      <th>mean</th>\n",
       "      <td>NaN</td>\n",
       "      <td>0.221477</td>\n",
       "      <td>NaN</td>\n",
       "      <td>NaN</td>\n",
       "      <td>0.001279</td>\n",
       "      <td>0.001277</td>\n",
       "      <td>0.001277</td>\n",
       "      <td>0.001279</td>\n",
       "      <td>0.001286</td>\n",
       "      <td>0.001295</td>\n",
       "      <td>...</td>\n",
       "      <td>0.013692</td>\n",
       "      <td>0.013742</td>\n",
       "      <td>0.013847</td>\n",
       "      <td>0.013990</td>\n",
       "      <td>0.014141</td>\n",
       "      <td>0.014272</td>\n",
       "      <td>0.014354</td>\n",
       "      <td>0.014376</td>\n",
       "      <td>0.014337</td>\n",
       "      <td>NaN</td>\n",
       "    </tr>\n",
       "    <tr>\n",
       "      <th>std</th>\n",
       "      <td>NaN</td>\n",
       "      <td>0.480736</td>\n",
       "      <td>NaN</td>\n",
       "      <td>NaN</td>\n",
       "      <td>0.003983</td>\n",
       "      <td>0.003994</td>\n",
       "      <td>0.004009</td>\n",
       "      <td>0.004027</td>\n",
       "      <td>0.004048</td>\n",
       "      <td>0.004069</td>\n",
       "      <td>...</td>\n",
       "      <td>0.007954</td>\n",
       "      <td>0.007918</td>\n",
       "      <td>0.007826</td>\n",
       "      <td>0.007695</td>\n",
       "      <td>0.007549</td>\n",
       "      <td>0.007409</td>\n",
       "      <td>0.007291</td>\n",
       "      <td>0.007197</td>\n",
       "      <td>0.007127</td>\n",
       "      <td>NaN</td>\n",
       "    </tr>\n",
       "    <tr>\n",
       "      <th>min</th>\n",
       "      <td>NaN</td>\n",
       "      <td>0.000000</td>\n",
       "      <td>NaN</td>\n",
       "      <td>NaN</td>\n",
       "      <td>-0.053471</td>\n",
       "      <td>-0.053662</td>\n",
       "      <td>-0.053772</td>\n",
       "      <td>-0.053781</td>\n",
       "      <td>-0.053690</td>\n",
       "      <td>-0.053514</td>\n",
       "      <td>...</td>\n",
       "      <td>-0.099484</td>\n",
       "      <td>-0.098245</td>\n",
       "      <td>-0.095699</td>\n",
       "      <td>-0.092164</td>\n",
       "      <td>-0.088132</td>\n",
       "      <td>-0.084153</td>\n",
       "      <td>-0.080762</td>\n",
       "      <td>-0.078322</td>\n",
       "      <td>-0.076966</td>\n",
       "      <td>NaN</td>\n",
       "    </tr>\n",
       "    <tr>\n",
       "      <th>25%</th>\n",
       "      <td>NaN</td>\n",
       "      <td>0.000000</td>\n",
       "      <td>NaN</td>\n",
       "      <td>NaN</td>\n",
       "      <td>0.000008</td>\n",
       "      <td>0.000003</td>\n",
       "      <td>-0.000031</td>\n",
       "      <td>-0.000043</td>\n",
       "      <td>-0.000054</td>\n",
       "      <td>-0.000095</td>\n",
       "      <td>...</td>\n",
       "      <td>0.011937</td>\n",
       "      <td>0.012015</td>\n",
       "      <td>0.012305</td>\n",
       "      <td>0.012495</td>\n",
       "      <td>0.012564</td>\n",
       "      <td>0.012654</td>\n",
       "      <td>0.012732</td>\n",
       "      <td>0.012631</td>\n",
       "      <td>0.012610</td>\n",
       "      <td>NaN</td>\n",
       "    </tr>\n",
       "    <tr>\n",
       "      <th>50%</th>\n",
       "      <td>NaN</td>\n",
       "      <td>0.000000</td>\n",
       "      <td>NaN</td>\n",
       "      <td>NaN</td>\n",
       "      <td>0.001300</td>\n",
       "      <td>0.001353</td>\n",
       "      <td>0.001358</td>\n",
       "      <td>0.001390</td>\n",
       "      <td>0.001402</td>\n",
       "      <td>0.001363</td>\n",
       "      <td>...</td>\n",
       "      <td>0.014184</td>\n",
       "      <td>0.014284</td>\n",
       "      <td>0.014285</td>\n",
       "      <td>0.014418</td>\n",
       "      <td>0.014661</td>\n",
       "      <td>0.014679</td>\n",
       "      <td>0.014842</td>\n",
       "      <td>0.014915</td>\n",
       "      <td>0.014868</td>\n",
       "      <td>NaN</td>\n",
       "    </tr>\n",
       "    <tr>\n",
       "      <th>75%</th>\n",
       "      <td>NaN</td>\n",
       "      <td>0.000000</td>\n",
       "      <td>NaN</td>\n",
       "      <td>NaN</td>\n",
       "      <td>0.002414</td>\n",
       "      <td>0.002380</td>\n",
       "      <td>0.002389</td>\n",
       "      <td>0.002382</td>\n",
       "      <td>0.002427</td>\n",
       "      <td>0.002439</td>\n",
       "      <td>...</td>\n",
       "      <td>0.016450</td>\n",
       "      <td>0.016250</td>\n",
       "      <td>0.016455</td>\n",
       "      <td>0.016583</td>\n",
       "      <td>0.016644</td>\n",
       "      <td>0.016838</td>\n",
       "      <td>0.016899</td>\n",
       "      <td>0.016996</td>\n",
       "      <td>0.017127</td>\n",
       "      <td>NaN</td>\n",
       "    </tr>\n",
       "    <tr>\n",
       "      <th>max</th>\n",
       "      <td>NaN</td>\n",
       "      <td>2.000000</td>\n",
       "      <td>NaN</td>\n",
       "      <td>NaN</td>\n",
       "      <td>0.019997</td>\n",
       "      <td>0.020251</td>\n",
       "      <td>0.020727</td>\n",
       "      <td>0.021413</td>\n",
       "      <td>0.022238</td>\n",
       "      <td>0.023088</td>\n",
       "      <td>...</td>\n",
       "      <td>0.027743</td>\n",
       "      <td>0.027998</td>\n",
       "      <td>0.028441</td>\n",
       "      <td>0.029035</td>\n",
       "      <td>0.029704</td>\n",
       "      <td>0.030349</td>\n",
       "      <td>0.030858</td>\n",
       "      <td>0.031145</td>\n",
       "      <td>0.031169</td>\n",
       "      <td>NaN</td>\n",
       "    </tr>\n",
       "  </tbody>\n",
       "</table>\n",
       "<p>11 rows × 6955 columns</p>\n",
       "</div>"
      ],
      "text/plain": [
       "       prov_char  country_code country_char               wavenumber  \\\n",
       "count        447    447.000000          447                      447   \n",
       "unique        25           NaN            3                      447   \n",
       "top          SNI           NaN           TH  MY-SGR-096-2401-004_003   \n",
       "freq          75           NaN          361                        1   \n",
       "mean         NaN      0.221477          NaN                      NaN   \n",
       "std          NaN      0.480736          NaN                      NaN   \n",
       "min          NaN      0.000000          NaN                      NaN   \n",
       "25%          NaN      0.000000          NaN                      NaN   \n",
       "50%          NaN      0.000000          NaN                      NaN   \n",
       "75%          NaN      0.000000          NaN                      NaN   \n",
       "max          NaN      2.000000          NaN                      NaN   \n",
       "\n",
       "          4000.122     3999.64    3999.158    3998.676    3998.194  \\\n",
       "count   447.000000  447.000000  447.000000  447.000000  447.000000   \n",
       "unique         NaN         NaN         NaN         NaN         NaN   \n",
       "top            NaN         NaN         NaN         NaN         NaN   \n",
       "freq           NaN         NaN         NaN         NaN         NaN   \n",
       "mean      0.001279    0.001277    0.001277    0.001279    0.001286   \n",
       "std       0.003983    0.003994    0.004009    0.004027    0.004048   \n",
       "min      -0.053471   -0.053662   -0.053772   -0.053781   -0.053690   \n",
       "25%       0.000008    0.000003   -0.000031   -0.000043   -0.000054   \n",
       "50%       0.001300    0.001353    0.001358    0.001390    0.001402   \n",
       "75%       0.002414    0.002380    0.002389    0.002382    0.002427   \n",
       "max       0.019997    0.020251    0.020727    0.021413    0.022238   \n",
       "\n",
       "          3997.712  ...      653.75     653.268     652.786     652.304  \\\n",
       "count   447.000000  ...  447.000000  447.000000  447.000000  447.000000   \n",
       "unique         NaN  ...         NaN         NaN         NaN         NaN   \n",
       "top            NaN  ...         NaN         NaN         NaN         NaN   \n",
       "freq           NaN  ...         NaN         NaN         NaN         NaN   \n",
       "mean      0.001295  ...    0.013692    0.013742    0.013847    0.013990   \n",
       "std       0.004069  ...    0.007954    0.007918    0.007826    0.007695   \n",
       "min      -0.053514  ...   -0.099484   -0.098245   -0.095699   -0.092164   \n",
       "25%      -0.000095  ...    0.011937    0.012015    0.012305    0.012495   \n",
       "50%       0.001363  ...    0.014184    0.014284    0.014285    0.014418   \n",
       "75%       0.002439  ...    0.016450    0.016250    0.016455    0.016583   \n",
       "max       0.023088  ...    0.027743    0.027998    0.028441    0.029035   \n",
       "\n",
       "           651.822      651.34     650.858     650.376     649.893  \\\n",
       "count   447.000000  447.000000  447.000000  447.000000  447.000000   \n",
       "unique         NaN         NaN         NaN         NaN         NaN   \n",
       "top            NaN         NaN         NaN         NaN         NaN   \n",
       "freq           NaN         NaN         NaN         NaN         NaN   \n",
       "mean      0.014141    0.014272    0.014354    0.014376    0.014337   \n",
       "std       0.007549    0.007409    0.007291    0.007197    0.007127   \n",
       "min      -0.088132   -0.084153   -0.080762   -0.078322   -0.076966   \n",
       "25%       0.012564    0.012654    0.012732    0.012631    0.012610   \n",
       "50%       0.014661    0.014679    0.014842    0.014915    0.014868   \n",
       "75%       0.016644    0.016838    0.016899    0.016996    0.017127   \n",
       "max       0.029704    0.030349    0.030858    0.031145    0.031169   \n",
       "\n",
       "        16158804.55800001  \n",
       "count                 0.0  \n",
       "unique                NaN  \n",
       "top                   NaN  \n",
       "freq                  NaN  \n",
       "mean                  NaN  \n",
       "std                   NaN  \n",
       "min                   NaN  \n",
       "25%                   NaN  \n",
       "50%                   NaN  \n",
       "75%                   NaN  \n",
       "max                   NaN  \n",
       "\n",
       "[11 rows x 6955 columns]"
      ]
     },
     "execution_count": 3,
     "metadata": {},
     "output_type": "execute_result"
    }
   ],
   "source": [
    "data.describe(include='all')"
   ]
  },
  {
   "cell_type": "code",
   "execution_count": 4,
   "metadata": {},
   "outputs": [
    {
     "data": {
      "text/plain": [
       "prov_char              0\n",
       "country_code           0\n",
       "country_char           0\n",
       "wavenumber             0\n",
       "4000.122               0\n",
       "                    ... \n",
       "651.34                 0\n",
       "650.858                0\n",
       "650.376                0\n",
       "649.893                0\n",
       "16158804.55800001    447\n",
       "Length: 6955, dtype: int64"
      ]
     },
     "execution_count": 4,
     "metadata": {},
     "output_type": "execute_result"
    }
   ],
   "source": [
    "data.isnull().sum()"
   ]
  },
  {
   "cell_type": "code",
   "execution_count": 5,
   "metadata": {},
   "outputs": [
    {
     "data": {
      "text/plain": [
       "prov_char              0\n",
       "country_code           0\n",
       "country_char           0\n",
       "wavenumber             0\n",
       "4000.122               0\n",
       "                    ... \n",
       "651.34                 0\n",
       "650.858                0\n",
       "650.376                0\n",
       "649.893                0\n",
       "16158804.55800001    447\n",
       "Length: 6955, dtype: int64"
      ]
     },
     "execution_count": 5,
     "metadata": {},
     "output_type": "execute_result"
    }
   ],
   "source": [
    "data.isna().sum()"
   ]
  },
  {
   "cell_type": "code",
   "execution_count": 6,
   "metadata": {},
   "outputs": [
    {
     "data": {
      "text/plain": [
       "np.int64(0)"
      ]
     },
     "execution_count": 6,
     "metadata": {},
     "output_type": "execute_result"
    }
   ],
   "source": [
    "data.duplicated().sum()"
   ]
  },
  {
   "cell_type": "code",
   "execution_count": 7,
   "metadata": {},
   "outputs": [
    {
     "name": "stdout",
     "output_type": "stream",
     "text": [
      "Data Head:\n",
      "   prov_char  country_code country_char               wavenumber  4000.122  \\\n",
      "0       BBX             1           ID  ID-BBX-068-2307-031_001  0.000788   \n",
      "1       BBX             1           ID  ID-BBX-068-2307-031_002  0.001095   \n",
      "2       BBX             1           ID  ID-BBX-068-2307-031_003  0.000099   \n",
      "3       BBX             1           ID  ID-BBX-068-2307-031_004  0.001685   \n",
      "4       BBX             1           ID  ID-BBX-068-2307-031_005  0.002118   \n",
      "\n",
      "    3999.64  3999.158  3998.676  3998.194  3997.712  ...    653.75   653.268  \\\n",
      "0  0.000813  0.000840  0.000858  0.000862  0.000843  ...  0.011951  0.013370   \n",
      "1  0.001078  0.001086  0.001114  0.001151  0.001180  ...  0.012086  0.011914   \n",
      "2  0.000153  0.000288  0.000470  0.000658  0.000814  ...  0.010487  0.011307   \n",
      "3  0.001802  0.001903  0.001975  0.002017  0.002031  ...  0.008177  0.008240   \n",
      "4  0.002196  0.002266  0.002324  0.002369  0.002404  ...  0.009831  0.010143   \n",
      "\n",
      "    652.786   652.304   651.822    651.34   650.858   650.376   649.893  \\\n",
      "0  0.014849  0.016154  0.017089  0.017538  0.017469  0.016946  0.016094   \n",
      "1  0.011799  0.011801  0.011938  0.012208  0.012600  0.013097  0.013664   \n",
      "2  0.012372  0.013532  0.014614  0.015469  0.015986  0.016134  0.015954   \n",
      "3  0.008484  0.008982  0.009749  0.010722  0.011752  0.012653  0.013254   \n",
      "4  0.010621  0.011171  0.011728  0.012274  0.012824  0.013402  0.014003   \n",
      "\n",
      "   16158804.55800001  \n",
      "0                NaN  \n",
      "1                NaN  \n",
      "2                NaN  \n",
      "3                NaN  \n",
      "4                NaN  \n",
      "\n",
      "[5 rows x 6955 columns]\n"
     ]
    }
   ],
   "source": [
    "# Data Evaluation\n",
    "print(\"Data Head:\\n\", data.head())"
   ]
  },
  {
   "cell_type": "code",
   "execution_count": 8,
   "metadata": {},
   "outputs": [
    {
     "name": "stdout",
     "output_type": "stream",
     "text": [
      "\n",
      "Data Describe:\n",
      "        prov_char  country_code country_char               wavenumber  \\\n",
      "count        447    447.000000          447                      447   \n",
      "unique        25           NaN            3                      447   \n",
      "top          SNI           NaN           TH  MY-SGR-096-2401-004_003   \n",
      "freq          75           NaN          361                        1   \n",
      "mean         NaN      0.221477          NaN                      NaN   \n",
      "std          NaN      0.480736          NaN                      NaN   \n",
      "min          NaN      0.000000          NaN                      NaN   \n",
      "25%          NaN      0.000000          NaN                      NaN   \n",
      "50%          NaN      0.000000          NaN                      NaN   \n",
      "75%          NaN      0.000000          NaN                      NaN   \n",
      "max          NaN      2.000000          NaN                      NaN   \n",
      "\n",
      "          4000.122     3999.64    3999.158    3998.676    3998.194  \\\n",
      "count   447.000000  447.000000  447.000000  447.000000  447.000000   \n",
      "unique         NaN         NaN         NaN         NaN         NaN   \n",
      "top            NaN         NaN         NaN         NaN         NaN   \n",
      "freq           NaN         NaN         NaN         NaN         NaN   \n",
      "mean      0.001279    0.001277    0.001277    0.001279    0.001286   \n",
      "std       0.003983    0.003994    0.004009    0.004027    0.004048   \n",
      "min      -0.053471   -0.053662   -0.053772   -0.053781   -0.053690   \n",
      "25%       0.000008    0.000003   -0.000031   -0.000043   -0.000054   \n",
      "50%       0.001300    0.001353    0.001358    0.001390    0.001402   \n",
      "75%       0.002414    0.002380    0.002389    0.002382    0.002427   \n",
      "max       0.019997    0.020251    0.020727    0.021413    0.022238   \n",
      "\n",
      "          3997.712  ...      653.75     653.268     652.786     652.304  \\\n",
      "count   447.000000  ...  447.000000  447.000000  447.000000  447.000000   \n",
      "unique         NaN  ...         NaN         NaN         NaN         NaN   \n",
      "top            NaN  ...         NaN         NaN         NaN         NaN   \n",
      "freq           NaN  ...         NaN         NaN         NaN         NaN   \n",
      "mean      0.001295  ...    0.013692    0.013742    0.013847    0.013990   \n",
      "std       0.004069  ...    0.007954    0.007918    0.007826    0.007695   \n",
      "min      -0.053514  ...   -0.099484   -0.098245   -0.095699   -0.092164   \n",
      "25%      -0.000095  ...    0.011937    0.012015    0.012305    0.012495   \n",
      "50%       0.001363  ...    0.014184    0.014284    0.014285    0.014418   \n",
      "75%       0.002439  ...    0.016450    0.016250    0.016455    0.016583   \n",
      "max       0.023088  ...    0.027743    0.027998    0.028441    0.029035   \n",
      "\n",
      "           651.822      651.34     650.858     650.376     649.893  \\\n",
      "count   447.000000  447.000000  447.000000  447.000000  447.000000   \n",
      "unique         NaN         NaN         NaN         NaN         NaN   \n",
      "top            NaN         NaN         NaN         NaN         NaN   \n",
      "freq           NaN         NaN         NaN         NaN         NaN   \n",
      "mean      0.014141    0.014272    0.014354    0.014376    0.014337   \n",
      "std       0.007549    0.007409    0.007291    0.007197    0.007127   \n",
      "min      -0.088132   -0.084153   -0.080762   -0.078322   -0.076966   \n",
      "25%       0.012564    0.012654    0.012732    0.012631    0.012610   \n",
      "50%       0.014661    0.014679    0.014842    0.014915    0.014868   \n",
      "75%       0.016644    0.016838    0.016899    0.016996    0.017127   \n",
      "max       0.029704    0.030349    0.030858    0.031145    0.031169   \n",
      "\n",
      "        16158804.55800001  \n",
      "count                 0.0  \n",
      "unique                NaN  \n",
      "top                   NaN  \n",
      "freq                  NaN  \n",
      "mean                  NaN  \n",
      "std                   NaN  \n",
      "min                   NaN  \n",
      "25%                   NaN  \n",
      "50%                   NaN  \n",
      "75%                   NaN  \n",
      "max                   NaN  \n",
      "\n",
      "[11 rows x 6955 columns]\n"
     ]
    }
   ],
   "source": [
    "print(\"\\nData Describe:\\n\", data.describe(include='all'))"
   ]
  },
  {
   "cell_type": "code",
   "execution_count": 9,
   "metadata": {},
   "outputs": [
    {
     "name": "stdout",
     "output_type": "stream",
     "text": [
      "\n",
      "Data IsNull:\n",
      " prov_char              0\n",
      "country_code           0\n",
      "country_char           0\n",
      "wavenumber             0\n",
      "4000.122               0\n",
      "                    ... \n",
      "651.34                 0\n",
      "650.858                0\n",
      "650.376                0\n",
      "649.893                0\n",
      "16158804.55800001    447\n",
      "Length: 6955, dtype: int64\n"
     ]
    }
   ],
   "source": [
    "print(\"\\nData IsNull:\\n\", data.isnull().sum())"
   ]
  },
  {
   "cell_type": "code",
   "execution_count": 10,
   "metadata": {},
   "outputs": [
    {
     "name": "stdout",
     "output_type": "stream",
     "text": [
      "\n",
      "Data IsNA:\n",
      " prov_char              0\n",
      "country_code           0\n",
      "country_char           0\n",
      "wavenumber             0\n",
      "4000.122               0\n",
      "                    ... \n",
      "651.34                 0\n",
      "650.858                0\n",
      "650.376                0\n",
      "649.893                0\n",
      "16158804.55800001    447\n",
      "Length: 6955, dtype: int64\n"
     ]
    }
   ],
   "source": [
    "print(\"\\nData IsNA:\\n\", data.isna().sum())"
   ]
  },
  {
   "cell_type": "code",
   "execution_count": 11,
   "metadata": {},
   "outputs": [
    {
     "name": "stdout",
     "output_type": "stream",
     "text": [
      "\n",
      "Duplicates:\n",
      " 0\n"
     ]
    }
   ],
   "source": [
    "print(\"\\nDuplicates:\\n\", data.duplicated().sum())"
   ]
  },
  {
   "cell_type": "markdown",
   "metadata": {},
   "source": [
    "Mapping for Country"
   ]
  },
  {
   "cell_type": "code",
   "execution_count": 12,
   "metadata": {},
   "outputs": [],
   "source": [
    "# Create a mapping for country codes to country names\n",
    "country_mapping = {\n",
    "    0: 'Thailand',\n",
    "    1: 'Indonesia',\n",
    "    2: 'Malaysia'\n",
    "}\n",
    "\n",
    "# Map the country codes to country names\n",
    "data['country_name'] = data['country_code'].map(country_mapping)"
   ]
  },
  {
   "cell_type": "code",
   "execution_count": 20,
   "metadata": {},
   "outputs": [
    {
     "data": {
      "image/png": "[encoded data removed]",
      "text/plain": [
       "<Figure size 1000x600 with 1 Axes>"
      ]
     },
     "metadata": {},
     "output_type": "display_data"
    }
   ],
   "source": [
    "# Data Visualization (Spectroscopy Data by Country Code)\n",
    "spectroscopy_columns = data.columns.difference(['country_code', 'prov_char', 'country_char', 'wavenumber'])\n",
    "melted_data = data.melt(id_vars='country_name', value_vars=spectroscopy_columns, var_name='Wavenumber', value_name='Intensity')\n",
    "\n",
    "# Convert Wavenumber to numeric if it's not already\n",
    "melted_data['Wavenumber'] = pd.to_numeric(melted_data['Wavenumber'])\n",
    "\n",
    "plt.figure(figsize=(10, 6))\n",
    "sns.lineplot(data=melted_data, x='Wavenumber', y='Intensity', hue='country_name', palette='tab10')\n",
    "plt.title('Initial Sample Spectroscopies by Country')\n",
    "plt.xlabel('Wavenumber')\n",
    "plt.ylabel('Intensity')\n",
    "plt.legend(title='Country')\n",
    "\n",
    "# Improve x-axis readability by setting ticks every 500 cm⁻¹ and reversing the axis\n",
    "plt.xticks(np.arange(4000, 649, -500))  # Ticks from 4000 to 650 cm⁻¹\n",
    "plt.gca().invert_xaxis()  # Reverse the x-axis\n",
    "\n",
    "plt.show()"
   ]
  },
  {
   "cell_type": "code",
   "execution_count": 14,
   "metadata": {},
   "outputs": [
    {
     "name": "stdout",
     "output_type": "stream",
     "text": [
      "\n",
      "Province Counts:\n",
      " prov_char\n",
      "SNI    75\n",
      "CPN    42\n",
      "TRG    39\n",
      "KBI    37\n",
      "NRT    24\n",
      "SNK    24\n",
      "NWT    24\n",
      "BBX    18\n",
      "KBX    18\n",
      "PKN    18\n",
      "SUX    18\n",
      "RNG    16\n",
      "STN    15\n",
      "CCO    13\n",
      "CBI    12\n",
      "RIX    11\n",
      "SGR    11\n",
      "PTN     7\n",
      "KRI     6\n",
      "KTX     5\n",
      "SSX     3\n",
      "PNA     3\n",
      "PLG     3\n",
      "SKM     3\n",
      "JHR     2\n",
      "Name: count, dtype: int64\n"
     ]
    }
   ],
   "source": [
    "# Province counts on 'data'\n",
    "print(\"\\nProvince Counts:\\n\", data['prov_char'].value_counts())"
   ]
  },
  {
   "cell_type": "code",
   "execution_count": 15,
   "metadata": {},
   "outputs": [
    {
     "name": "stdout",
     "output_type": "stream",
     "text": [
      "\n",
      "Country Counts:\n",
      " country_code\n",
      "0    361\n",
      "1     73\n",
      "2     13\n",
      "Name: count, dtype: int64\n"
     ]
    }
   ],
   "source": [
    "# Country counts on 'data'\n",
    "print(\"\\nCountry Counts:\\n\", data['country_code'].value_counts())"
   ]
  },
  {
   "cell_type": "markdown",
   "metadata": {},
   "source": [
    "Data Normality Test"
   ]
  },
  {
   "cell_type": "code",
   "execution_count": 16,
   "metadata": {},
   "outputs": [
    {
     "name": "stdout",
     "output_type": "stream",
     "text": [
      "\n",
      "Shapiro-Wilk Test Results (P-Values):\n",
      " 4000.122             2.982233e-29\n",
      "3999.64              2.703845e-29\n",
      "3999.158             2.572700e-29\n",
      "3998.676             2.588272e-29\n",
      "3998.194             2.757505e-29\n",
      "                         ...     \n",
      "651.34               9.866865e-36\n",
      "650.858              2.386897e-35\n",
      "650.376              4.838684e-35\n",
      "649.893              7.040533e-35\n",
      "16158804.55800001             NaN\n",
      "Length: 6951, dtype: float64\n"
     ]
    }
   ],
   "source": [
    "# Data Normality Test using Shapiro-Wilk test\n",
    "normality_results = data.iloc[:, 4:-1].apply(lambda x: shapiro(x)[1])\n",
    "print(\"\\nShapiro-Wilk Test Results (P-Values):\\n\", normality_results)\n"
   ]
  },
  {
   "cell_type": "markdown",
   "metadata": {},
   "source": [
    "The Shapiro-Wilk test is a statistical test used to assess the normality of a dataset. It evaluates whether a sample comes from a normally distributed population. The null hypothesis for this test is that the data is normally distributed.\n",
    "\n",
    "Shapiro-Wilk Test\n",
    "Null Hypothesis (H0): The data is normally distributed.\n",
    "Alternative Hypothesis (H1): The data is not normally distributed.\n",
    "Interpretation\n",
    "p-value > 0.05: Fail to reject the null hypothesis (the data is likely normal).\n",
    "p-value ≤ 0.05: Reject the null hypothesis (the data is likely not normal).\n",
    "Impact on Data Processing\n",
    "Performing the Shapiro-Wilk test helps in understanding the distribution of your data. If the data is normally distributed, certain statistical methods and transformations might be more appropriate. For non-normally distributed data, you might need to consider other methods or transformations to meet the assumptions of downstream analyses.\n",
    "\n",
    "In the context of the given code, using the Shapiro-Wilk test will help you determine whether your FTIR data follows a normal distribution, which could influence how you preprocess and analyze the data."
   ]
  },
  {
   "cell_type": "markdown",
   "metadata": {},
   "source": [
    "Extract FTIR Spectrum Data"
   ]
  },
  {
   "cell_type": "code",
   "execution_count": 17,
   "metadata": {},
   "outputs": [
    {
     "data": {
      "text/html": [
       "<div>\n",
       "<style scoped>\n",
       "    .dataframe tbody tr th:only-of-type {\n",
       "        vertical-align: middle;\n",
       "    }\n",
       "\n",
       "    .dataframe tbody tr th {\n",
       "        vertical-align: top;\n",
       "    }\n",
       "\n",
       "    .dataframe thead th {\n",
       "        text-align: right;\n",
       "    }\n",
       "</style>\n",
       "<table border=\"1\" class=\"dataframe\">\n",
       "  <thead>\n",
       "    <tr style=\"text-align: right;\">\n",
       "      <th></th>\n",
       "      <th>4000.122</th>\n",
       "      <th>3999.64</th>\n",
       "      <th>3999.158</th>\n",
       "      <th>3998.676</th>\n",
       "      <th>3998.194</th>\n",
       "      <th>3997.712</th>\n",
       "      <th>3997.23</th>\n",
       "      <th>3996.747</th>\n",
       "      <th>3996.265</th>\n",
       "      <th>3995.783</th>\n",
       "      <th>...</th>\n",
       "      <th>653.75</th>\n",
       "      <th>653.268</th>\n",
       "      <th>652.786</th>\n",
       "      <th>652.304</th>\n",
       "      <th>651.822</th>\n",
       "      <th>651.34</th>\n",
       "      <th>650.858</th>\n",
       "      <th>650.376</th>\n",
       "      <th>649.893</th>\n",
       "      <th>16158804.55800001</th>\n",
       "    </tr>\n",
       "  </thead>\n",
       "  <tbody>\n",
       "    <tr>\n",
       "      <th>0</th>\n",
       "      <td>0.000788</td>\n",
       "      <td>0.000813</td>\n",
       "      <td>0.000840</td>\n",
       "      <td>0.000858</td>\n",
       "      <td>0.000862</td>\n",
       "      <td>0.000843</td>\n",
       "      <td>0.000797</td>\n",
       "      <td>0.000719</td>\n",
       "      <td>0.000609</td>\n",
       "      <td>0.000476</td>\n",
       "      <td>...</td>\n",
       "      <td>0.011951</td>\n",
       "      <td>0.013370</td>\n",
       "      <td>0.014849</td>\n",
       "      <td>0.016154</td>\n",
       "      <td>0.017089</td>\n",
       "      <td>0.017538</td>\n",
       "      <td>0.017469</td>\n",
       "      <td>0.016946</td>\n",
       "      <td>0.016094</td>\n",
       "      <td>0.0</td>\n",
       "    </tr>\n",
       "    <tr>\n",
       "      <th>1</th>\n",
       "      <td>0.001095</td>\n",
       "      <td>0.001078</td>\n",
       "      <td>0.001086</td>\n",
       "      <td>0.001114</td>\n",
       "      <td>0.001151</td>\n",
       "      <td>0.001180</td>\n",
       "      <td>0.001182</td>\n",
       "      <td>0.001144</td>\n",
       "      <td>0.001064</td>\n",
       "      <td>0.000951</td>\n",
       "      <td>...</td>\n",
       "      <td>0.012086</td>\n",
       "      <td>0.011914</td>\n",
       "      <td>0.011799</td>\n",
       "      <td>0.011801</td>\n",
       "      <td>0.011938</td>\n",
       "      <td>0.012208</td>\n",
       "      <td>0.012600</td>\n",
       "      <td>0.013097</td>\n",
       "      <td>0.013664</td>\n",
       "      <td>0.0</td>\n",
       "    </tr>\n",
       "    <tr>\n",
       "      <th>2</th>\n",
       "      <td>0.000099</td>\n",
       "      <td>0.000153</td>\n",
       "      <td>0.000288</td>\n",
       "      <td>0.000470</td>\n",
       "      <td>0.000658</td>\n",
       "      <td>0.000814</td>\n",
       "      <td>0.000909</td>\n",
       "      <td>0.000928</td>\n",
       "      <td>0.000871</td>\n",
       "      <td>0.000755</td>\n",
       "      <td>...</td>\n",
       "      <td>0.010487</td>\n",
       "      <td>0.011307</td>\n",
       "      <td>0.012372</td>\n",
       "      <td>0.013532</td>\n",
       "      <td>0.014614</td>\n",
       "      <td>0.015469</td>\n",
       "      <td>0.015986</td>\n",
       "      <td>0.016134</td>\n",
       "      <td>0.015954</td>\n",
       "      <td>0.0</td>\n",
       "    </tr>\n",
       "    <tr>\n",
       "      <th>3</th>\n",
       "      <td>0.001685</td>\n",
       "      <td>0.001802</td>\n",
       "      <td>0.001903</td>\n",
       "      <td>0.001975</td>\n",
       "      <td>0.002017</td>\n",
       "      <td>0.002031</td>\n",
       "      <td>0.002019</td>\n",
       "      <td>0.001983</td>\n",
       "      <td>0.001925</td>\n",
       "      <td>0.001851</td>\n",
       "      <td>...</td>\n",
       "      <td>0.008177</td>\n",
       "      <td>0.008240</td>\n",
       "      <td>0.008484</td>\n",
       "      <td>0.008982</td>\n",
       "      <td>0.009749</td>\n",
       "      <td>0.010722</td>\n",
       "      <td>0.011752</td>\n",
       "      <td>0.012653</td>\n",
       "      <td>0.013254</td>\n",
       "      <td>0.0</td>\n",
       "    </tr>\n",
       "    <tr>\n",
       "      <th>4</th>\n",
       "      <td>0.002118</td>\n",
       "      <td>0.002196</td>\n",
       "      <td>0.002266</td>\n",
       "      <td>0.002324</td>\n",
       "      <td>0.002369</td>\n",
       "      <td>0.002404</td>\n",
       "      <td>0.002435</td>\n",
       "      <td>0.002460</td>\n",
       "      <td>0.002472</td>\n",
       "      <td>0.002461</td>\n",
       "      <td>...</td>\n",
       "      <td>0.009831</td>\n",
       "      <td>0.010143</td>\n",
       "      <td>0.010621</td>\n",
       "      <td>0.011171</td>\n",
       "      <td>0.011728</td>\n",
       "      <td>0.012274</td>\n",
       "      <td>0.012824</td>\n",
       "      <td>0.013402</td>\n",
       "      <td>0.014003</td>\n",
       "      <td>0.0</td>\n",
       "    </tr>\n",
       "  </tbody>\n",
       "</table>\n",
       "<p>5 rows × 6951 columns</p>\n",
       "</div>"
      ],
      "text/plain": [
       "   4000.122   3999.64  3999.158  3998.676  3998.194  3997.712   3997.23  \\\n",
       "0  0.000788  0.000813  0.000840  0.000858  0.000862  0.000843  0.000797   \n",
       "1  0.001095  0.001078  0.001086  0.001114  0.001151  0.001180  0.001182   \n",
       "2  0.000099  0.000153  0.000288  0.000470  0.000658  0.000814  0.000909   \n",
       "3  0.001685  0.001802  0.001903  0.001975  0.002017  0.002031  0.002019   \n",
       "4  0.002118  0.002196  0.002266  0.002324  0.002369  0.002404  0.002435   \n",
       "\n",
       "   3996.747  3996.265  3995.783  ...    653.75   653.268   652.786   652.304  \\\n",
       "0  0.000719  0.000609  0.000476  ...  0.011951  0.013370  0.014849  0.016154   \n",
       "1  0.001144  0.001064  0.000951  ...  0.012086  0.011914  0.011799  0.011801   \n",
       "2  0.000928  0.000871  0.000755  ...  0.010487  0.011307  0.012372  0.013532   \n",
       "3  0.001983  0.001925  0.001851  ...  0.008177  0.008240  0.008484  0.008982   \n",
       "4  0.002460  0.002472  0.002461  ...  0.009831  0.010143  0.010621  0.011171   \n",
       "\n",
       "    651.822    651.34   650.858   650.376   649.893  16158804.55800001  \n",
       "0  0.017089  0.017538  0.017469  0.016946  0.016094                0.0  \n",
       "1  0.011938  0.012208  0.012600  0.013097  0.013664                0.0  \n",
       "2  0.014614  0.015469  0.015986  0.016134  0.015954                0.0  \n",
       "3  0.009749  0.010722  0.011752  0.012653  0.013254                0.0  \n",
       "4  0.011728  0.012274  0.012824  0.013402  0.014003                0.0  \n",
       "\n",
       "[5 rows x 6951 columns]"
      ]
     },
     "execution_count": 17,
     "metadata": {},
     "output_type": "execute_result"
    }
   ],
   "source": [
    "# Extract FTIR Spectrum Data\n",
    "ftir_data = data.iloc[:, 4:-1]  # Exclude metadata columns and last column with NaN values\n",
    "ftir_data = ftir_data.apply(pd.to_numeric, errors='coerce').fillna(0)  # Convert to numeric and handle NaNs\n",
    "\n",
    "ftir_data.head()"
   ]
  },
  {
   "cell_type": "markdown",
   "metadata": {},
   "source": [
    "PCA"
   ]
  },
  {
   "cell_type": "code",
   "execution_count": null,
   "metadata": {},
   "outputs": [],
   "source": [
    "# Perform PCA (n=2)\n",
    "pca_1 = PCA(n_components=2, random_state=42)\n",
    "pca_transformed_data_1 = pca_1.fit_transform(ftir_data)"
   ]
  },
  {
   "cell_type": "markdown",
   "metadata": {},
   "source": [
    "Plot PCA Results with Confidence Ellipses"
   ]
  },
  {
   "cell_type": "code",
   "execution_count": null,
   "metadata": {},
   "outputs": [
    {
     "data": {
      "image/png": "[encoded data removed]",
      "text/plain": [
       "<Figure size 1000x600 with 1 Axes>"
      ]
     },
     "metadata": {},
     "output_type": "display_data"
    }
   ],
   "source": [
    "def plot_confidence_ellipse(ax, data, color, n_std=2.0, **kwargs):\n",
    "    cov = np.cov(data, rowvar=False)\n",
    "    mean = np.mean(data, axis=0)\n",
    "    pearson = cov[0, 1] / np.sqrt(cov[0, 0] * cov[1, 1])\n",
    "    ell_radius_x = np.sqrt(1 + pearson)\n",
    "    ell_radius_y = np.sqrt(1 - pearson)\n",
    "    ellipse = Ellipse((0, 0),\n",
    "                      width=ell_radius_x * 2 * n_std,\n",
    "                      height=ell_radius_y * 2 * n_std,\n",
    "                      facecolor=color, edgecolor='none', alpha=0.2, **kwargs)\n",
    "    scale_x = np.sqrt(cov[0, 0]) * n_std\n",
    "    scale_y = np.sqrt(cov[1, 1]) * n_std\n",
    "    mean_x, mean_y = mean\n",
    "    transf = (transforms.Affine2D()\n",
    "              .rotate_deg(45)\n",
    "              .scale(scale_x, scale_y)\n",
    "              .translate(mean_x, mean_y))\n",
    "    ellipse.set_transform(transf + ax.transData)\n",
    "    return ax.add_patch(ellipse)\n",
    "\n",
    "plt.figure(figsize=(10, 6))\n",
    "scatter = plt.scatter(pca_transformed_data_1[:, 0], pca_transformed_data_1[:, 1], alpha=0.6)\n",
    "plt.xlabel('Principal Component 1')\n",
    "plt.ylabel('Principal Component 2')\n",
    "plt.title('PCA of FTIR Data with Confidence Ellipses')\n",
    "\n",
    "ax = plt.gca()\n",
    "plot_confidence_ellipse(ax, pca_transformed_data_1, 'blue')\n",
    "\n",
    "plt.show()\n"
   ]
  },
  {
   "cell_type": "code",
   "execution_count": 22,
   "metadata": {},
   "outputs": [
    {
     "data": {
      "image/png": "[encoded data removed]",
      "text/plain": [
       "<Figure size 1000x600 with 1 Axes>"
      ]
     },
     "metadata": {},
     "output_type": "display_data"
    }
   ],
   "source": [
    "def plot_confidence_ellipse(ax, data, color, n_std=2.0, **kwargs):\n",
    "    cov = np.cov(data, rowvar=False)\n",
    "    mean = np.mean(data, axis=0)\n",
    "    pearson = cov[0, 1] / np.sqrt(cov[0, 0] * cov[1, 1])\n",
    "    ell_radius_x = np.sqrt(1 + pearson)\n",
    "    ell_radius_y = np.sqrt(1 - pearson)\n",
    "    ellipse = Ellipse((0, 0),\n",
    "                      width=ell_radius_x * 2 * n_std,\n",
    "                      height=ell_radius_y * 2 * n_std,\n",
    "                      facecolor=color, edgecolor='none', alpha=0.2, **kwargs)\n",
    "    scale_x = np.sqrt(cov[0, 0]) * n_std\n",
    "    scale_y = np.sqrt(cov[1, 1]) * n_std\n",
    "    mean_x, mean_y = mean\n",
    "    transf = (transforms.Affine2D()\n",
    "              .rotate_deg(45)\n",
    "              .scale(scale_x, scale_y)\n",
    "              .translate(mean_x, mean_y))\n",
    "    ellipse.set_transform(transf + ax.transData)\n",
    "    return ax.add_patch(ellipse)\n",
    "\n",
    "# Color by country using viridis palette\n",
    "unique_countries = data['country_name'].unique()\n",
    "colors = plt.cm.viridis(np.linspace(0, 1, len(unique_countries)))\n",
    "\n",
    "plt.figure(figsize=(10, 6))\n",
    "for country, color in zip(unique_countries, colors):\n",
    "    idx = data['country_name'] == country\n",
    "    plt.scatter(pca_transformed_data_1[idx, 0], pca_transformed_data_1[idx, 1], label=country, alpha=0.8, color=color)\n",
    "    plot_confidence_ellipse(plt.gca(), pca_transformed_data_1[idx], color=color)\n",
    "\n",
    "plt.xlabel('Principal Component 1')\n",
    "plt.ylabel('Principal Component 2')\n",
    "plt.title('PCA of FTIR Data with Confidence Ellipses')\n",
    "plt.legend(title='Country')\n",
    "plt.show()"
   ]
  },
  {
   "cell_type": "markdown",
   "metadata": {},
   "source": [
    "PCA Loadings"
   ]
  },
  {
   "cell_type": "code",
   "execution_count": 25,
   "metadata": {},
   "outputs": [
    {
     "data": {
      "image/png": "[encoded data removed]",
      "text/plain": [
       "<Figure size 1400x800 with 1 Axes>"
      ]
     },
     "metadata": {},
     "output_type": "display_data"
    }
   ],
   "source": [
    "from scipy.ndimage import gaussian_filter1d\n",
    "\n",
    "\n",
    "# Smooth the PCA loadings\n",
    "def smooth_loadings(loadings, sigma=2):\n",
    "    return gaussian_filter1d(loadings, sigma=sigma)\n",
    "\n",
    "smoothed_pc1_loadings = smooth_loadings(pca_1.components_[0])\n",
    "smoothed_pc2_loadings = smooth_loadings(pca_1.components_[1])\n",
    "\n",
    "# Assuming the columns represent wavenumbers\n",
    "wavenumbers = np.linspace(4000, 650, ftir_data.shape[1])  # Adjust to match the actual wavenumber range\n",
    "\n",
    "# Plot PCA loadings for PC1\n",
    "plt.figure(figsize=(14, 8))\n",
    "plt.plot(wavenumbers, smoothed_pc1_loadings, label='PC1 Loadings')\n",
    "plt.axhline(0, color='gray', linestyle='dashed')\n",
    "plt.xlabel('Wavenumber (cm⁻¹)')\n",
    "plt.ylabel('Loading')\n",
    "plt.title('PCA Loadings - PC1')\n",
    "plt.legend()\n",
    "\n",
    "# Improve x-axis readability by setting ticks every 500 cm⁻¹ and reversing the axis\n",
    "plt.xticks(np.arange(4000, 649, -500))  # Ticks from 4000 to 650 cm⁻¹\n",
    "plt.gca().invert_xaxis()  # Reverse the x-axis\n",
    "\n",
    "plt.show()"
   ]
  },
  {
   "cell_type": "code",
   "execution_count": 26,
   "metadata": {},
   "outputs": [
    {
     "data": {
      "image/png": "[encoded data removed]",
      "text/plain": [
       "<Figure size 1400x800 with 1 Axes>"
      ]
     },
     "metadata": {},
     "output_type": "display_data"
    }
   ],
   "source": [
    "# Plot PCA loadings for PC2\n",
    "plt.figure(figsize=(14, 8))\n",
    "plt.plot(wavenumbers, smoothed_pc2_loadings, label='PC2 Loadings')\n",
    "plt.axhline(0, color='gray', linestyle='dashed')\n",
    "plt.xlabel('Wavenumber (cm⁻¹)')\n",
    "plt.ylabel('Loading')\n",
    "plt.title('PCA Loadings - PC2')\n",
    "plt.legend()\n",
    "\n",
    "# Improve x-axis readability by setting ticks every 500 cm⁻¹ and reversing the axis\n",
    "plt.xticks(np.arange(4000, 649, -500))  # Ticks from 4000 to 650 cm⁻¹\n",
    "plt.gca().invert_xaxis()  # Reverse the x-axis\n",
    "\n",
    "plt.show()"
   ]
  },
  {
   "cell_type": "code",
   "execution_count": 28,
   "metadata": {},
   "outputs": [
    {
     "name": "stdout",
     "output_type": "stream",
     "text": [
      "\n",
      "PCA Loadings Table:\n",
      "                         PC1       PC2\n",
      "4000.122           0.001108  0.001255\n",
      "3999.64            0.001099  0.001254\n",
      "3999.158           0.001094  0.001250\n",
      "3998.676           0.001094  0.001247\n",
      "3998.194           0.001099  0.001244\n",
      "...                     ...       ...\n",
      "651.34             0.000447 -0.001176\n",
      "650.858            0.000416 -0.001105\n",
      "650.376            0.000387 -0.001051\n",
      "649.893            0.000360 -0.001018\n",
      "16158804.55800001  0.000000  0.000000\n",
      "\n",
      "[6951 rows x 2 columns]\n"
     ]
    }
   ],
   "source": [
    "\n",
    "print(\"\\nPCA Loadings Table:\\n\", loading_df)"
   ]
  },
  {
   "cell_type": "code",
   "execution_count": 29,
   "metadata": {},
   "outputs": [
    {
     "name": "stdout",
     "output_type": "stream",
     "text": [
      "Top 10 Most Influential Wavenumbers for PC1:\n",
      "       Wavenumber       PC1\n",
      "6086  1066.460432  0.062696\n",
      "6087  1065.978417  0.062661\n",
      "6085  1066.942446  0.062177\n",
      "6088  1065.496403  0.062093\n",
      "6084  1067.424460  0.061201\n",
      "6089  1065.014388  0.061112\n",
      "6106  1056.820144  0.060689\n",
      "6107  1056.338129  0.060617\n",
      "6105  1057.302158  0.060602\n",
      "6108  1055.856115  0.060460\n",
      "Top 10 Most Influential Wavenumbers for PC2:\n",
      "       Wavenumber       PC2\n",
      "4763  1704.165468  0.079334\n",
      "4764  1703.683453  0.079316\n",
      "4762  1704.647482  0.079199\n",
      "4765  1703.201439  0.079151\n",
      "4761  1705.129496  0.078897\n",
      "4766  1702.719424  0.078837\n",
      "4760  1705.611511  0.078424\n",
      "4767  1702.237410  0.078357\n",
      "4759  1706.093525  0.077793\n",
      "4768  1701.755396  0.077697\n"
     ]
    }
   ],
   "source": [
    "loading_df = pd.DataFrame({\n",
    "    'Wavenumber': wavenumbers,\n",
    "    'PC1': smoothed_pc1_loadings,\n",
    "    'PC2': smoothed_pc2_loadings\n",
    "})\n",
    "\n",
    "# Select top 10 most influential wavenumbers for PC1 and PC2\n",
    "top_n = 10\n",
    "top_pc1 = loading_df.reindex(loading_df['PC1'].abs().sort_values(ascending=False).index).head(top_n)\n",
    "top_pc2 = loading_df.reindex(loading_df['PC2'].abs().sort_values(ascending=False).index).head(top_n)\n",
    "\n",
    "print(\"Top 10 Most Influential Wavenumbers for PC1:\")\n",
    "print(top_pc1[['Wavenumber', 'PC1']])\n",
    "\n",
    "print(\"Top 10 Most Influential Wavenumbers for PC2:\")\n",
    "print(top_pc2[['Wavenumber', 'PC2']])"
   ]
  },
  {
   "cell_type": "markdown",
   "metadata": {},
   "source": [
    "PCA (n=5)"
   ]
  },
  {
   "cell_type": "code",
   "execution_count": 31,
   "metadata": {},
   "outputs": [],
   "source": [
    "pca_2 = PCA(n_components=5, random_state=42)\n",
    "pca_transformed_data_2 = pca_2.fit_transform(ftir_data)"
   ]
  },
  {
   "cell_type": "code",
   "execution_count": 35,
   "metadata": {},
   "outputs": [
    {
     "data": {
      "application/vnd.plotly.v1+json": {
       "config": {
        "plotlyServerURL": "https://plot.ly"
       },
       "data": [
        {
         "hovertemplate": "PC1=%{x}<br>PC2=%{y}<br>PC3=%{z}<extra></extra>",
         "legendgroup": "",
         "marker": {
          "color": "#636efa",
          "symbol": "circle"
         },
         "mode": "markers",
         "name": "",
         "scene": "scene",
         "showlegend": false,
         "type": "scatter3d",
         "x": [
          -0.28820047630623563,
          -0.27083983923114,
          -0.286418247279534,
          -0.2581494405953496,
          -0.2667143395737119,
          -0.24734432910280452,
          -0.2316502043990709,
          -0.22103916196171527,
          -0.23296597274414277,
          -0.15904551865199434,
          -0.18036432695848306,
          -0.16911391732196057,
          -0.17465441562560405,
          -0.1769919256734713,
          -0.17356861257055936,
          -0.18133801768650679,
          -0.18007998917341106,
          -0.18586065566886648,
          -0.15695599398531754,
          -0.1538675186580832,
          -0.15747026863741687,
          -0.13996501012878731,
          -0.13629376913403424,
          -0.12550299109344007,
          -0.11301122930639834,
          -0.11331332953787425,
          -0.1067941434248576,
          -0.14307332202658454,
          -0.1600681810610461,
          -0.16299229814939845,
          -0.16281956268960648,
          -0.18031727380812532,
          -0.18976758132805557,
          -0.20089922366501473,
          -0.22045834291350463,
          -0.23776281012430694,
          0.06606131186030872,
          -0.0007490368381560718,
          0.09263600145725207,
          0.03386413659380716,
          0.10404607991777942,
          0.4756745706111732,
          0.3711189484650532,
          -0.16820796417335698,
          -0.17533675130430584,
          -0.17618087741697272,
          -0.17218499148317526,
          -0.17858088649589024,
          -0.20287646462648376,
          -0.2125865149573174,
          -0.2313659441222593,
          -0.2423912062224006,
          -0.007072834744362849,
          0.010817176025393824,
          0.03135910957955824,
          0.06424317258346572,
          0.09123506386755012,
          0.0940867353456698,
          0.09018201056145718,
          0.07882573740913806,
          0.0985022755011421,
          -0.08661486984549742,
          -0.1311001441654391,
          -0.06606110938630234,
          -0.017994940236285256,
          -0.0010609563138451663,
          -0.0061165372159786915,
          -0.006702842832733211,
          -0.03265494011925095,
          -0.07464659249126514,
          -0.01233352372024196,
          -0.12952522287642557,
          -0.07488941224754615,
          -0.04287847949727598,
          -0.0373328976193528,
          -0.01899922094496569,
          -0.2162529784084235,
          -0.22159398423159365,
          -0.21584967767503843,
          -0.24496418080169136,
          -0.24624757523062646,
          -0.2777181014482661,
          -0.31211391225243207,
          -0.3182476400119652,
          -0.35578353627293696,
          -0.18577341042719903,
          -0.019651514266854693,
          -0.19073465237403164,
          -0.0316375760220236,
          -0.19437815411757114,
          -0.051116617029075176,
          -0.19975288798046048,
          -0.19141323497399146,
          -0.16494917605339757,
          -0.14719145491899258,
          -0.1396598084464091,
          -0.12614391997927432,
          -0.20650416285246206,
          -0.08189208605301583,
          -0.09961452289865273,
          -0.1158000407185877,
          -0.18550642876130904,
          -0.14414741773267406,
          -0.14435157763257517,
          -0.12339313632786426,
          -0.12587928510948176,
          -0.17973674515193713,
          -0.17483703624820268,
          -0.1086597706855959,
          -0.11234686985950253,
          -0.14212023888564101,
          -0.1174641227793925,
          -0.11403028354595861,
          4.087279735754571,
          5.866037307931672,
          6.455456106149387,
          6.64181974197586,
          6.600810528025512,
          6.516070675544329,
          6.368449398561637,
          6.232633231879823,
          5.955513803623918,
          -0.1569857200518768,
          -0.15379943335699434,
          -0.1365153123967049,
          -0.12627789921801105,
          -0.11670231845352706,
          -0.1472814720185161,
          -0.14985921381212958,
          -0.13868523050762008,
          -0.15137462906483362,
          -0.1520615340252987,
          -0.032372333549642744,
          -0.039431254429026695,
          -0.04939925723655444,
          -0.06872376602048857,
          -0.02331750345646194,
          -0.002448309157473241,
          0.006960440961577563,
          0.014389259834241453,
          -0.13783308860253737,
          -0.1299449030251717,
          -0.1411382803817282,
          -0.13318281804532642,
          -0.11245881071563316,
          -0.11220136641665487,
          -0.08643766361179146,
          -0.06845890207094013,
          -0.07324765687250778,
          -0.17513341952268002,
          -0.16847651333704897,
          -0.17199289706304932,
          -0.1696227003897265,
          -0.17225763840308034,
          -0.17805127940516838,
          -0.1534660558099601,
          -0.17279373388699165,
          -0.17013954017674746,
          -0.1594837465734571,
          -0.16860354286722848,
          -0.15430436998551897,
          -0.1101948225498873,
          -0.11672279368046994,
          -0.12018141593080352,
          -0.08291013467788516,
          -0.073123445380566,
          -0.08165243291905565,
          -0.03998823151117111,
          -0.043634118923758486,
          -0.07160948055949104,
          -0.05615836572943977,
          -0.05122021215793099,
          -0.026675669977246894,
          -0.027208694761353427,
          -0.025494173138918746,
          -0.03169492840779516,
          -0.04735813953140857,
          -0.1032474439091804,
          -0.12269282430878774,
          -0.140803292819785,
          -0.2387675464186947,
          -0.06347983729378447,
          -0.0452692049560343,
          0.004861389776981109,
          -0.3233601759713155,
          -0.12163536206651201,
          -0.04723485854801078,
          -0.04118823657081313,
          -0.0619109047907705,
          -0.14482856973695485,
          -0.1535892351635845,
          -0.1295221181940318,
          -0.1299993851649358,
          -0.1374542947685888,
          -0.16976677919601713,
          -0.18627983604577336,
          -0.17517263550776907,
          -0.17924414536927802,
          -0.19396599849921675,
          -0.2032768762038821,
          -0.20056147218325407,
          -0.19996732129258402,
          -0.1981035360282279,
          -0.19324730486124206,
          -0.18505928997493054,
          -0.19758988449390427,
          -0.1961326074837001,
          -0.2609120324384434,
          -0.2507321395497297,
          -0.22450540186526574,
          -0.14595917204147948,
          -0.16108161739214813,
          -0.1364064116975298,
          -0.12123528462329934,
          -0.11060799239137867,
          -0.12814812675156903,
          -0.0939629446186233,
          -0.12416899277934856,
          -0.09534008563189475,
          -0.12471402771062017,
          -0.07444041777019021,
          -0.11158133650693983,
          -0.18070417205682798,
          -0.19333505369488815,
          -0.1830945319126455,
          -0.141538912167866,
          -0.16567985689496126,
          -0.17236661755821475,
          -0.1705706628506232,
          -0.07995351962485492,
          -0.14051487570711338,
          -0.08826169344265596,
          -0.15196330023302587,
          -0.21797689594532124,
          -0.26974122204604667,
          -0.3257823812027704,
          -0.08683910157020032,
          -0.17137752589566516,
          -0.2787725525085927,
          -0.350637357553612,
          0.1348487142219743,
          0.10382833232576523,
          0.050195046596303146,
          -0.019802047570562673,
          -0.0989026268290266,
          -0.12298530466967973,
          -0.1256065812138178,
          -0.1381836630039408,
          -0.15041326965439147,
          -0.046034871453409884,
          -0.006973106457577551,
          0.011839165245758055,
          -0.03781396527298103,
          -0.04209601634457362,
          -0.02079269600687225,
          -0.026849343678941713,
          -0.02872424080403774,
          -0.04115476238981391,
          -0.025384363086204346,
          -0.022022645767080837,
          -0.052831298856224736,
          -0.06534715197264566,
          -0.009718828273963384,
          -0.07492249363949335,
          0.0004143893416528922,
          -0.07831165293542784,
          0.0014538293264343418,
          -0.08292075648153625,
          -0.09953363075224499,
          -0.1969835104005339,
          -0.2115937123603038,
          -0.2169206448644196,
          -0.22808075789666205,
          -0.2408195383966865,
          -0.24112322265686958,
          -0.25455597478943043,
          -0.26442994700374367,
          -0.27858938715633574,
          -0.005452688307335402,
          -0.02528714325427447,
          0.005067185496736488,
          -0.045431111420597456,
          0.017997775248926588,
          -0.193324375899764,
          -0.16961537791648734,
          -0.1824193303010658,
          -0.19023663963641452,
          -0.21196700869687038,
          -0.21658394282390828,
          -0.224107877959905,
          -0.22159945381082313,
          -0.22418877047571192,
          -0.19784093575062509,
          -0.21005662103106418,
          -0.21820321269987725,
          -0.17664860863093246,
          -0.18964201325390234,
          -0.17028936178618634,
          -0.21314513806702906,
          -0.16710805373444648,
          -0.22237749600032325,
          -0.1692210129808682,
          -0.23391704805205,
          -0.15986479307505036,
          -0.24321752531129795,
          -0.16401120989210138,
          -0.2585089582029571,
          -0.15417453249400984,
          -0.2622823741171725,
          -0.17365514977055208,
          -0.2702508079151979,
          -0.1686190028163556,
          -0.2717716918714671,
          -0.19199916907951117,
          -0.8411902552558382,
          -0.20326237143860496,
          -0.2208628224048492,
          -0.23835179279693455,
          -0.22666904004741467,
          -0.2642111566794855,
          -0.2483719508504758,
          -0.2899969919102459,
          -0.29514947603356295,
          -0.25652109472679424,
          -0.03022100939587374,
          -0.03134279884268212,
          -0.016050744189931198,
          0.0019750598020456533,
          -0.01639817865460978,
          -0.03906915186962277,
          -0.11592197977281543,
          -0.08563024500669116,
          -0.012404694062814938,
          -0.03978471199414482,
          -0.012060523245712735,
          -0.0313258798290104,
          -0.05200095105881588,
          -0.03105093047594026,
          -0.0381108425969784,
          -0.044228111542028964,
          -0.13878986336385743,
          -0.12418225323232954,
          -0.11849805496773035,
          -0.12016766378009164,
          -0.11520331721883312,
          -0.12283986517292966,
          -0.11812325327677338,
          -0.12009778815258057,
          -0.11917207932205441,
          -0.1183718761003865,
          -0.04454592131513273,
          -0.055214333157063,
          -0.042291605940682514,
          -0.15403923927492252,
          -0.2213984329292743,
          -0.2900219487404337,
          -0.09353436145639449,
          -0.10757764281984256,
          -0.11968770443957066,
          -0.07394267999048967,
          -0.11315641790333013,
          -0.06353071584526981,
          -0.13755598727500754,
          -0.046895275411330144,
          -0.14041443659358635,
          -0.006620988572798016,
          0.03392216380167438,
          0.001732090965150639,
          -0.18244386939127474,
          -2.0239651561910232,
          -0.18218238136228834,
          -0.191478268809462,
          -0.18452974296985275,
          -0.18548275671216802,
          -0.17595896357107732,
          -0.18397442119206314,
          -0.1772521527979911,
          -0.17396822079951133,
          -0.1700019068399957,
          -0.17432974162350634,
          -0.09297829473112804,
          -0.09846499941395195,
          -0.0925606862976384,
          -0.1173699203280879,
          -0.09422237263537675,
          -0.14067479920777326,
          -0.16639814156045024,
          -0.15859688450220957,
          -0.1544272761101539,
          -0.15320128514317471,
          -0.1726753749507893,
          -0.16679822828849464,
          -0.17385726341845067,
          -0.0862156988379777,
          -0.1604692163667853,
          -0.07795802756643488,
          -0.09550687928405487,
          -0.10389656106807417,
          0.00413178940715903,
          -0.003737004455808987,
          -0.00962104725881667,
          -0.15743058712393718,
          -0.15626043286867833,
          -0.14962076923014409,
          -0.13372530042988479,
          -0.13697897530519687,
          -0.1258217662678105,
          0.20284150591646147,
          -0.1742944514834674,
          -0.14646923281992147,
          -0.13531336678940592,
          -0.16268614505936527,
          -0.16621394729255712,
          -0.16108341068435392,
          -0.1534369418182913,
          -0.15626747743496308,
          -0.14381380818873615,
          -0.14218410096383022,
          -0.14616143949612875,
          -0.15018939643611992,
          0.04731885540243957,
          0.041071982475177904,
          -0.11946685033267829,
          -0.09910141660937702,
          -0.05526173569768233,
          -0.029264596450102816,
          0.007145041976859487,
          0.03262065412967888,
          0.04287566668730849,
          0.0653252129827676,
          0.08566881071802433,
          -0.043384703607865185,
          -0.052222385283033156,
          -0.04073871026309138,
          -0.013615705309322797,
          -0.04975088268777791,
          0.012650718751571418,
          -0.009820341982814815,
          -0.02302292218779766,
          -0.026183130648543333,
          -0.07159285984663986,
          -0.051316959807896745,
          -0.08405880468883474,
          -0.11575490831608941,
          0.10786733006031911,
          0.09731804251932868,
          0.054288042980313735
         ],
         "y": [
          -0.02050078027919342,
          -0.007165227767124472,
          -0.025905792866263277,
          0.011221903763026618,
          0.006339189087585772,
          0.02043666398096559,
          0.042540781632417285,
          0.04511570263550936,
          0.044999565413906394,
          -0.027765453697767596,
          -0.055313831704404924,
          -0.038160542926470566,
          -0.0484043250583877,
          -0.055452800279540665,
          -0.04461863311054315,
          -0.05312345421851908,
          -0.04502689914288672,
          -0.05289242098950171,
          -0.055560694463780105,
          -0.052841874744384884,
          -0.056937208422140125,
          -0.04439371303231577,
          -0.04060436113320644,
          -0.03692706383387914,
          -0.023647745213917954,
          -0.031928063975370555,
          -0.024209971931554834,
          -0.06909664671937948,
          -0.08049525236379548,
          -0.07040593671681261,
          -0.07125060565646421,
          -0.07142782214859303,
          -0.06567399325912801,
          -0.06660012201084271,
          -0.07588240696383781,
          -0.06923818384441446,
          -0.0809040486091412,
          -0.13166057394823055,
          -0.057683331841036876,
          -0.017497160681947517,
          -0.05049159048624843,
          1.3309200195386428,
          1.1566051962601434,
          -0.04769279672862078,
          -0.055321629362089134,
          -0.04722621917313341,
          -0.04167952203870973,
          -0.0407897873452811,
          -0.05207642406043498,
          -0.055978667050718744,
          -0.05106497965920413,
          -0.05598842070230508,
          -0.14977542103308633,
          -0.1483028045195894,
          -0.1479177073391378,
          1.686255738828755,
          1.7192430455473597,
          1.7065014882512939,
          1.6786833471653426,
          1.6016514802551731,
          1.6631132497995127,
          1.0686519257034168,
          0.9135917128955967,
          1.177142063523693,
          0.928793844313601,
          0.9657706696841855,
          0.9608699834242902,
          0.953006097354736,
          0.9093736490395647,
          0.9161470746549053,
          1.1219989779658044,
          0.7639739213915373,
          0.8129439916815534,
          -0.10007535778956939,
          -0.08606599774090974,
          -0.07139659874921013,
          -0.07159158437155805,
          -0.08238384144915309,
          -0.08160281150617833,
          -0.10014993811249387,
          -0.11311308362887627,
          -0.1518131434436534,
          -0.19331081761341373,
          -0.20224070052799023,
          -0.25104098518951806,
          -0.032869170254917805,
          -0.05063040230923778,
          -0.03332785583164217,
          -0.061860257234344206,
          -0.028029882378517522,
          -0.07665712714428462,
          -0.0488165676520784,
          -0.04305526323783249,
          0.003331999264393021,
          0.014301421175573113,
          0.024863273807964263,
          0.027999883744848835,
          -0.058229605757019985,
          -0.0443346318634807,
          -0.05711873170921906,
          -0.06772505066528794,
          -0.04014172203066753,
          0.000025064586213179543,
          0.003052115001098538,
          0.030967692784258618,
          0.03027381775755662,
          -0.06956387754278513,
          -0.08132849223188392,
          0.05647228668124536,
          0.04141684481734152,
          0.006729714197986745,
          0.0419802959156645,
          0.045357053987908284,
          -0.0805279086848625,
          -0.07059152793092899,
          -0.1044261487451675,
          -0.12150314884028678,
          -0.06368159558130791,
          -0.08032480016073387,
          -0.03611138088894398,
          -0.059716707536042614,
          -0.06324412037445983,
          -0.017196698817161595,
          -0.00988982291567009,
          0.005365324442766808,
          0.020671174075546826,
          0.04097118217578079,
          -0.030190118544508333,
          -0.012709163286608979,
          -0.03942374223315648,
          -0.05004462648329611,
          -0.03970544529629935,
          -0.10911655449143502,
          -0.11339961050209929,
          -0.13009325153021623,
          -0.12131318001985643,
          -0.11100329318748127,
          -0.1226227198720428,
          -0.11568396651961659,
          -0.10955369273074665,
          -0.0538113483290587,
          -0.04823166234470823,
          -0.05846970759103968,
          -0.05812514555156101,
          -0.037344598366440634,
          -0.05006011337772601,
          -0.02454052653272293,
          -0.00913667546537713,
          -0.013723652729294683,
          -0.04942327554475504,
          -0.03276763965557694,
          -0.03352372978123636,
          -0.03992187334553712,
          -0.03724195520542377,
          -0.03549071926578428,
          -0.021514309010061093,
          -0.03481945159810546,
          -0.026116440962243564,
          -0.036740401921338754,
          -0.033722593978456734,
          -0.06327595562757804,
          -0.0048474162579622655,
          -0.010964060470221698,
          -0.023921314040123,
          0.02580082544656373,
          0.023507267051219343,
          0.013676066856078608,
          0.061834335882456064,
          0.053492274734344245,
          -0.14438187522281046,
          -0.14677778127884084,
          -0.14279872983678155,
          -0.14228592859258762,
          -0.1482177395787994,
          -0.06697030894615133,
          -0.07221812185978684,
          -0.08416887970430255,
          -0.05957251673531691,
          -0.06669804455466474,
          -0.06967744685019021,
          -0.04846975504810157,
          -0.021957349587920415,
          -0.0047697218507868604,
          -0.09096756312493598,
          -0.060661944380059056,
          -0.08321168475345583,
          -0.1288666479097511,
          -0.12008110903818324,
          -0.12798341490623108,
          -0.03493910375036557,
          -0.03631980989567738,
          -0.013679392631139094,
          -0.015181819863960123,
          -0.01937513120048777,
          -0.05275965993012869,
          -0.0704212885686956,
          -0.054915143333513744,
          -0.07845305168757286,
          0.026533114484966716,
          0.021773142811798755,
          0.0246135214625546,
          0.02602875835733087,
          0.028253346251924098,
          0.031221355176541836,
          0.04214865053986287,
          0.023388457398785912,
          0.029562725889435718,
          -0.1538378161013413,
          -0.1501178363423521,
          -0.1383498738256696,
          0.0006580324280630803,
          -0.0004781882877097995,
          0.016243051094254533,
          0.040963925664537174,
          0.05695030804510768,
          0.03566269066275395,
          0.0787466444647644,
          0.04143994782680552,
          0.07899879870781423,
          0.04913541668750106,
          0.10856633183839802,
          0.0547892766420835,
          -0.02764444465327265,
          -0.03511058069188366,
          -0.025429706072835453,
          0.023480571022251984,
          -0.003870800380874699,
          -0.01633082662538278,
          -0.01073701456525542,
          0.08114930224669435,
          0.01988379172889087,
          -0.09115802820097861,
          -0.10506014079702125,
          -0.12184289864362786,
          -0.12727465112307337,
          -0.14476903709775105,
          -0.09594585249828007,
          -0.17047800891145795,
          -0.2530158308707682,
          -0.3042329617001058,
          0.045391070585533766,
          0.027922065073837928,
          -0.00919477226711147,
          -0.06561117884029297,
          -0.02811527580567395,
          -0.03298427624642117,
          -0.020405447453779993,
          -0.02190305561292965,
          -0.01962662603741927,
          -0.09691234063378253,
          -0.05173895748164842,
          -0.04377945253378755,
          -0.0979206346099401,
          -0.11154852767811006,
          -0.08899938946499197,
          -0.04487147892944439,
          -0.04292940648330184,
          -0.05449927372008736,
          -0.06002986229657122,
          -0.05653362521464549,
          -0.08155646431880188,
          -0.08976990220300028,
          -0.09060933155673039,
          -0.1307764147366325,
          -0.08028189760190065,
          -0.13263991980806375,
          -0.06861596116424896,
          -0.13861521899150772,
          -0.14730437193234178,
          -0.08699764857409535,
          -0.0966485417960633,
          -0.10587493335200208,
          -0.12139296927615524,
          -0.13635169925955834,
          -0.13370967747938592,
          -0.15396048776029353,
          -0.15809417643088922,
          -0.17397042321957568,
          0.010875990434250983,
          -0.008392980361388261,
          0.023635236209989138,
          -0.1396388537052072,
          -0.09437818271348676,
          -0.12235479002435372,
          -0.09671500428860612,
          -0.10995852543755859,
          -0.09599378598081953,
          -0.10641187304352509,
          -0.11294149205557738,
          -0.10745441919036273,
          -0.10383973527712238,
          -0.08923109358167146,
          -0.06437400859755468,
          -0.07107108673709082,
          -0.08576659681356316,
          -0.013782214612241833,
          -0.03401481859624213,
          -0.008533775348011141,
          -0.06313687042317351,
          -0.004629687081447315,
          -0.0682783107964239,
          -0.00269857045458995,
          -0.07947535816513913,
          0.006797762772279056,
          -0.09427061524712617,
          0.012582353422039916,
          -0.11385600755547284,
          0.011666312266680754,
          -0.12345963065201708,
          -0.005011428562392187,
          -0.12298117793818147,
          0.0048434704594588355,
          -0.12697652707014248,
          -0.06178428828341498,
          -0.9807948131230645,
          -0.070973765385694,
          -0.09634359968198823,
          -0.11813902217629721,
          -0.10203137667803017,
          -0.1429299200543688,
          -0.1317656078692345,
          -0.1718632504211298,
          -0.1701308681184338,
          -0.13618157358560048,
          -0.13383055195777963,
          -0.12414587241913615,
          -0.15878585979785223,
          -0.13084443036029575,
          -0.1629442404013428,
          -0.1611675495615957,
          -0.19224997783762168,
          -0.14874087781801634,
          -0.11926451516420977,
          -0.10683509544024315,
          -0.10438894186490119,
          -0.11214767260891108,
          -0.09193900483507134,
          -0.09579234597647691,
          -0.0904924084013037,
          -0.09317620535854279,
          0.017860436126964082,
          0.0005880393450385616,
          0.0021980980328097795,
          -0.0018649560358616547,
          0.0007328200669176534,
          -0.0036778927178213474,
          -0.004258995982107856,
          -0.004874143857280433,
          -0.011352209987707949,
          -0.003101342138783674,
          -0.10126522527946472,
          -0.1057220851211501,
          -0.09266003359939967,
          -0.135936196903253,
          -0.1869683597277758,
          -0.23538649770406458,
          -0.13814183363040095,
          -0.14972714765120243,
          -0.1607322986131917,
          -0.1322674340933685,
          -0.14774758708075011,
          -0.12189185313597901,
          -0.16642693723116703,
          -0.10745601985641247,
          -0.16933756343378661,
          -0.027876408860934464,
          0.018056789224275914,
          -0.04724026854261267,
          -0.02640619000513567,
          0.7113553073923361,
          -0.022343356927375973,
          -0.022615185910603502,
          -0.020625962478843365,
          -0.017585009966562492,
          0.00432392798769402,
          0.0016215182074018762,
          0.012183142486358238,
          0.02695437675370651,
          -0.006142191113392497,
          -0.002342471562214219,
          -0.051386614747960135,
          -0.04925822114921186,
          -0.04652722131087284,
          -0.07500306971435527,
          -0.061086309922765696,
          -0.040349937056093285,
          -0.06650402099860718,
          -0.06344804659251915,
          -0.06481753499471735,
          -0.06022511482370089,
          -0.07037134829383339,
          -0.06062381534707702,
          -0.06279541534716096,
          -0.003220325266334542,
          -0.0655889723143675,
          -0.14407995966634576,
          -0.16364205555207909,
          -0.18126660039339298,
          -0.10253626915178331,
          -0.11456548908407672,
          -0.13166556795014892,
          -0.048210554898809835,
          -0.047492256707748405,
          -0.04152284054573439,
          -0.03039137514664074,
          -0.020739788998771706,
          -0.011529977865767153,
          0.22820097537145662,
          -0.05139509630923116,
          -0.00994383415348579,
          -0.0021766815369364794,
          -0.05644392998755974,
          -0.06032821548086794,
          -0.06272333909325704,
          -0.06294139205226248,
          -0.06680315086846114,
          -0.06563614369613288,
          -0.06320033268611366,
          -0.06247928205138085,
          -0.06909721758887712,
          0.18036772470143075,
          0.19202843887540014,
          -0.0028086383510582116,
          0.020481461830145917,
          0.06272745444898872,
          0.10260512105363141,
          0.14743607956976487,
          0.1875736540614099,
          0.21039449330788138,
          0.24234039095821244,
          0.2730879809362662,
          -0.11959290620385683,
          -0.12886821470796173,
          -0.10979638261316652,
          -0.14073968304026072,
          -0.17380313495807242,
          -0.07694038381348371,
          -0.10758419430415514,
          -0.1293980338107747,
          -0.17592822241350622,
          -0.21021645997169586,
          -0.18629379666920187,
          -0.19775430651608286,
          -0.20961260643477536,
          -0.06859698315288952,
          -0.06791168736193999,
          -0.11483389734024876
         ],
         "z": [
          -0.06627007219461416,
          -0.0436804683611313,
          -0.06972580668619739,
          -0.022678687445356404,
          -0.023317388038166013,
          -0.007016338042487676,
          0.024993333981901924,
          0.024924452912248523,
          0.030909185132896765,
          0.047784721822881925,
          0.01650916865933957,
          0.038825728556664545,
          0.029765619385108695,
          0.021393455499812898,
          0.035833370323778445,
          0.026627380027226172,
          0.03290671042656608,
          0.02849907684736593,
          0.005788948780713631,
          0.013633624361031256,
          0.005622443699946194,
          0.020346516603601005,
          0.033312152512999314,
          0.034624991115858,
          0.0529014407605018,
          0.04695566451447624,
          0.05476973556963042,
          0.034783437869260546,
          0.026441228031968887,
          0.03361640428962494,
          0.039486080329921826,
          0.0409491811789739,
          0.04527849181574598,
          0.052096615752206754,
          0.02096163371040924,
          0.039124277796083046,
          0.11121586683534598,
          0.03831276532351757,
          0.14257484473937718,
          0.03773470767689331,
          0.1543332996657661,
          2.8158147333432217,
          2.4977348418348573,
          -0.010484925266733615,
          -0.024174782670099423,
          -0.001411812891549634,
          0.006961742332156092,
          0.004128412342138075,
          -0.03324101277956521,
          -0.024963618791816675,
          -0.012343668754722542,
          -0.02518060524981912,
          -0.011924904527057368,
          -0.024892712042233558,
          -0.033414230127777673,
          -0.5795458106630113,
          -0.5605111610921887,
          -0.5600402821465219,
          -0.5529062983442614,
          -0.5298396330351851,
          -0.5242022004278317,
          -0.377072769330596,
          -0.3367097679379516,
          -0.46799246615998574,
          -0.2481231227831391,
          -0.23825668105867345,
          -0.25164655386017726,
          -0.2787021962624062,
          -0.36292888841118487,
          -0.4254705077038404,
          -0.5211780783640911,
          -0.438550549470112,
          -0.37033748530496763,
          -0.01788160653877893,
          -0.005429718202577753,
          0.023824645993920805,
          -0.05168203647060823,
          -0.06448969307023711,
          -0.05934680918827289,
          -0.10174224241067459,
          -0.11856050887757172,
          -0.1717828388252081,
          -0.23087995978055526,
          -0.24158602111547894,
          -0.31065618194515876,
          -0.03580701076441968,
          0.037066917038023256,
          -0.02471818039834281,
          0.022285330906157252,
          -0.023456014561610207,
          0.008839404448404527,
          -0.05741121299069172,
          -0.03648460371599153,
          0.023662226127989155,
          0.04590409616256527,
          0.05244339920300722,
          0.06099045397092212,
          -0.07093529756240273,
          -0.0016574346560187761,
          -0.018832399485782452,
          -0.03196529696086893,
          -0.0024154663605573173,
          0.05257857498522177,
          0.06076244932245941,
          0.1050004194162675,
          0.09453130892884333,
          -0.05485896960987038,
          -0.09376279509989306,
          0.13321230541568388,
          0.10831946320096339,
          0.06148638934945678,
          0.10779866680371558,
          0.10906445828463202,
          -0.09121972756824778,
          -0.11588650022443114,
          -0.14211979753978762,
          -0.1799219209715053,
          -0.10390775765942417,
          -0.1282343988809014,
          -0.0539219927836586,
          -0.07820542340903108,
          -0.07810869362135897,
          0.045079172848982066,
          0.06265172297296566,
          0.08676750032925502,
          0.10462491243678923,
          0.13623538426887027,
          0.03844289366608526,
          0.053823349700278036,
          0.041313399489487826,
          0.017924182431912707,
          0.030653556642506886,
          0.035158685617386054,
          0.02288612588220621,
          0.00388480196685855,
          -0.00392583825093005,
          0.03483888880070568,
          0.05418475037481837,
          0.06255311961360492,
          0.06516281924318011,
          0.04869694631031087,
          0.06150978306122021,
          0.043128145594472575,
          0.04306117137850412,
          0.07767292950582691,
          0.06598517136840679,
          0.09936576777627827,
          0.12137951841961399,
          0.11629717207062838,
          0.0514495258458605,
          0.012158305744446886,
          0.011726411255498895,
          0.004299094535384728,
          0.010633007772300803,
          0.011893285837075187,
          0.026403766399421883,
          0.023551293396428936,
          0.03194883983276939,
          0.011009041329671272,
          0.009614991491467436,
          -0.02203505004520097,
          0.05834161243994325,
          0.05333832427407939,
          0.025690500411469724,
          0.10106179045038055,
          0.10090612122353897,
          0.08958812305269792,
          0.15937515706978642,
          0.1505888018166329,
          -0.002469950449595344,
          0.005795690614564099,
          0.007954043650198387,
          0.04126953689167043,
          0.03300930168019008,
          -0.00018173081494063685,
          -0.003372782359900262,
          -0.010672595223512835,
          -0.028424862152117102,
          -0.029764980881155152,
          -0.029808445150893703,
          -0.1610559224932208,
          -0.05596310990591123,
          -0.025752968594099174,
          0.05067789452986824,
          -0.07649222670457496,
          -0.01911141214782416,
          -0.01250666800764949,
          0.01247539980391956,
          -0.02166020823331139,
          0.025902549921616818,
          0.013963654789563124,
          0.05240867795023635,
          0.05148421041224126,
          0.04688618353885334,
          -0.002731760877579643,
          -0.019832312154348487,
          -0.009542553925242028,
          -0.038441340344313485,
          -0.014106551111731662,
          -0.011417500244489658,
          -0.0036146767054912278,
          0.0024366890031988176,
          0.0032285310006903325,
          0.00046615355082019313,
          0.02943609557302086,
          -0.007215154721372375,
          0.013020578831585007,
          -0.14575537735832647,
          -0.15576710259721424,
          -0.14350342987717907,
          0.014968356586240166,
          0.023489779032520954,
          0.04499138080093788,
          0.09398193619261871,
          0.09975561368153561,
          0.07986089979489244,
          0.14621137457286748,
          0.09094810592926889,
          0.15517235825673956,
          0.11045987203848148,
          0.19304663184227489,
          0.11827516937723498,
          0.007674008463929853,
          -0.0023652626427434357,
          0.016745174121068587,
          0.08280546339729092,
          0.03435099688543119,
          0.022814590941259486,
          0.032875359103583336,
          0.16310568187970068,
          0.08022828710551516,
          -0.03189352391048951,
          -0.06171334904573899,
          -0.09565945149751594,
          -0.12509332450003396,
          -0.1607653970229379,
          -0.09826594864940486,
          -0.18448370184719767,
          -0.28661918738068315,
          -0.35216614874791624,
          0.16073233065641698,
          0.13490761920238206,
          0.10138541444571086,
          0.023125916895062947,
          -0.06640109375373413,
          -0.0870904070497742,
          -0.08335881717983762,
          -0.11521587795577308,
          -0.11268603403679925,
          0.021597967444863923,
          0.06983509984003389,
          0.08424041595531404,
          -0.009623249820140541,
          -0.036630013099493805,
          0.020334756446574932,
          -0.004400038677173506,
          0.0076967559076562796,
          -0.007992982494755687,
          -0.011815637653287192,
          -0.01809831096180834,
          -0.03643562615681503,
          -0.046783451679461394,
          0.06318840060161929,
          0.0038400583101320072,
          0.07446669862120699,
          0.006838996438157491,
          0.08535156690709414,
          -0.0011179448774420895,
          -0.008771296721505475,
          -0.02989008905057459,
          -0.0472145363389203,
          -0.05546347135094517,
          -0.07880930425205025,
          -0.09153962460671974,
          -0.09549346522336905,
          -0.11010954469435966,
          -0.12613212550018424,
          -0.14090165746813,
          0.008615739737915046,
          -0.002960642785746846,
          0.03113396588030077,
          -0.042518219779544564,
          0.031371413835979974,
          -0.12400588490613022,
          -0.09188953110697395,
          -0.10807868293061423,
          -0.012539972970388513,
          -0.02753003534847293,
          -0.03657026300295984,
          -0.016108442855671187,
          0.006007617262669158,
          0.031986403829260976,
          0.08028251885798098,
          0.07596559312222118,
          0.05746018934155164,
          -0.008281020848419869,
          -0.051084979556508994,
          -0.001978963989748106,
          -0.07502307533369007,
          0.01144657597794155,
          -0.09188448310264628,
          0.012785341536363152,
          -0.10572418182188172,
          0.02706990307573699,
          -0.12124062456713285,
          0.032122919818608035,
          -0.13530830780140357,
          0.04128341444781618,
          -0.149275265769935,
          0.013999047119038962,
          -0.14058969771669372,
          0.016739286878546165,
          -0.1556426341869384,
          -0.03790824714788482,
          -1.4715099509521246,
          -0.05018135804574083,
          -0.09250558222565845,
          -0.11491422641887789,
          -0.10188827341560946,
          -0.15261445447056932,
          -0.1362337023661744,
          -0.18505792346492597,
          -0.1984853859400571,
          -0.14207600818863156,
          0.04352657064394465,
          0.05020744509858389,
          0.05798521104601903,
          0.09649053006455943,
          0.04985646800762016,
          0.04400853572156621,
          -0.024074802427315804,
          -0.012326435375468387,
          0.04076333805648243,
          0.03157666100774927,
          0.047279123997599315,
          0.0017819415472709757,
          0.02225055865699039,
          0.02321221902623019,
          0.023716444881091,
          0.01575643934745863,
          0.021558576745576437,
          0.01938779680127244,
          0.024983776340051982,
          0.017542597115502316,
          0.01917031855637029,
          0.020800607653684806,
          0.011298970947391313,
          0.0089848743064328,
          0.011500135142244468,
          0.019142320291160538,
          -0.009065900501936605,
          -0.0013762554312516935,
          -0.007839748553522975,
          -0.1616515337191101,
          -0.2133589152400375,
          -0.2661890011489626,
          -0.013661975552008487,
          -0.02453975089391606,
          -0.04020572522518756,
          -0.0006166136767178271,
          -0.031327376496843945,
          0.012907531136235044,
          -0.06004489341497242,
          0.028743306961707626,
          -0.05983834044851096,
          0.025932747793442457,
          0.07517482316329971,
          0.014424322707610083,
          0.005558311970869953,
          -0.48178722493645015,
          0.006881283139625148,
          -0.0036155072960085584,
          0.000036163629191939055,
          0.002607183084952183,
          0.03636027455312585,
          0.04451884391610407,
          0.050056857990656005,
          0.08522172595239773,
          0.020359972039478785,
          0.022091175135221817,
          -0.10339801919588806,
          -0.0983705794983663,
          -0.08969336533653587,
          -0.12575485023395902,
          -0.11297570382965202,
          0.08059722335176428,
          0.04679654661168054,
          0.042216788854648586,
          0.04617171066311014,
          0.052564673763271084,
          0.03539613699629364,
          0.05027162768261044,
          0.0459473925863129,
          0.12716270972774268,
          0.03294820502462952,
          -0.02786689319983093,
          -0.058752652111299826,
          -0.092869363513674,
          0.05226160588388317,
          0.03085453604256332,
          0.004499063552842273,
          0.03233689287944396,
          0.02905436678341975,
          0.04211243101700053,
          0.06605892275519547,
          0.06816127441701987,
          0.09133621641966326,
          0.3696323843870138,
          0.01237656864768515,
          0.06690235597908208,
          0.08320475350180785,
          0.022969540586225093,
          0.015292097961175836,
          0.018478748292666505,
          0.016176601704307188,
          0.013558043002645112,
          0.014635713390818945,
          0.008615283657635392,
          0.015050884642832506,
          0.017443916966758267,
          0.5295008850686788,
          0.5419663220115843,
          0.09370465252447388,
          0.1282240166268979,
          0.19447806421564062,
          0.2586421609064233,
          0.3277034009518523,
          0.38013140976519666,
          0.41729631735871786,
          0.46578708348028297,
          0.514561613568205,
          0.05083196667076136,
          0.05333791124041555,
          0.06593847539254158,
          -0.039758694389516736,
          -0.07550883390636184,
          0.053357880012397184,
          -0.0003910027517885804,
          -0.03808770507585319,
          -0.0034568676790589447,
          -0.04333702309661907,
          0.038614355154899825,
          0.03967177525122124,
          0.025225511651965484,
          0.1937883356427621,
          0.19605474171792892,
          0.1314290786961626
         ]
        }
       ],
       "layout": {
        "legend": {
         "tracegroupgap": 0
        },
        "scene": {
         "domain": {
          "x": [
           0,
           1
          ],
          "y": [
           0,
           1
          ]
         },
         "xaxis": {
          "title": {
           "text": "PC1"
          }
         },
         "yaxis": {
          "title": {
           "text": "PC2"
          }
         },
         "zaxis": {
          "title": {
           "text": "PC3"
          }
         }
        },
        "template": {
         "data": {
          "bar": [
           {
            "error_x": {
             "color": "#2a3f5f"
            },
            "error_y": {
             "color": "#2a3f5f"
            },
            "marker": {
             "line": {
              "color": "#E5ECF6",
              "width": 0.5
             },
             "pattern": {
              "fillmode": "overlay",
              "size": 10,
              "solidity": 0.2
             }
            },
            "type": "bar"
           }
          ],
          "barpolar": [
           {
            "marker": {
             "line": {
              "color": "#E5ECF6",
              "width": 0.5
             },
             "pattern": {
              "fillmode": "overlay",
              "size": 10,
              "solidity": 0.2
             }
            },
            "type": "barpolar"
           }
          ],
          "carpet": [
           {
            "aaxis": {
             "endlinecolor": "#2a3f5f",
             "gridcolor": "white",
             "linecolor": "white",
             "minorgridcolor": "white",
             "startlinecolor": "#2a3f5f"
            },
            "baxis": {
             "endlinecolor": "#2a3f5f",
             "gridcolor": "white",
             "linecolor": "white",
             "minorgridcolor": "white",
             "startlinecolor": "#2a3f5f"
            },
            "type": "carpet"
           }
          ],
          "choropleth": [
           {
            "colorbar": {
             "outlinewidth": 0,
             "ticks": ""
            },
            "type": "choropleth"
           }
          ],
          "contour": [
           {
            "colorbar": {
             "outlinewidth": 0,
             "ticks": ""
            },
            "colorscale": [
             [
              0,
              "#0d0887"
             ],
             [
              0.1111111111111111,
              "#46039f"
             ],
             [
              0.2222222222222222,
              "#7201a8"
             ],
             [
              0.3333333333333333,
              "#9c179e"
             ],
             [
              0.4444444444444444,
              "#bd3786"
             ],
             [
              0.5555555555555556,
              "#d8576b"
             ],
             [
              0.6666666666666666,
              "#ed7953"
             ],
             [
              0.7777777777777778,
              "#fb9f3a"
             ],
             [
              0.8888888888888888,
              "#fdca26"
             ],
             [
              1,
              "#f0f921"
             ]
            ],
            "type": "contour"
           }
          ],
          "contourcarpet": [
           {
            "colorbar": {
             "outlinewidth": 0,
             "ticks": ""
            },
            "type": "contourcarpet"
           }
          ],
          "heatmap": [
           {
            "colorbar": {
             "outlinewidth": 0,
             "ticks": ""
            },
            "colorscale": [
             [
              0,
              "#0d0887"
             ],
             [
              0.1111111111111111,
              "#46039f"
             ],
             [
              0.2222222222222222,
              "#7201a8"
             ],
             [
              0.3333333333333333,
              "#9c179e"
             ],
             [
              0.4444444444444444,
              "#bd3786"
             ],
             [
              0.5555555555555556,
              "#d8576b"
             ],
             [
              0.6666666666666666,
              "#ed7953"
             ],
             [
              0.7777777777777778,
              "#fb9f3a"
             ],
             [
              0.8888888888888888,
              "#fdca26"
             ],
             [
              1,
              "#f0f921"
             ]
            ],
            "type": "heatmap"
           }
          ],
          "heatmapgl": [
           {
            "colorbar": {
             "outlinewidth": 0,
             "ticks": ""
            },
            "colorscale": [
             [
              0,
              "#0d0887"
             ],
             [
              0.1111111111111111,
              "#46039f"
             ],
             [
              0.2222222222222222,
              "#7201a8"
             ],
             [
              0.3333333333333333,
              "#9c179e"
             ],
             [
              0.4444444444444444,
              "#bd3786"
             ],
             [
              0.5555555555555556,
              "#d8576b"
             ],
             [
              0.6666666666666666,
              "#ed7953"
             ],
             [
              0.7777777777777778,
              "#fb9f3a"
             ],
             [
              0.8888888888888888,
              "#fdca26"
             ],
             [
              1,
              "#f0f921"
             ]
            ],
            "type": "heatmapgl"
           }
          ],
          "histogram": [
           {
            "marker": {
             "pattern": {
              "fillmode": "overlay",
              "size": 10,
              "solidity": 0.2
             }
            },
            "type": "histogram"
           }
          ],
          "histogram2d": [
           {
            "colorbar": {
             "outlinewidth": 0,
             "ticks": ""
            },
            "colorscale": [
             [
              0,
              "#0d0887"
             ],
             [
              0.1111111111111111,
              "#46039f"
             ],
             [
              0.2222222222222222,
              "#7201a8"
             ],
             [
              0.3333333333333333,
              "#9c179e"
             ],
             [
              0.4444444444444444,
              "#bd3786"
             ],
             [
              0.5555555555555556,
              "#d8576b"
             ],
             [
              0.6666666666666666,
              "#ed7953"
             ],
             [
              0.7777777777777778,
              "#fb9f3a"
             ],
             [
              0.8888888888888888,
              "#fdca26"
             ],
             [
              1,
              "#f0f921"
             ]
            ],
            "type": "histogram2d"
           }
          ],
          "histogram2dcontour": [
           {
            "colorbar": {
             "outlinewidth": 0,
             "ticks": ""
            },
            "colorscale": [
             [
              0,
              "#0d0887"
             ],
             [
              0.1111111111111111,
              "#46039f"
             ],
             [
              0.2222222222222222,
              "#7201a8"
             ],
             [
              0.3333333333333333,
              "#9c179e"
             ],
             [
              0.4444444444444444,
              "#bd3786"
             ],
             [
              0.5555555555555556,
              "#d8576b"
             ],
             [
              0.6666666666666666,
              "#ed7953"
             ],
             [
              0.7777777777777778,
              "#fb9f3a"
             ],
             [
              0.8888888888888888,
              "#fdca26"
             ],
             [
              1,
              "#f0f921"
             ]
            ],
            "type": "histogram2dcontour"
           }
          ],
          "mesh3d": [
           {
            "colorbar": {
             "outlinewidth": 0,
             "ticks": ""
            },
            "type": "mesh3d"
           }
          ],
          "parcoords": [
           {
            "line": {
             "colorbar": {
              "outlinewidth": 0,
              "ticks": ""
             }
            },
            "type": "parcoords"
           }
          ],
          "pie": [
           {
            "automargin": true,
            "type": "pie"
           }
          ],
          "scatter": [
           {
            "fillpattern": {
             "fillmode": "overlay",
             "size": 10,
             "solidity": 0.2
            },
            "type": "scatter"
           }
          ],
          "scatter3d": [
           {
            "line": {
             "colorbar": {
              "outlinewidth": 0,
              "ticks": ""
             }
            },
            "marker": {
             "colorbar": {
              "outlinewidth": 0,
              "ticks": ""
             }
            },
            "type": "scatter3d"
           }
          ],
          "scattercarpet": [
           {
            "marker": {
             "colorbar": {
              "outlinewidth": 0,
              "ticks": ""
             }
            },
            "type": "scattercarpet"
           }
          ],
          "scattergeo": [
           {
            "marker": {
             "colorbar": {
              "outlinewidth": 0,
              "ticks": ""
             }
            },
            "type": "scattergeo"
           }
          ],
          "scattergl": [
           {
            "marker": {
             "colorbar": {
              "outlinewidth": 0,
              "ticks": ""
             }
            },
            "type": "scattergl"
           }
          ],
          "scattermapbox": [
           {
            "marker": {
             "colorbar": {
              "outlinewidth": 0,
              "ticks": ""
             }
            },
            "type": "scattermapbox"
           }
          ],
          "scatterpolar": [
           {
            "marker": {
             "colorbar": {
              "outlinewidth": 0,
              "ticks": ""
             }
            },
            "type": "scatterpolar"
           }
          ],
          "scatterpolargl": [
           {
            "marker": {
             "colorbar": {
              "outlinewidth": 0,
              "ticks": ""
             }
            },
            "type": "scatterpolargl"
           }
          ],
          "scatterternary": [
           {
            "marker": {
             "colorbar": {
              "outlinewidth": 0,
              "ticks": ""
             }
            },
            "type": "scatterternary"
           }
          ],
          "surface": [
           {
            "colorbar": {
             "outlinewidth": 0,
             "ticks": ""
            },
            "colorscale": [
             [
              0,
              "#0d0887"
             ],
             [
              0.1111111111111111,
              "#46039f"
             ],
             [
              0.2222222222222222,
              "#7201a8"
             ],
             [
              0.3333333333333333,
              "#9c179e"
             ],
             [
              0.4444444444444444,
              "#bd3786"
             ],
             [
              0.5555555555555556,
              "#d8576b"
             ],
             [
              0.6666666666666666,
              "#ed7953"
             ],
             [
              0.7777777777777778,
              "#fb9f3a"
             ],
             [
              0.8888888888888888,
              "#fdca26"
             ],
             [
              1,
              "#f0f921"
             ]
            ],
            "type": "surface"
           }
          ],
          "table": [
           {
            "cells": {
             "fill": {
              "color": "#EBF0F8"
             },
             "line": {
              "color": "white"
             }
            },
            "header": {
             "fill": {
              "color": "#C8D4E3"
             },
             "line": {
              "color": "white"
             }
            },
            "type": "table"
           }
          ]
         },
         "layout": {
          "annotationdefaults": {
           "arrowcolor": "#2a3f5f",
           "arrowhead": 0,
           "arrowwidth": 1
          },
          "autotypenumbers": "strict",
          "coloraxis": {
           "colorbar": {
            "outlinewidth": 0,
            "ticks": ""
           }
          },
          "colorscale": {
           "diverging": [
            [
             0,
             "#8e0152"
            ],
            [
             0.1,
             "#c51b7d"
            ],
            [
             0.2,
             "#de77ae"
            ],
            [
             0.3,
             "#f1b6da"
            ],
            [
             0.4,
             "#fde0ef"
            ],
            [
             0.5,
             "#f7f7f7"
            ],
            [
             0.6,
             "#e6f5d0"
            ],
            [
             0.7,
             "#b8e186"
            ],
            [
             0.8,
             "#7fbc41"
            ],
            [
             0.9,
             "#4d9221"
            ],
            [
             1,
             "#276419"
            ]
           ],
           "sequential": [
            [
             0,
             "#0d0887"
            ],
            [
             0.1111111111111111,
             "#46039f"
            ],
            [
             0.2222222222222222,
             "#7201a8"
            ],
            [
             0.3333333333333333,
             "#9c179e"
            ],
            [
             0.4444444444444444,
             "#bd3786"
            ],
            [
             0.5555555555555556,
             "#d8576b"
            ],
            [
             0.6666666666666666,
             "#ed7953"
            ],
            [
             0.7777777777777778,
             "#fb9f3a"
            ],
            [
             0.8888888888888888,
             "#fdca26"
            ],
            [
             1,
             "#f0f921"
            ]
           ],
           "sequentialminus": [
            [
             0,
             "#0d0887"
            ],
            [
             0.1111111111111111,
             "#46039f"
            ],
            [
             0.2222222222222222,
             "#7201a8"
            ],
            [
             0.3333333333333333,
             "#9c179e"
            ],
            [
             0.4444444444444444,
             "#bd3786"
            ],
            [
             0.5555555555555556,
             "#d8576b"
            ],
            [
             0.6666666666666666,
             "#ed7953"
            ],
            [
             0.7777777777777778,
             "#fb9f3a"
            ],
            [
             0.8888888888888888,
             "#fdca26"
            ],
            [
             1,
             "#f0f921"
            ]
           ]
          },
          "colorway": [
           "#636efa",
           "#EF553B",
           "#00cc96",
           "#ab63fa",
           "#FFA15A",
           "#19d3f3",
           "#FF6692",
           "#B6E880",
           "#FF97FF",
           "#FECB52"
          ],
          "font": {
           "color": "#2a3f5f"
          },
          "geo": {
           "bgcolor": "white",
           "lakecolor": "white",
           "landcolor": "#E5ECF6",
           "showlakes": true,
           "showland": true,
           "subunitcolor": "white"
          },
          "hoverlabel": {
           "align": "left"
          },
          "hovermode": "closest",
          "mapbox": {
           "style": "light"
          },
          "paper_bgcolor": "white",
          "plot_bgcolor": "#E5ECF6",
          "polar": {
           "angularaxis": {
            "gridcolor": "white",
            "linecolor": "white",
            "ticks": ""
           },
           "bgcolor": "#E5ECF6",
           "radialaxis": {
            "gridcolor": "white",
            "linecolor": "white",
            "ticks": ""
           }
          },
          "scene": {
           "xaxis": {
            "backgroundcolor": "#E5ECF6",
            "gridcolor": "white",
            "gridwidth": 2,
            "linecolor": "white",
            "showbackground": true,
            "ticks": "",
            "zerolinecolor": "white"
           },
           "yaxis": {
            "backgroundcolor": "#E5ECF6",
            "gridcolor": "white",
            "gridwidth": 2,
            "linecolor": "white",
            "showbackground": true,
            "ticks": "",
            "zerolinecolor": "white"
           },
           "zaxis": {
            "backgroundcolor": "#E5ECF6",
            "gridcolor": "white",
            "gridwidth": 2,
            "linecolor": "white",
            "showbackground": true,
            "ticks": "",
            "zerolinecolor": "white"
           }
          },
          "shapedefaults": {
           "line": {
            "color": "#2a3f5f"
           }
          },
          "ternary": {
           "aaxis": {
            "gridcolor": "white",
            "linecolor": "white",
            "ticks": ""
           },
           "baxis": {
            "gridcolor": "white",
            "linecolor": "white",
            "ticks": ""
           },
           "bgcolor": "#E5ECF6",
           "caxis": {
            "gridcolor": "white",
            "linecolor": "white",
            "ticks": ""
           }
          },
          "title": {
           "x": 0.05
          },
          "xaxis": {
           "automargin": true,
           "gridcolor": "white",
           "linecolor": "white",
           "ticks": "",
           "title": {
            "standoff": 15
           },
           "zerolinecolor": "white",
           "zerolinewidth": 2
          },
          "yaxis": {
           "automargin": true,
           "gridcolor": "white",
           "linecolor": "white",
           "ticks": "",
           "title": {
            "standoff": 15
           },
           "zerolinecolor": "white",
           "zerolinewidth": 2
          }
         }
        },
        "title": {
         "text": "3D PCA Plot"
        }
       }
      }
     },
     "metadata": {},
     "output_type": "display_data"
    }
   ],
   "source": [
    "import plotly.express as px\n",
    "from sklearn.decomposition import PCA\n",
    "from sklearn.datasets import load_iris\n",
    "\n",
    "from mpl_toolkits.mplot3d import Axes3D\n",
    "\n",
    "import plotly.express as px\n",
    "\n",
    "fig = px.scatter_3d(\n",
    "    x=pca_transformed_data_2[:, 0],\n",
    "    y=pca_transformed_data_2[:, 1],\n",
    "    z=pca_transformed_data_2[:, 2],\n",
    "    title=\"3D PCA Plot\",\n",
    "    labels={\"x\": \"PC1\", \"y\": \"PC2\", \"z\": \"PC3\"}\n",
    ")\n",
    "fig.show()"
   ]
  },
  {
   "cell_type": "code",
   "execution_count": 38,
   "metadata": {},
   "outputs": [
    {
     "name": "stdout",
     "output_type": "stream",
     "text": [
      "\n",
      "PCA Loadings Table (n=5):\n",
      "                         PC1       PC2       PC3       PC4       PC5\n",
      "4000.122           0.001246  0.004406  0.011122 -0.000672 -0.019557\n",
      "3999.64            0.001235  0.004401  0.011227 -0.000747 -0.019521\n",
      "3999.158           0.001229  0.004390  0.011390 -0.000841 -0.019403\n",
      "3998.676           0.001230  0.004378  0.011597 -0.000946 -0.019212\n",
      "3998.194           0.001236  0.004367  0.011825 -0.001053 -0.018975\n",
      "...                     ...       ...       ...       ...       ...\n",
      "651.34             0.000503 -0.004128 -0.022602  0.008447 -0.036309\n",
      "650.858            0.000468 -0.003880 -0.022004  0.008049 -0.035786\n",
      "650.376            0.000435 -0.003688 -0.021518  0.007737 -0.035350\n",
      "649.893            0.000405 -0.003573 -0.021176  0.007520 -0.035002\n",
      "16158804.55800001  0.000000  0.000000  0.000000 -0.000000 -0.000000\n",
      "\n",
      "[6951 rows x 5 columns]\n"
     ]
    }
   ],
   "source": [
    "loading_df_2 = pd.DataFrame(pca_2.components_.T, columns=['PC1', 'PC2', 'PC3', 'PC4', 'PC5'], index=ftir_data.columns)\n",
    "print(\"\\nPCA Loadings Table (n=5):\\n\", loading_df_2)"
   ]
  },
  {
   "cell_type": "markdown",
   "metadata": {},
   "source": [
    "PCA with Standard Scaler"
   ]
  },
  {
   "cell_type": "code",
   "execution_count": 39,
   "metadata": {},
   "outputs": [],
   "source": [
    "# Standardize the data before PCA\n",
    "scaler = StandardScaler()\n",
    "scaled_ftir_data = scaler.fit_transform(ftir_data)"
   ]
  },
  {
   "cell_type": "code",
   "execution_count": 40,
   "metadata": {},
   "outputs": [],
   "source": [
    "# Perform PCA (n=2)\n",
    "pca_2 = PCA(n_components=2, random_state=42)\n",
    "pca_transformed_data_2 = pca_2.fit_transform(scaled_ftir_data)"
   ]
  },
  {
   "cell_type": "code",
   "execution_count": 41,
   "metadata": {},
   "outputs": [
    {
     "data": {
      "image/png": "[encoded data removed]",
      "text/plain": [
       "<Figure size 1000x600 with 1 Axes>"
      ]
     },
     "metadata": {},
     "output_type": "display_data"
    }
   ],
   "source": [
    "# Plot PCA Results colored by countries\n",
    "plt.figure(figsize=(10, 6))\n",
    "colors = plt.cm.viridis(np.linspace(0, 1, len(data['country_name'].unique())))\n",
    "for country, color in zip(data['country_name'].unique(), colors):\n",
    "    idx = data['country_name'] == country\n",
    "    plt.scatter(pca_transformed_data_2[idx, 0], pca_transformed_data_2[idx, 1], label=country, alpha=0.6, color=color)\n",
    "\n",
    "plt.xlabel('Principal Component 1')\n",
    "plt.ylabel('Principal Component 2')\n",
    "plt.title('PCA of FTIR Data by Country')\n",
    "plt.legend(title='Country')\n",
    "plt.show()\n"
   ]
  },
  {
   "cell_type": "code",
   "execution_count": 42,
   "metadata": {},
   "outputs": [],
   "source": [
    "# Plot PCA Loadings for PC1 and PC2\n",
    "def plot_pca_loadings(loadings, title):\n",
    "    wavenumbers = np.linspace(4000, 650, ftir_data.shape[1])  # Adjust to match the actual wavenumber range\n",
    "    plt.figure(figsize=(14, 8))\n",
    "    plt.plot(wavenumbers, loadings)\n",
    "    plt.axhline(0, color='gray', linestyle='dashed')\n",
    "    plt.xlabel('Wavenumber (cm⁻¹)')\n",
    "    plt.ylabel('Loading')\n",
    "    plt.title(title)\n",
    "    plt.xticks(np.arange(4000, 649, -500))  # Ticks from 4000 to 650 cm⁻¹\n",
    "    plt.gca().invert_xaxis()  # Reverse the x-axis\n",
    "    plt.show()\n"
   ]
  },
  {
   "cell_type": "code",
   "execution_count": 43,
   "metadata": {},
   "outputs": [
    {
     "data": {
      "image/png": "[encoded data removed]",
      "text/plain": [
       "<Figure size 1400x800 with 1 Axes>"
      ]
     },
     "metadata": {},
     "output_type": "display_data"
    }
   ],
   "source": [
    "# Plot PCA loadings for PC1\n",
    "plot_pca_loadings(pca_2.components_[0], 'PCA Loadings - PC1')"
   ]
  },
  {
   "cell_type": "code",
   "execution_count": 44,
   "metadata": {},
   "outputs": [
    {
     "data": {
      "image/png": "[encoded data removed]",
      "text/plain": [
       "<Figure size 1400x800 with 1 Axes>"
      ]
     },
     "metadata": {},
     "output_type": "display_data"
    }
   ],
   "source": [
    "# Plot PCA loadings for PC2\n",
    "plot_pca_loadings(pca_2.components_[1], 'PCA Loadings - PC2')"
   ]
  },
  {
   "cell_type": "code",
   "execution_count": 45,
   "metadata": {},
   "outputs": [
    {
     "name": "stdout",
     "output_type": "stream",
     "text": [
      "Top 10 Most Influential Wavenumbers for PC1:\n",
      "       Wavenumber       PC1\n",
      "1684  3188.287770  0.015963\n",
      "1685  3187.805755  0.015960\n",
      "1683  3188.769784  0.015955\n",
      "1666  3196.964029  0.015955\n",
      "1667  3196.482014  0.015952\n",
      "1665  3197.446043  0.015950\n",
      "1686  3187.323741  0.015948\n",
      "1635  3211.906475  0.015941\n",
      "1664  3197.928058  0.015940\n",
      "1668  3196.000000  0.015940\n",
      "Top 10 Most Influential Wavenumbers for PC2:\n",
      "      Wavenumber       PC2\n",
      "6520  857.266187  0.023206\n",
      "6519  857.748201  0.023206\n",
      "6518  858.230216  0.023201\n",
      "6521  856.784173  0.023198\n",
      "6517  858.712230  0.023195\n",
      "6516  859.194245  0.023189\n",
      "6515  859.676259  0.023185\n",
      "6514  860.158273  0.023182\n",
      "6513  860.640288  0.023180\n",
      "6522  856.302158  0.023178\n"
     ]
    }
   ],
   "source": [
    "# Create a loading DataFrame and print the top 10 most influential wavenumbers for PC1 and PC2\n",
    "loading_df = pd.DataFrame({\n",
    "    'Wavenumber': np.linspace(4000, 650, ftir_data.shape[1]),  # Adjust to match the actual wavenumber range\n",
    "    'PC1': pca_2.components_[0],\n",
    "    'PC2': pca_2.components_[1]\n",
    "})\n",
    "\n",
    "top_n = 10\n",
    "top_pc1 = loading_df.reindex(loading_df['PC1'].abs().sort_values(ascending=False).index).head(top_n)\n",
    "top_pc2 = loading_df.reindex(loading_df['PC2'].abs().sort_values(ascending=False).index).head(top_n)\n",
    "\n",
    "print(\"Top 10 Most Influential Wavenumbers for PC1:\")\n",
    "print(top_pc1[['Wavenumber', 'PC1']])\n",
    "\n",
    "print(\"Top 10 Most Influential Wavenumbers for PC2:\")\n",
    "print(top_pc2[['Wavenumber', 'PC2']])"
   ]
  },
  {
   "cell_type": "markdown",
   "metadata": {},
   "source": [
    "mbuh"
   ]
  },
  {
   "cell_type": "code",
   "execution_count": 46,
   "metadata": {},
   "outputs": [],
   "source": [
    "# Filter the data to remove specific provinces\n",
    "validation_provinces = ['PLG', 'SKM', 'SSX', 'KTX', 'JHR']\n",
    "training_data = data[~data['prov_char'].isin(validation_provinces)]"
   ]
  },
  {
   "cell_type": "code",
   "execution_count": 52,
   "metadata": {},
   "outputs": [
    {
     "name": "stdout",
     "output_type": "stream",
     "text": [
      "\n",
      "Province Counts:\n",
      " prov_char\n",
      "SNI    75\n",
      "CPN    42\n",
      "TRG    39\n",
      "KBI    37\n",
      "NWT    24\n",
      "SNK    24\n",
      "NRT    24\n",
      "BBX    18\n",
      "KBX    18\n",
      "SUX    18\n",
      "PKN    18\n",
      "RNG    16\n",
      "STN    15\n",
      "CCO    13\n",
      "CBI    12\n",
      "RIX    11\n",
      "SGR    11\n",
      "PTN     7\n",
      "KRI     6\n",
      "PNA     3\n",
      "Name: count, dtype: int64\n"
     ]
    }
   ],
   "source": [
    "# Province counts on 'data'\n",
    "print(\"\\nProvince Counts:\\n\", training_data['prov_char'].value_counts())"
   ]
  },
  {
   "cell_type": "code",
   "execution_count": 69,
   "metadata": {},
   "outputs": [
    {
     "data": {
      "text/plain": [
       "(   4000.122  3099.528  3099.046  3098.564  3098.082    3097.6  3097.118  \\\n",
       " 0  0.000788  0.002471  0.002400  0.002327  0.002251  0.002176  0.002106   \n",
       " 1  0.001095  0.002932  0.002932  0.002909  0.002861  0.002796  0.002721   \n",
       " 2  0.000099  0.001651  0.001675  0.001680  0.001666  0.001634  0.001589   \n",
       " 3  0.001685  0.003385  0.003437  0.003485  0.003524  0.003555  0.003571   \n",
       " 4  0.002118  0.002765  0.002775  0.002776  0.002755  0.002706  0.002632   \n",
       " \n",
       "    3096.636  3096.154  3095.671  ...   654.232    653.75   653.268   652.786  \\\n",
       " 0  0.002054  0.002030  0.002042  ...  0.010798  0.011951  0.013370  0.014849   \n",
       " 1  0.002646  0.002579  0.002526  ...  0.012223  0.012086  0.011914  0.011799   \n",
       " 2  0.001537  0.001487  0.001451  ...  0.010014  0.010487  0.011307  0.012372   \n",
       " 3  0.003569  0.003543  0.003488  ...  0.008214  0.008177  0.008240  0.008484   \n",
       " 4  0.002539  0.002439  0.002352  ...  0.009767  0.009831  0.010143  0.010621   \n",
       " \n",
       "     652.304   651.822    651.34   650.858   650.376   649.893  \n",
       " 0  0.016154  0.017089  0.017538  0.017469  0.016946  0.016094  \n",
       " 1  0.011801  0.011938  0.012208  0.012600  0.013097  0.013664  \n",
       " 2  0.013532  0.014614  0.015469  0.015986  0.016134  0.015954  \n",
       " 3  0.008982  0.009749  0.010722  0.011752  0.012653  0.013254  \n",
       " 4  0.011171  0.011728  0.012274  0.012824  0.013402  0.014003  \n",
       " \n",
       " [5 rows x 3361 columns],\n",
       " (431, 3361))"
      ]
     },
     "execution_count": 69,
     "metadata": {},
     "output_type": "execute_result"
    }
   ],
   "source": [
    "import pandas as pd\n",
    "import numpy as np\n",
    "\n",
    "# Create a mapping for country codes to country names\n",
    "country_mapping = {\n",
    "    0: 'Thailand',\n",
    "    1: 'Indonesia',\n",
    "    2: 'Malaysia'\n",
    "}\n",
    "\n",
    "# Map the country codes to country names\n",
    "data['country_name'] = data['country_code'].map(country_mapping)\n",
    "\n",
    "# Filter the data to remove specific provinces\n",
    "validation_provinces = ['PLG', 'SKM', 'SSX', 'KTX', 'JHR']\n",
    "training_data = data[~data['prov_char'].isin(validation_provinces)]\n",
    "\n",
    "# Extract FTIR Spectrum Data\n",
    "ftir_data = training_data.iloc[:, 4:-1]  # Exclude metadata columns and last column with NaN values\n",
    "\n",
    "# Remove specified spectral regions\n",
    "filtered_columns = [col for col in ftir_data.columns if not (3100 <= float(col) <= 4000 or 1870 <= float(col) <= 2700)]\n",
    "filtered_ftir_data = ftir_data[filtered_columns]\n",
    "\n",
    "# Create a new DataFrame with the filtered data\n",
    "filtered_ftir_df = pd.DataFrame(filtered_ftir_data)\n",
    "\n",
    "# Remove any remaining NaN values\n",
    "filtered_ftir_df = filtered_ftir_df.dropna(axis=1, how='any')\n",
    "\n",
    "# Display the head of the new DataFrame and its shape\n",
    "filtered_ftir_df.head(), filtered_ftir_df.shape\n"
   ]
  }
 ],
 "metadata": {
  "kernelspec": {
   "display_name": "env",
   "language": "python",
   "name": "python3"
  },
  "language_info": {
   "codemirror_mode": {
    "name": "ipython",
    "version": 3
   },
   "file_extension": ".py",
   "mimetype": "text/x-python",
   "name": "python",
   "nbconvert_exporter": "python",
   "pygments_lexer": "ipython3",
   "version": "3.12.4"
  }
 },
 "nbformat": 4,
 "nbformat_minor": 2
}
