{
 "cells": [
  {
   "cell_type": "code",
   "execution_count": 1,
   "metadata": {},
   "outputs": [
    {
     "name": "stdout",
     "output_type": "stream",
     "text": [
      "Merged CSV saved to C:\\Users\\pingk\\Downloads\\fadhli nitip\\asik_rt4_now with indo new.csv\n"
     ]
    }
   ],
   "source": [
    "import pandas as pd\n",
    "\n",
    "# Define the file paths\n",
    "file1 = r\"C:\\Users\\pingk\\Downloads\\fadhli nitip\\asik.csv\"\n",
    "file2 = r\"C:\\Users\\pingk\\Downloads\\fadhli nitip\\asik_adisiindo.csv\"\n",
    "\n",
    "# Read the CSV files into dataframes\n",
    "df1 = pd.read_csv(file1)\n",
    "df2 = pd.read_csv(file2)\n",
    "\n",
    "# Merge the dataframes, matching columns by name\n",
    "merged_df = pd.concat([df1, df2], ignore_index=True, sort=False)\n",
    "\n",
    "# Save the merged dataframe to a new CSV file\n",
    "output_file = r\"C:\\Users\\pingk\\Downloads\\fadhli nitip\\asik_rt4_now with indo new.csv\"\n",
    "merged_df.to_csv(output_file, index=False)\n",
    "\n",
    "print(f\"Merged CSV saved to {output_file}\")"
   ]
  }
 ],
 "metadata": {
  "kernelspec": {
   "display_name": "env",
   "language": "python",
   "name": "python3"
  },
  "language_info": {
   "codemirror_mode": {
    "name": "ipython",
    "version": 3
   },
   "file_extension": ".py",
   "mimetype": "text/x-python",
   "name": "python",
   "nbconvert_exporter": "python",
   "pygments_lexer": "ipython3",
   "version": "3.12.4"
  }
 },
 "nbformat": 4,
 "nbformat_minor": 2
}
