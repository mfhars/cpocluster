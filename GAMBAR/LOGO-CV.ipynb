{
 "cells": [
  {
   "cell_type": "code",
   "execution_count": null,
   "metadata": {},
   "outputs": [],
   "source": [
    "import graphviz\n",
    "\n",
    "# Define the diagram\n",
    "diagram = graphviz.Digraph(format='svg')\n",
    "\n",
    "# Define nodes\n",
    "diagram.node('A', 'Start')\n",
    "diagram.node('B', 'Split data into groups')\n",
    "diagram.node('C', 'Leave one group out')\n",
    "diagram.node('D', 'Train on remaining groups')\n",
    "diagram.node('E', 'Validate on left-out group')\n",
    "diagram.node('F', 'Record performance')\n",
    "diagram.node('G', 'Repeat for all groups')\n",
    "diagram.node('H', 'Average performance over all iterations')\n",
    "diagram.node('I', 'End')\n",
    "\n",
    "# Define edges\n",
    "diagram.edges(['AB', 'BC', 'CD', 'DE', 'EF', 'FG', 'GH', 'HI'])\n",
    "\n",
    "# Render the diagram to a file\n",
    "diagram.render('/mnt/data/LOGO_CV_flow_diagram')\n",
    "\n",
    "# Output file path\n",
    "output_file_path = '/mnt/data/LOGO_CV_flow_diagram.svg'\n",
    "output_file_path\n"
   ]
  }
 ],
 "metadata": {
  "language_info": {
   "name": "python"
  }
 },
 "nbformat": 4,
 "nbformat_minor": 2
}
