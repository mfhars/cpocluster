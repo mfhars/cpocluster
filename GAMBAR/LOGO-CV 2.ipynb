{
 "cells": [
  {
   "cell_type": "code",
   "execution_count": null,
   "metadata": {},
   "outputs": [],
   "source": [
    "import matplotlib.pyplot as plt\n",
    "import matplotlib.patches as patches\n",
    "\n",
    "# Parameters\n",
    "n_models = 5\n",
    "n_groups = 10\n",
    "\n",
    "# Create the figure and axis\n",
    "fig, ax = plt.subplots(figsize=(10, 6))\n",
    "\n",
    "# Colors\n",
    "training_color = \"#f4a261\"\n",
    "test_color = \"#2a9d8f\"\n",
    "\n",
    "# Create the rectangles\n",
    "for i in range(n_models):\n",
    "    for j in range(n_groups):\n",
    "        if i == j:\n",
    "            rect = patches.Rectangle((j, n_models - i - 1), 1, 1, edgecolor='black', facecolor=test_color)\n",
    "        else:\n",
    "            rect = patches.Rectangle((j, n_models - i - 1), 1, 1, edgecolor='black', facecolor=training_color)\n",
    "        ax.add_patch(rect)\n",
    "\n",
    "# Add text labels\n",
    "for i in range(n_models):\n",
    "    ax.text(-1.5, n_models - i - 0.5, f'Model {i+1}', va='center', ha='right', fontsize=12)\n",
    "\n",
    "# Legend\n",
    "train_patch = patches.Patch(color=training_color, label='Training Data')\n",
    "test_patch = patches.Patch(color=test_color, label='Test Data')\n",
    "plt.legend(handles=[train_patch, test_patch], loc='upper right', fontsize=12)\n",
    "\n",
    "# Title and axis settings\n",
    "plt.title('Leave-One-Group-Out Cross Validation', fontsize=16)\n",
    "ax.set_xlim(-2, n_groups)\n",
    "ax.set_ylim(0, n_models)\n",
    "ax.set_aspect('equal')\n",
    "ax.axis('off')\n",
    "\n",
    "# Save as SVG\n",
    "svg_file_path = '/mnt/data/LOGO_CV_visual_diagram.svg'\n",
    "plt.savefig(svg_file_path, format='svg')\n",
    "\n",
    "# Show plot for reference\n",
    "plt.show()\n",
    "\n",
    "# Output file path\n",
    "svg_file_path\n"
   ]
  }
 ],
 "metadata": {
  "language_info": {
   "name": "python"
  }
 },
 "nbformat": 4,
 "nbformat_minor": 2
}
