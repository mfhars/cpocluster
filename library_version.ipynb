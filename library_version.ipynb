{
 "cells": [
  {
   "cell_type": "markdown",
   "metadata": {},
   "source": [
    "Steps for Feature Selection Using Variance Thresholding\n",
    "Load the Data: Read the CSV files containing the FTIR spectrum data.\n",
    "Normalize the Data: Standardize or normalize the data.\n",
    "Apply Variance Thresholding: Remove features with variance below a certain threshold.\n",
    "Dimensionality Reduction (if needed): Apply PCA to further reduce the dimensionality.\n",
    "Clustering: Apply clustering algorithms to the selected features.\n",
    "Evaluate and Visualize: Evaluate the clusters using various metrics and visualize them."
   ]
  },
  {
   "cell_type": "code",
   "execution_count": 2,
   "metadata": {},
   "outputs": [
    {
     "name": "stdout",
     "output_type": "stream",
     "text": [
      "pandas version: 2.2.2\n",
      "numpy version: 2.0.0\n",
      "matplotlib version: 3.9.0\n",
      "sklearn version: 1.5.0\n",
      "Python version: 3.12.4 (tags/v3.12.4:8e8a4ba, Jun  6 2024, 19:30:16) [MSC v.1940 64 bit (AMD64)]\n"
     ]
    }
   ],
   "source": [
    "import pandas as pd\n",
    "import numpy as np\n",
    "import matplotlib\n",
    "import sklearn\n",
    "import sys\n",
    "\n",
    "print(f'pandas version: {pd.__version__}')\n",
    "print(f'numpy version: {np.__version__}')\n",
    "print(f'matplotlib version: {matplotlib.__version__}')\n",
    "print(f'sklearn version: {sklearn.__version__}')\n",
    "print(f'Python version: {sys.version}')"
   ]
  },
  {
   "cell_type": "markdown",
   "metadata": {},
   "source": [
    "pandas version: 2.2.2\n",
    "numpy version: 2.0.0\n",
    "matplotlib version: 3.9.0\n",
    "sklearn version: 1.5.0\n",
    "Python version: 3.12.4"
   ]
  },
  {
   "cell_type": "code",
   "execution_count": null,
   "metadata": {},
   "outputs": [],
   "source": [
    "pip install pandas==<version>\n",
    "pip install numpy==<version>\n",
    "pip install matplotlib==<version>\n",
    "pip install scikit-learn==<version>"
   ]
  }
 ],
 "metadata": {
  "kernelspec": {
   "display_name": "env",
   "language": "python",
   "name": "python3"
  },
  "language_info": {
   "codemirror_mode": {
    "name": "ipython",
    "version": 3
   },
   "file_extension": ".py",
   "mimetype": "text/x-python",
   "name": "python",
   "nbconvert_exporter": "python",
   "pygments_lexer": "ipython3",
   "version": "3.12.4"
  }
 },
 "nbformat": 4,
 "nbformat_minor": 2
}
