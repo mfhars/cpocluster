{
 "cells": [
  {
   "cell_type": "markdown",
   "metadata": {},
   "source": [
    "Loading the Data"
   ]
  },
  {
   "cell_type": "code",
   "execution_count": 1,
   "metadata": {},
   "outputs": [],
   "source": [
    "import pandas as pd\n",
    "import numpy as np"
   ]
  },
  {
   "cell_type": "code",
   "execution_count": 2,
   "metadata": {},
   "outputs": [],
   "source": [
    "# Load the data\n",
    "df_0 = pd.read_csv(r\"C:\\Users\\pingk\\Downloads\\fadhli nitip\\asikrt4_2G_clnd_blncd.csv\")"
   ]
  },
  {
   "cell_type": "code",
   "execution_count": 3,
   "metadata": {},
   "outputs": [
    {
     "data": {
      "text/html": [
       "<div>\n",
       "<style scoped>\n",
       "    .dataframe tbody tr th:only-of-type {\n",
       "        vertical-align: middle;\n",
       "    }\n",
       "\n",
       "    .dataframe tbody tr th {\n",
       "        vertical-align: top;\n",
       "    }\n",
       "\n",
       "    .dataframe thead th {\n",
       "        text-align: right;\n",
       "    }\n",
       "</style>\n",
       "<table border=\"1\" class=\"dataframe\">\n",
       "  <thead>\n",
       "    <tr style=\"text-align: right;\">\n",
       "      <th></th>\n",
       "      <th>prov_char</th>\n",
       "      <th>sample_code</th>\n",
       "      <th>649.893</th>\n",
       "      <th>650.376</th>\n",
       "      <th>650.858</th>\n",
       "      <th>651.34</th>\n",
       "      <th>651.822</th>\n",
       "      <th>652.304</th>\n",
       "      <th>652.786</th>\n",
       "      <th>653.268</th>\n",
       "      <th>...</th>\n",
       "      <th>3998.194</th>\n",
       "      <th>3998.676</th>\n",
       "      <th>3999.158</th>\n",
       "      <th>3999.64</th>\n",
       "      <th>4000.122</th>\n",
       "      <th>tgp_name</th>\n",
       "      <th>dgp_name</th>\n",
       "      <th>fgp_name</th>\n",
       "      <th>country_name</th>\n",
       "      <th>thnoth_name</th>\n",
       "    </tr>\n",
       "  </thead>\n",
       "  <tbody>\n",
       "    <tr>\n",
       "      <th>0</th>\n",
       "      <td>STN</td>\n",
       "      <td>TH-STN-060-2209-009</td>\n",
       "      <td>0.020314</td>\n",
       "      <td>0.020928</td>\n",
       "      <td>0.021408</td>\n",
       "      <td>0.021729</td>\n",
       "      <td>0.021839</td>\n",
       "      <td>0.021679</td>\n",
       "      <td>0.021226</td>\n",
       "      <td>0.020511</td>\n",
       "      <td>...</td>\n",
       "      <td>-0.002017</td>\n",
       "      <td>-0.001934</td>\n",
       "      <td>-0.001850</td>\n",
       "      <td>-0.001766</td>\n",
       "      <td>-0.001681</td>\n",
       "      <td>Group 2</td>\n",
       "      <td>Group 1</td>\n",
       "      <td>Group 2</td>\n",
       "      <td>Thailand</td>\n",
       "      <td>Thai</td>\n",
       "    </tr>\n",
       "    <tr>\n",
       "      <th>1</th>\n",
       "      <td>TRG</td>\n",
       "      <td>TH-TRG-002-2209-010</td>\n",
       "      <td>0.012843</td>\n",
       "      <td>0.013337</td>\n",
       "      <td>0.013960</td>\n",
       "      <td>0.014679</td>\n",
       "      <td>0.015426</td>\n",
       "      <td>0.016112</td>\n",
       "      <td>0.016643</td>\n",
       "      <td>0.016929</td>\n",
       "      <td>...</td>\n",
       "      <td>-0.000462</td>\n",
       "      <td>-0.000451</td>\n",
       "      <td>-0.000433</td>\n",
       "      <td>-0.000408</td>\n",
       "      <td>-0.000377</td>\n",
       "      <td>Group 2</td>\n",
       "      <td>Group 1</td>\n",
       "      <td>Group 2</td>\n",
       "      <td>Thailand</td>\n",
       "      <td>Thai</td>\n",
       "    </tr>\n",
       "    <tr>\n",
       "      <th>2</th>\n",
       "      <td>CCO</td>\n",
       "      <td>TH-CCO-044-2311-001</td>\n",
       "      <td>0.011225</td>\n",
       "      <td>0.011206</td>\n",
       "      <td>0.011245</td>\n",
       "      <td>0.011192</td>\n",
       "      <td>0.010933</td>\n",
       "      <td>0.010452</td>\n",
       "      <td>0.009847</td>\n",
       "      <td>0.009296</td>\n",
       "      <td>...</td>\n",
       "      <td>-0.000513</td>\n",
       "      <td>-0.000498</td>\n",
       "      <td>-0.000488</td>\n",
       "      <td>-0.000473</td>\n",
       "      <td>-0.000445</td>\n",
       "      <td>Group 1</td>\n",
       "      <td>Group 1</td>\n",
       "      <td>Group 1</td>\n",
       "      <td>Thailand</td>\n",
       "      <td>Thai</td>\n",
       "    </tr>\n",
       "    <tr>\n",
       "      <th>3</th>\n",
       "      <td>KRI</td>\n",
       "      <td>TH-KRI-002-2209-017</td>\n",
       "      <td>0.010365</td>\n",
       "      <td>0.010038</td>\n",
       "      <td>0.009620</td>\n",
       "      <td>0.009147</td>\n",
       "      <td>0.008728</td>\n",
       "      <td>0.008515</td>\n",
       "      <td>0.008642</td>\n",
       "      <td>0.009174</td>\n",
       "      <td>...</td>\n",
       "      <td>0.001743</td>\n",
       "      <td>0.001770</td>\n",
       "      <td>0.001800</td>\n",
       "      <td>0.001828</td>\n",
       "      <td>0.001853</td>\n",
       "      <td>Group 1</td>\n",
       "      <td>Group 1</td>\n",
       "      <td>Group 1</td>\n",
       "      <td>Thailand</td>\n",
       "      <td>Thai</td>\n",
       "    </tr>\n",
       "    <tr>\n",
       "      <th>4</th>\n",
       "      <td>SNK</td>\n",
       "      <td>TH-SNK-002-2208-013</td>\n",
       "      <td>0.012944</td>\n",
       "      <td>0.012616</td>\n",
       "      <td>0.012494</td>\n",
       "      <td>0.012580</td>\n",
       "      <td>0.012845</td>\n",
       "      <td>0.013237</td>\n",
       "      <td>0.013695</td>\n",
       "      <td>0.014149</td>\n",
       "      <td>...</td>\n",
       "      <td>-0.001177</td>\n",
       "      <td>-0.001212</td>\n",
       "      <td>-0.001264</td>\n",
       "      <td>-0.001328</td>\n",
       "      <td>-0.001394</td>\n",
       "      <td>Group 1</td>\n",
       "      <td>Group 1</td>\n",
       "      <td>Group 2</td>\n",
       "      <td>Thailand</td>\n",
       "      <td>Thai</td>\n",
       "    </tr>\n",
       "    <tr>\n",
       "      <th>...</th>\n",
       "      <td>...</td>\n",
       "      <td>...</td>\n",
       "      <td>...</td>\n",
       "      <td>...</td>\n",
       "      <td>...</td>\n",
       "      <td>...</td>\n",
       "      <td>...</td>\n",
       "      <td>...</td>\n",
       "      <td>...</td>\n",
       "      <td>...</td>\n",
       "      <td>...</td>\n",
       "      <td>...</td>\n",
       "      <td>...</td>\n",
       "      <td>...</td>\n",
       "      <td>...</td>\n",
       "      <td>...</td>\n",
       "      <td>...</td>\n",
       "      <td>...</td>\n",
       "      <td>...</td>\n",
       "      <td>...</td>\n",
       "      <td>...</td>\n",
       "    </tr>\n",
       "    <tr>\n",
       "      <th>271</th>\n",
       "      <td>NRT</td>\n",
       "      <td>TH-NRT-012-2403-012</td>\n",
       "      <td>0.013576</td>\n",
       "      <td>0.013539</td>\n",
       "      <td>0.013681</td>\n",
       "      <td>0.013957</td>\n",
       "      <td>0.014308</td>\n",
       "      <td>0.014660</td>\n",
       "      <td>0.014937</td>\n",
       "      <td>0.015068</td>\n",
       "      <td>...</td>\n",
       "      <td>0.002678</td>\n",
       "      <td>0.002709</td>\n",
       "      <td>0.002757</td>\n",
       "      <td>0.002819</td>\n",
       "      <td>0.002890</td>\n",
       "      <td>Group 2</td>\n",
       "      <td>Group 2</td>\n",
       "      <td>Group 3</td>\n",
       "      <td>Thailand</td>\n",
       "      <td>Thai</td>\n",
       "    </tr>\n",
       "    <tr>\n",
       "      <th>272</th>\n",
       "      <td>SSX</td>\n",
       "      <td>ID-SSX-068-2307-028</td>\n",
       "      <td>0.016809</td>\n",
       "      <td>0.017187</td>\n",
       "      <td>0.017191</td>\n",
       "      <td>0.016868</td>\n",
       "      <td>0.016308</td>\n",
       "      <td>0.015622</td>\n",
       "      <td>0.014912</td>\n",
       "      <td>0.014267</td>\n",
       "      <td>...</td>\n",
       "      <td>0.000892</td>\n",
       "      <td>0.000970</td>\n",
       "      <td>0.001045</td>\n",
       "      <td>0.001107</td>\n",
       "      <td>0.001147</td>\n",
       "      <td>Group 3</td>\n",
       "      <td>Group 2</td>\n",
       "      <td>Group 3</td>\n",
       "      <td>Indonesia</td>\n",
       "      <td>Non-Thai</td>\n",
       "    </tr>\n",
       "    <tr>\n",
       "      <th>273</th>\n",
       "      <td>NWT</td>\n",
       "      <td>TH-NWT-045-2311-001</td>\n",
       "      <td>0.018616</td>\n",
       "      <td>0.017535</td>\n",
       "      <td>0.016288</td>\n",
       "      <td>0.015107</td>\n",
       "      <td>0.014212</td>\n",
       "      <td>0.013745</td>\n",
       "      <td>0.013721</td>\n",
       "      <td>0.014041</td>\n",
       "      <td>...</td>\n",
       "      <td>0.003602</td>\n",
       "      <td>0.003564</td>\n",
       "      <td>0.003545</td>\n",
       "      <td>0.003543</td>\n",
       "      <td>0.003562</td>\n",
       "      <td>Group 3</td>\n",
       "      <td>Group 2</td>\n",
       "      <td>Group 3</td>\n",
       "      <td>Thailand</td>\n",
       "      <td>Thai</td>\n",
       "    </tr>\n",
       "    <tr>\n",
       "      <th>274</th>\n",
       "      <td>KBX</td>\n",
       "      <td>ID-KBX-068-2307-015</td>\n",
       "      <td>0.015842</td>\n",
       "      <td>0.016124</td>\n",
       "      <td>0.016168</td>\n",
       "      <td>0.016021</td>\n",
       "      <td>0.015721</td>\n",
       "      <td>0.015295</td>\n",
       "      <td>0.014766</td>\n",
       "      <td>0.014173</td>\n",
       "      <td>...</td>\n",
       "      <td>0.001180</td>\n",
       "      <td>0.001157</td>\n",
       "      <td>0.001153</td>\n",
       "      <td>0.001173</td>\n",
       "      <td>0.001214</td>\n",
       "      <td>Group 3</td>\n",
       "      <td>Group 2</td>\n",
       "      <td>Group 4</td>\n",
       "      <td>Indonesia</td>\n",
       "      <td>Non-Thai</td>\n",
       "    </tr>\n",
       "    <tr>\n",
       "      <th>275</th>\n",
       "      <td>KBX</td>\n",
       "      <td>ID-KBX-068-2307-024</td>\n",
       "      <td>0.015416</td>\n",
       "      <td>0.016000</td>\n",
       "      <td>0.016042</td>\n",
       "      <td>0.015693</td>\n",
       "      <td>0.015142</td>\n",
       "      <td>0.014550</td>\n",
       "      <td>0.014018</td>\n",
       "      <td>0.013603</td>\n",
       "      <td>...</td>\n",
       "      <td>0.002794</td>\n",
       "      <td>0.002773</td>\n",
       "      <td>0.002720</td>\n",
       "      <td>0.002636</td>\n",
       "      <td>0.002530</td>\n",
       "      <td>Group 3</td>\n",
       "      <td>Group 2</td>\n",
       "      <td>Group 4</td>\n",
       "      <td>Indonesia</td>\n",
       "      <td>Non-Thai</td>\n",
       "    </tr>\n",
       "  </tbody>\n",
       "</table>\n",
       "<p>276 rows × 6957 columns</p>\n",
       "</div>"
      ],
      "text/plain": [
       "    prov_char          sample_code   649.893   650.376   650.858    651.34  \\\n",
       "0         STN  TH-STN-060-2209-009  0.020314  0.020928  0.021408  0.021729   \n",
       "1         TRG  TH-TRG-002-2209-010  0.012843  0.013337  0.013960  0.014679   \n",
       "2         CCO  TH-CCO-044-2311-001  0.011225  0.011206  0.011245  0.011192   \n",
       "3         KRI  TH-KRI-002-2209-017  0.010365  0.010038  0.009620  0.009147   \n",
       "4         SNK  TH-SNK-002-2208-013  0.012944  0.012616  0.012494  0.012580   \n",
       "..        ...                  ...       ...       ...       ...       ...   \n",
       "271       NRT  TH-NRT-012-2403-012  0.013576  0.013539  0.013681  0.013957   \n",
       "272       SSX  ID-SSX-068-2307-028  0.016809  0.017187  0.017191  0.016868   \n",
       "273       NWT  TH-NWT-045-2311-001  0.018616  0.017535  0.016288  0.015107   \n",
       "274       KBX  ID-KBX-068-2307-015  0.015842  0.016124  0.016168  0.016021   \n",
       "275       KBX  ID-KBX-068-2307-024  0.015416  0.016000  0.016042  0.015693   \n",
       "\n",
       "      651.822   652.304   652.786   653.268  ...  3998.194  3998.676  \\\n",
       "0    0.021839  0.021679  0.021226  0.020511  ... -0.002017 -0.001934   \n",
       "1    0.015426  0.016112  0.016643  0.016929  ... -0.000462 -0.000451   \n",
       "2    0.010933  0.010452  0.009847  0.009296  ... -0.000513 -0.000498   \n",
       "3    0.008728  0.008515  0.008642  0.009174  ...  0.001743  0.001770   \n",
       "4    0.012845  0.013237  0.013695  0.014149  ... -0.001177 -0.001212   \n",
       "..        ...       ...       ...       ...  ...       ...       ...   \n",
       "271  0.014308  0.014660  0.014937  0.015068  ...  0.002678  0.002709   \n",
       "272  0.016308  0.015622  0.014912  0.014267  ...  0.000892  0.000970   \n",
       "273  0.014212  0.013745  0.013721  0.014041  ...  0.003602  0.003564   \n",
       "274  0.015721  0.015295  0.014766  0.014173  ...  0.001180  0.001157   \n",
       "275  0.015142  0.014550  0.014018  0.013603  ...  0.002794  0.002773   \n",
       "\n",
       "     3999.158   3999.64  4000.122  tgp_name  dgp_name  fgp_name  country_name  \\\n",
       "0   -0.001850 -0.001766 -0.001681   Group 2   Group 1   Group 2      Thailand   \n",
       "1   -0.000433 -0.000408 -0.000377   Group 2   Group 1   Group 2      Thailand   \n",
       "2   -0.000488 -0.000473 -0.000445   Group 1   Group 1   Group 1      Thailand   \n",
       "3    0.001800  0.001828  0.001853   Group 1   Group 1   Group 1      Thailand   \n",
       "4   -0.001264 -0.001328 -0.001394   Group 1   Group 1   Group 2      Thailand   \n",
       "..        ...       ...       ...       ...       ...       ...           ...   \n",
       "271  0.002757  0.002819  0.002890   Group 2   Group 2   Group 3      Thailand   \n",
       "272  0.001045  0.001107  0.001147   Group 3   Group 2   Group 3     Indonesia   \n",
       "273  0.003545  0.003543  0.003562   Group 3   Group 2   Group 3      Thailand   \n",
       "274  0.001153  0.001173  0.001214   Group 3   Group 2   Group 4     Indonesia   \n",
       "275  0.002720  0.002636  0.002530   Group 3   Group 2   Group 4     Indonesia   \n",
       "\n",
       "     thnoth_name  \n",
       "0           Thai  \n",
       "1           Thai  \n",
       "2           Thai  \n",
       "3           Thai  \n",
       "4           Thai  \n",
       "..           ...  \n",
       "271         Thai  \n",
       "272     Non-Thai  \n",
       "273         Thai  \n",
       "274     Non-Thai  \n",
       "275     Non-Thai  \n",
       "\n",
       "[276 rows x 6957 columns]"
      ]
     },
     "execution_count": 3,
     "metadata": {},
     "output_type": "execute_result"
    }
   ],
   "source": [
    "df_0"
   ]
  },
  {
   "cell_type": "markdown",
   "metadata": {},
   "source": [
    "Selecting Regions of Interest"
   ]
  },
  {
   "cell_type": "code",
   "execution_count": 4,
   "metadata": {},
   "outputs": [],
   "source": [
    "# Define the regions of interest\n",
    "regions_of_interest = [\n",
    "    (2996, 3016), (2943, 2963), (2912, 2932), (2843, 2863),\n",
    "    (1490, 2010), (1455, 1475), (1408, 1428), (1368, 1388),\n",
    "    (1225, 1245), (1150, 1170), (1106, 1126), (1088, 1108),\n",
    "    (990, 920), (712, 732)\n",
    "]\n",
    "\n",
    "# Extract columns corresponding to the regions of interest\n",
    "columns_to_focus = []\n",
    "for start, end in regions_of_interest:\n",
    "    columns_to_focus.extend([col for col in df_0.columns[4:-5] if start <= float(col) <= end])\n",
    "\n",
    "# Create a new DataFrame with the selected regions\n",
    "df_0_selected_regions = df_0[columns_to_focus]\n",
    "\n",
    "# Combine the selected regions with the target column and other relevant columns\n",
    "df_0_selected_regions = pd.concat([df_0[['dgp_name', 'prov_char']], df_0_selected_regions], axis=1)\n",
    "\n",
    "# Save the DataFrame for further processing\n",
    "df_0_selected_regions.to_csv('data/data file 4/data_1.csv', index=False)\n"
   ]
  },
  {
   "cell_type": "markdown",
   "metadata": {},
   "source": [
    "FUNCTIONS"
   ]
  },
  {
   "cell_type": "markdown",
   "metadata": {},
   "source": [
    "Baseline Correction"
   ]
  },
  {
   "cell_type": "code",
   "execution_count": 5,
   "metadata": {},
   "outputs": [],
   "source": [
    "from scipy.signal import savgol_filter\n",
    "\n",
    "# Function for baseline correction with dynamic window length\n",
    "def baseline_correction(spectrum, default_window_length=15, polyorder=3):\n",
    "    spectrum_length = len(spectrum)\n",
    "    if spectrum_length < default_window_length:\n",
    "        window_length = spectrum_length // 2 * 2 + 1  # Make window length odd and less than the size of the spectrum\n",
    "    else:\n",
    "        window_length = default_window_length\n",
    "    baseline = savgol_filter(spectrum, window_length, polyorder, mode='nearest')\n",
    "    corrected_spectrum = spectrum - baseline\n",
    "    return corrected_spectrum\n",
    "\n",
    "# Apply baseline correction\n",
    "df_baseline_corrected_v0 = df_0_selected_regions.copy()\n",
    "for col in columns_to_focus:\n",
    "    df_baseline_corrected_v0[col] = baseline_correction(df_baseline_corrected_v0[col])\n",
    "\n",
    "# Save the baseline corrected data\n",
    "df_baseline_corrected_v0.to_csv('data/data file 4/data_1_bslcrct.csv', index=False)"
   ]
  },
  {
   "cell_type": "markdown",
   "metadata": {},
   "source": [
    "SavGol Smoothing"
   ]
  },
  {
   "cell_type": "code",
   "execution_count": 6,
   "metadata": {},
   "outputs": [],
   "source": [
    "# Function for Savitzky-Golay smoothing\n",
    "def savitzky_golay_smoothing(spectrum, default_window_length=11, polyorder=2):\n",
    "    window_length = min(default_window_length, len(spectrum) // 2 * 2 + 1)  # Make window length odd and less than or equal to the size of the spectrum\n",
    "    if window_length < 3:  # Ensure window length is at least 3\n",
    "        window_length = 3\n",
    "    return savgol_filter(spectrum, window_length, polyorder, mode='nearest')  # Set mode to 'nearest'\n",
    "\n",
    "# Apply smoothing\n",
    "df_smoothed_v0 = df_baseline_corrected_v0.copy()\n",
    "for col in columns_to_focus:\n",
    "    df_smoothed_v0[col] = savitzky_golay_smoothing(df_smoothed_v0[col])\n",
    "\n",
    "# Save the smoothed data\n",
    "df_smoothed_v0.to_csv('data/data file 4/data_1_smoothed.csv', index=False)\n"
   ]
  },
  {
   "cell_type": "markdown",
   "metadata": {},
   "source": [
    "Normalization"
   ]
  },
  {
   "cell_type": "code",
   "execution_count": 7,
   "metadata": {},
   "outputs": [],
   "source": [
    "# Function for normalization (Min-Max scaling)\n",
    "def min_max_normalization(spectrum):\n",
    "    return (spectrum - np.min(spectrum)) / (np.max(spectrum) - np.min(spectrum))\n",
    "\n",
    "# Apply normalization\n",
    "df_normalized_v0 = df_smoothed_v0.copy()\n",
    "for col in columns_to_focus:\n",
    "    df_normalized_v0[col] = min_max_normalization(df_normalized_v0[col])\n",
    "\n",
    "# Save the normalized data\n",
    "df_normalized_v0.to_csv('data/data file 4/data_1_normalized.csv', index=False)\n"
   ]
  },
  {
   "cell_type": "markdown",
   "metadata": {},
   "source": [
    "Derivatization (np.gradient)"
   ]
  },
  {
   "cell_type": "code",
   "execution_count": 8,
   "metadata": {},
   "outputs": [],
   "source": [
    "# Calculate the first derivative using np.gradient\n",
    "data_spectrum = df_normalized_v0.iloc[:, 2:].values\n",
    "first_derivative_np = np.gradient(data_spectrum, axis=1)\n",
    "\n",
    "# Calculate the second derivative using np.gradient\n",
    "second_derivative_np = np.gradient(first_derivative_np, axis=1)\n",
    "\n",
    "# Convert the results back to DataFrame\n",
    "data_1_der_np = pd.DataFrame(first_derivative_np, columns=df_normalized_v0.columns[2:])\n",
    "data_2_der_np = pd.DataFrame(second_derivative_np, columns=df_normalized_v0.columns[2:])\n",
    "\n",
    "# Combine the first two columns from the original dataset with the np.gradient derivatives\n",
    "\n",
    "# Extract the first two columns\n",
    "first_two_columns = df_normalized_v0.iloc[:, :2]\n",
    "\n",
    "# Combine the first two columns with the derivatives\n",
    "data_1_der_combined = pd.concat([first_two_columns, data_1_der_np], axis=1)\n",
    "data_2_der_combined = pd.concat([first_two_columns, data_2_der_np], axis=1)\n",
    "\n",
    "# Export the combined data to CSV\n",
    "data_1_der_combined.to_csv('data/data file 4/data_1_1_der.csv', index=False)\n",
    "data_2_der_combined.to_csv('data/data file 4/data_1_2_der.csv', index=False)"
   ]
  },
  {
   "cell_type": "markdown",
   "metadata": {},
   "source": [
    "Derivatization (SavGol)"
   ]
  },
  {
   "cell_type": "code",
   "execution_count": 9,
   "metadata": {},
   "outputs": [],
   "source": [
    "# Extract the spectrum data\n",
    "data_spectrum = df_normalized_v0.iloc[:, 2:].values\n",
    "\n",
    "# Apply Savitzky-Golay filter for the first derivative\n",
    "first_derivative_savgol = savgol_filter(data_spectrum, window_length=5, polyorder=2, deriv=1, axis=1)\n",
    "\n",
    "# Apply Savitzky-Golay filter for the second derivative\n",
    "second_derivative_savgol = savgol_filter(data_spectrum, window_length=5, polyorder=2, deriv=2, axis=1)\n",
    "\n",
    "# Convert the results back to DataFrame\n",
    "data_1_der_savgol = pd.DataFrame(first_derivative_savgol, columns=df_normalized_v0.columns[2:])\n",
    "data_2_der_savgol = pd.DataFrame(second_derivative_savgol, columns=df_normalized_v0.columns[2:])\n",
    "\n",
    "# Extract the first two columns\n",
    "first_two_columns = df_normalized_v0.iloc[:, :2]\n",
    "\n",
    "# Combine the first two columns with the Savitzky-Golay derivatives\n",
    "data_1_der_savgol_combined = pd.concat([first_two_columns, data_1_der_savgol], axis=1)\n",
    "data_2_der_savgol_combined = pd.concat([first_two_columns, data_2_der_savgol], axis=1)\n",
    "\n",
    "# Export the combined data to CSV\n",
    "data_1_der_savgol_combined.to_csv('data/data file 4/data_1_1_der_savgol.csv', index=False)\n",
    "data_2_der_savgol_combined.to_csv('data/data file 4/data_1_2_der_savgol.csv', index=False)"
   ]
  },
  {
   "cell_type": "markdown",
   "metadata": {},
   "source": [
    "SNV"
   ]
  },
  {
   "cell_type": "code",
   "execution_count": 10,
   "metadata": {},
   "outputs": [
    {
     "name": "stderr",
     "output_type": "stream",
     "text": [
      "c:\\Users\\pingk\\OneDrive - Chulalongkorn University\\Documents\\mekargit\\cpocluster\\env\\Lib\\site-packages\\numpy\\_core\\fromnumeric.py:3800: FutureWarning: The behavior of DataFrame.std with axis=None is deprecated, in a future version this will reduce over both axes and return a scalar. To retain the old behavior, pass axis=0 (or do not pass axis)\n",
      "  return std(axis=axis, dtype=dtype, out=out, ddof=ddof, **kwargs)\n"
     ]
    }
   ],
   "source": [
    "def snv(spectrum):\n",
    "    return (spectrum - np.mean(spectrum)) / np.std(spectrum)\n",
    "\n",
    "# Apply SNV to the selected regions\n",
    "df_snv = df_0_selected_regions.copy()\n",
    "for col in columns_to_focus:\n",
    "    df_snv[col] = snv(df_snv[col])\n",
    "\n",
    "# Save the SNV data\n",
    "df_snv.to_csv('data/data file 4/data_1_snv.csv', index=False)\n"
   ]
  },
  {
   "cell_type": "markdown",
   "metadata": {},
   "source": [
    "Random Normal Variate (RNV)"
   ]
  },
  {
   "cell_type": "code",
   "execution_count": 11,
   "metadata": {},
   "outputs": [],
   "source": [
    "def rnv(spectrum):\n",
    "    random_noise = np.random.normal(0, np.std(spectrum), spectrum.shape)\n",
    "    return spectrum + random_noise\n",
    "\n",
    "# Apply RNV to the selected regions\n",
    "df_rnv = df_0_selected_regions.copy()\n",
    "for col in columns_to_focus:\n",
    "    df_rnv[col] = rnv(df_rnv[col])\n",
    "\n",
    "# Save the RNV data\n",
    "df_rnv.to_csv('data/data file 4/data_1_rnv.csv', index=False)\n"
   ]
  },
  {
   "cell_type": "markdown",
   "metadata": {},
   "source": [
    "Multiplicative Scatter Correction (MSC)"
   ]
  },
  {
   "cell_type": "code",
   "execution_count": 12,
   "metadata": {},
   "outputs": [],
   "source": [
    "# def msc(spectrum, reference):\n",
    "#     mean_spectrum = np.mean(reference, axis=0)\n",
    "#     fit = np.polyfit(mean_spectrum, spectrum, 1, full=True)\n",
    "#     corrected_spectrum = (spectrum - fit[0][1]) / fit[0][0]\n",
    "#     return corrected_spectrum\n",
    "\n",
    "# # Apply MSC to the selected regions\n",
    "# df_msc = df_0_selected_regions.copy()\n",
    "# for col in columns_to_focus:\n",
    "#     df_msc[col] = msc(df_msc[col])\n",
    "\n",
    "# # Save the MSC data\n",
    "# df_msc.to_csv('data/data file 4/data_1_msc2.csv', index=False)\n"
   ]
  },
  {
   "cell_type": "code",
   "execution_count": 13,
   "metadata": {},
   "outputs": [],
   "source": [
    "# Multiplicative Scatter Correction (MSC) function\n",
    "def msc(input_data):\n",
    "    # Mean center the data\n",
    "    mean_spectrum = np.mean(input_data, axis=0)\n",
    "    input_data_centered = input_data - mean_spectrum\n",
    "\n",
    "    # Perform MSC\n",
    "    reference = np.mean(input_data, axis=0)\n",
    "    msc_data = np.zeros_like(input_data)\n",
    "\n",
    "    for i in range(input_data.shape[0]):\n",
    "        fit = np.polyfit(reference, input_data_centered[i, :], 1, full=True)\n",
    "        msc_data[i, :] = (input_data_centered[i, :] - fit[0][1]) / fit[0][0]\n",
    "    \n",
    "    return msc_data\n",
    "\n",
    "# Extract the spectral data from the dataframe\n",
    "spectral_data = df_0_selected_regions.iloc[:, 2:].values\n",
    "\n",
    "# Apply MSC\n",
    "msc_corrected_data = msc(spectral_data)\n",
    "\n",
    "# Create a new dataframe with the MSC corrected data\n",
    "msc_df = pd.DataFrame(msc_corrected_data, columns=df_0_selected_regions.columns[2:])\n",
    "msc_df.insert(0, 'prov_char', df_0_selected_regions['prov_char'])\n",
    "msc_df.insert(0, 'dgp_name', df_0_selected_regions['dgp_name'])\n",
    "\n",
    "# Save the MSC corrected data to a new CSV file\n",
    "msc_corrected_file_path = 'data/data file 4/data_1_msc_corrected.csv'\n",
    "msc_df.to_csv(msc_corrected_file_path, index=False)\n"
   ]
  },
  {
   "cell_type": "markdown",
   "metadata": {},
   "source": [
    "Classification and Evaluation (40-fold)"
   ]
  },
  {
   "cell_type": "code",
   "execution_count": 14,
   "metadata": {},
   "outputs": [],
   "source": [
    "# Define the target variable\n",
    "target = 'dgp_name'\n",
    "\n",
    "# Ensure columns_to_focus are correctly identified\n",
    "numeric_cols_df_0 = df_0_selected_regions.select_dtypes(include=[np.number]).columns.tolist()\n",
    "columns_to_focus = numeric_cols_df_0  # Ensure columns are correctly selected\n",
    "\n",
    "# Classification and evaluation function using 40-fold CV\n",
    "def classify_and_evaluate(df, columns):\n",
    "    from sklearn.ensemble import RandomForestClassifier\n",
    "    from sklearn.model_selection import cross_val_score\n",
    "    from sklearn.preprocessing import LabelEncoder\n",
    "\n",
    "    # Encode target variable\n",
    "    le = LabelEncoder()\n",
    "    y = le.fit_transform(df[target])\n",
    "\n",
    "    # Define features\n",
    "    X = df[columns]\n",
    "\n",
    "    # Initialize the classifier\n",
    "    model = RandomForestClassifier(n_estimators=100, random_state=42)\n",
    "\n",
    "    # Perform cross-validation\n",
    "    scores = cross_val_score(model, X, y, cv=40)\n",
    "\n",
    "    # Print the results\n",
    "    print(f'Cross-Validation Accuracy: {np.mean(scores)}')\n"
   ]
  },
  {
   "cell_type": "code",
   "execution_count": 15,
   "metadata": {},
   "outputs": [
    {
     "name": "stdout",
     "output_type": "stream",
     "text": [
      "Evaluation for No Preprocessing:\n",
      "Cross-Validation Accuracy: 0.9065476190476189\n"
     ]
    }
   ],
   "source": [
    "\n",
    "# Evaluate each preprocessing method\n",
    "print(\"Evaluation for No Preprocessing:\")\n",
    "classify_and_evaluate(df_0_selected_regions, columns_to_focus)"
   ]
  },
  {
   "cell_type": "code",
   "execution_count": 16,
   "metadata": {},
   "outputs": [
    {
     "name": "stdout",
     "output_type": "stream",
     "text": [
      "Evaluation for Baseline Correction:\n",
      "Cross-Validation Accuracy: 0.7708333333333334\n"
     ]
    }
   ],
   "source": [
    "print(\"Evaluation for Baseline Correction:\")\n",
    "df_baseline_corrected_v0z = pd.read_csv('data/data file 4/data_1_bslcrct.csv')\n",
    "classify_and_evaluate(df_baseline_corrected_v0z, columns_to_focus)"
   ]
  },
  {
   "cell_type": "code",
   "execution_count": 17,
   "metadata": {},
   "outputs": [
    {
     "name": "stdout",
     "output_type": "stream",
     "text": [
      "Evaluation for Smoothing:\n",
      "Cross-Validation Accuracy: 0.7232142857142857\n"
     ]
    }
   ],
   "source": [
    "print(\"Evaluation for Smoothing:\")\n",
    "df_smoothed_v0z = pd.read_csv('data/data file 4/data_1_smoothed.csv')\n",
    "classify_and_evaluate(df_smoothed_v0z, columns_to_focus)"
   ]
  },
  {
   "cell_type": "code",
   "execution_count": 18,
   "metadata": {},
   "outputs": [
    {
     "name": "stdout",
     "output_type": "stream",
     "text": [
      "Evaluation for Normalization:\n",
      "Cross-Validation Accuracy: 0.7404761904761904\n"
     ]
    }
   ],
   "source": [
    "print(\"Evaluation for Normalization:\")\n",
    "df_normalized_v0z = pd.read_csv('data/data file 4/data_1_normalized.csv')\n",
    "classify_and_evaluate(df_normalized_v0z, columns_to_focus)"
   ]
  },
  {
   "cell_type": "code",
   "execution_count": 19,
   "metadata": {},
   "outputs": [
    {
     "name": "stdout",
     "output_type": "stream",
     "text": [
      "Evaluation for 1-Derivative Spectroscopy:\n",
      "Cross-Validation Accuracy: 0.7660714285714285\n"
     ]
    }
   ],
   "source": [
    "print(\"Evaluation for 1-Derivative Spectroscopy:\")\n",
    "data_1_der_combined_v0z = pd.read_csv('data/data file 4/data_1_1_der.csv')\n",
    "classify_and_evaluate(data_1_der_combined_v0z, columns_to_focus)"
   ]
  },
  {
   "cell_type": "code",
   "execution_count": 20,
   "metadata": {},
   "outputs": [
    {
     "name": "stdout",
     "output_type": "stream",
     "text": [
      "Evaluation for 2-Derivative Spectroscopy:\n",
      "Cross-Validation Accuracy: 0.8101190476190476\n"
     ]
    }
   ],
   "source": [
    "print(\"Evaluation for 2-Derivative Spectroscopy:\")\n",
    "data_2_der_combined_v0z = pd.read_csv('data/data file 4/data_1_2_der.csv')\n",
    "classify_and_evaluate(data_2_der_combined_v0z, columns_to_focus)"
   ]
  },
  {
   "cell_type": "code",
   "execution_count": 21,
   "metadata": {},
   "outputs": [
    {
     "name": "stdout",
     "output_type": "stream",
     "text": [
      "Evaluation for 1-SG-Derivative Spectroscopy:\n",
      "Cross-Validation Accuracy: 0.8422619047619048\n"
     ]
    }
   ],
   "source": [
    "print(\"Evaluation for 1-SG-Derivative Spectroscopy:\")\n",
    "data_1_der_savgol_combined_v0z = pd.read_csv('data/data file 4/data_1_1_der_savgol.csv')\n",
    "classify_and_evaluate(data_1_der_savgol_combined_v0z, columns_to_focus)"
   ]
  },
  {
   "cell_type": "code",
   "execution_count": 22,
   "metadata": {},
   "outputs": [
    {
     "name": "stdout",
     "output_type": "stream",
     "text": [
      "Evaluation for 2-SG-Derivative Spectroscopy:\n",
      "Cross-Validation Accuracy: 0.7982142857142857\n"
     ]
    }
   ],
   "source": [
    "print(\"Evaluation for 2-SG-Derivative Spectroscopy:\")\n",
    "data_1_der_savgol_combined_v0z = pd.read_csv('data/data file 4/data_1_2_der_savgol.csv')\n",
    "classify_and_evaluate(data_1_der_savgol_combined_v0z, columns_to_focus)"
   ]
  },
  {
   "cell_type": "code",
   "execution_count": 23,
   "metadata": {},
   "outputs": [
    {
     "name": "stdout",
     "output_type": "stream",
     "text": [
      "Evaluation for SNV:\n",
      "Cross-Validation Accuracy: 0.8839285714285715\n",
      "Evaluation for RNV:\n",
      "Cross-Validation Accuracy: 0.6238095238095237\n",
      "Evaluation for MSC:\n",
      "Cross-Validation Accuracy: 0.8958333333333333\n"
     ]
    }
   ],
   "source": [
    "print(\"Evaluation for SNV:\")\n",
    "df_snv_v0z = pd.read_csv('data/data file 4/data_1_snv.csv')\n",
    "classify_and_evaluate(df_snv_v0z, columns_to_focus)\n",
    "\n",
    "print(\"Evaluation for RNV:\")\n",
    "df_rnv_v0z = pd.read_csv('data/data file 4/data_1_rnv.csv')\n",
    "classify_and_evaluate(df_rnv_v0z, columns_to_focus)\n",
    "\n",
    "print(\"Evaluation for MSC:\")\n",
    "df_msc_v0z = pd.read_csv('data/data file 4/data_1_msc_corrected.csv')\n",
    "classify_and_evaluate(df_msc_v0z, columns_to_focus)"
   ]
  },
  {
   "cell_type": "markdown",
   "metadata": {},
   "source": [
    "Classification and Evaluation (40-fold) -with extra detailed"
   ]
  },
  {
   "cell_type": "code",
   "execution_count": 24,
   "metadata": {},
   "outputs": [],
   "source": [
    "# Define the target variable\n",
    "target = 'dgp_name'\n",
    "\n",
    "# Ensure columns_to_focus are correctly identified\n",
    "numeric_cols_df_0 = df_0_selected_regions.select_dtypes(include=[np.number]).columns.tolist()\n",
    "columns_to_focus = numeric_cols_df_0  # Ensure columns are correctly selected\n",
    "\n",
    "# Classification and evaluation function using 40-fold CV with detailed metrics\n",
    "def classify_and_evaluate(df, columns):\n",
    "    from sklearn.ensemble import RandomForestClassifier\n",
    "    from sklearn.model_selection import cross_val_score, StratifiedKFold\n",
    "    from sklearn.preprocessing import LabelEncoder\n",
    "    from sklearn.metrics import accuracy_score, precision_score, recall_score, f1_score, confusion_matrix\n",
    "    import numpy as np\n",
    "\n",
    "    # Encode target variable\n",
    "    le = LabelEncoder()\n",
    "    y = le.fit_transform(df[target])\n",
    "\n",
    "    # Define features\n",
    "    X = df[columns]\n",
    "\n",
    "    # Initialize the classifier\n",
    "    model = RandomForestClassifier(n_estimators=100, random_state=42)\n",
    "\n",
    "    # Initialize Stratified K-Fold Cross-Validation\n",
    "    skf = StratifiedKFold(n_splits=40)\n",
    "\n",
    "    # Arrays to store results\n",
    "    accuracies = []\n",
    "    precisions = []\n",
    "    recalls = []\n",
    "    f1_scores = []\n",
    "    conf_matrices = []\n",
    "\n",
    "    # Perform cross-validation\n",
    "    for train_idx, test_idx in skf.split(X, y):\n",
    "        X_train, X_test = X.iloc[train_idx], X.iloc[test_idx]\n",
    "        y_train, y_test = y[train_idx], y[test_idx]\n",
    "\n",
    "        # Train the model\n",
    "        model.fit(X_train, y_train)\n",
    "\n",
    "        # Predict and evaluate\n",
    "        y_pred = model.predict(X_test)\n",
    "        accuracies.append(accuracy_score(y_test, y_pred))\n",
    "        precisions.append(precision_score(y_test, y_pred, average=None))\n",
    "        recalls.append(recall_score(y_test, y_pred, average=None))\n",
    "        f1_scores.append(f1_score(y_test, y_pred, average=None))\n",
    "        conf_matrices.append(confusion_matrix(y_test, y_pred))\n",
    "\n",
    "    # Calculate mean scores\n",
    "    mean_accuracy = np.mean(accuracies)\n",
    "    mean_precision = np.mean(precisions, axis=0)\n",
    "    mean_recall = np.mean(recalls, axis=0)\n",
    "    mean_f1 = np.mean(f1_scores, axis=0)\n",
    "    mean_conf_matrix = np.mean(conf_matrices, axis=0)\n",
    "\n",
    "    # Print the results\n",
    "    print(f'Cross-Validation Accuracy: {mean_accuracy}')\n",
    "    print(f'Precision per class: {mean_precision}')\n",
    "    print(f'Recall per class: {mean_recall}')\n",
    "    print(f'F1-score per class: {mean_f1}')\n"
   ]
  },
  {
   "cell_type": "code",
   "execution_count": 25,
   "metadata": {},
   "outputs": [
    {
     "name": "stdout",
     "output_type": "stream",
     "text": [
      "Evaluation for No Preprocessing:\n",
      "Cross-Validation Accuracy: 0.9065476190476189\n",
      "Precision per class: [0.92291667 0.9175    ]\n",
      "Recall per class: [0.90208333 0.91875   ]\n",
      "F1-score per class: [0.90186508 0.90759921]\n",
      "Evaluation for Baseline Correction:\n"
     ]
    },
    {
     "name": "stderr",
     "output_type": "stream",
     "text": [
      "c:\\Users\\pingk\\OneDrive - Chulalongkorn University\\Documents\\mekargit\\cpocluster\\env\\Lib\\site-packages\\sklearn\\metrics\\_classification.py:1531: UndefinedMetricWarning: Precision is ill-defined and being set to 0.0 in labels with no predicted samples. Use `zero_division` parameter to control this behavior.\n",
      "  _warn_prf(average, modifier, f\"{metric.capitalize()} is\", len(result))\n",
      "c:\\Users\\pingk\\OneDrive - Chulalongkorn University\\Documents\\mekargit\\cpocluster\\env\\Lib\\site-packages\\sklearn\\metrics\\_classification.py:1531: UndefinedMetricWarning: Precision is ill-defined and being set to 0.0 in labels with no predicted samples. Use `zero_division` parameter to control this behavior.\n",
      "  _warn_prf(average, modifier, f\"{metric.capitalize()} is\", len(result))\n"
     ]
    },
    {
     "name": "stdout",
     "output_type": "stream",
     "text": [
      "Cross-Validation Accuracy: 0.7708333333333334\n",
      "Precision per class: [0.7775     0.80761905]\n",
      "Recall per class: [0.725      0.81458333]\n",
      "F1-score per class: [0.72136905 0.77552309]\n",
      "Evaluation for Smoothing:\n"
     ]
    },
    {
     "name": "stderr",
     "output_type": "stream",
     "text": [
      "c:\\Users\\pingk\\OneDrive - Chulalongkorn University\\Documents\\mekargit\\cpocluster\\env\\Lib\\site-packages\\sklearn\\metrics\\_classification.py:1531: UndefinedMetricWarning: Precision is ill-defined and being set to 0.0 in labels with no predicted samples. Use `zero_division` parameter to control this behavior.\n",
      "  _warn_prf(average, modifier, f\"{metric.capitalize()} is\", len(result))\n",
      "c:\\Users\\pingk\\OneDrive - Chulalongkorn University\\Documents\\mekargit\\cpocluster\\env\\Lib\\site-packages\\sklearn\\metrics\\_classification.py:1531: UndefinedMetricWarning: Precision is ill-defined and being set to 0.0 in labels with no predicted samples. Use `zero_division` parameter to control this behavior.\n",
      "  _warn_prf(average, modifier, f\"{metric.capitalize()} is\", len(result))\n"
     ]
    },
    {
     "name": "stdout",
     "output_type": "stream",
     "text": [
      "Cross-Validation Accuracy: 0.7232142857142857\n",
      "Precision per class: [0.76333333 0.7260119 ]\n",
      "Recall per class: [0.63125 0.83125]\n",
      "F1-score per class: [0.66150794 0.7502381 ]\n",
      "Evaluation for Normalization:\n"
     ]
    },
    {
     "name": "stderr",
     "output_type": "stream",
     "text": [
      "c:\\Users\\pingk\\OneDrive - Chulalongkorn University\\Documents\\mekargit\\cpocluster\\env\\Lib\\site-packages\\sklearn\\metrics\\_classification.py:1531: UndefinedMetricWarning: Precision is ill-defined and being set to 0.0 in labels with no predicted samples. Use `zero_division` parameter to control this behavior.\n",
      "  _warn_prf(average, modifier, f\"{metric.capitalize()} is\", len(result))\n"
     ]
    },
    {
     "name": "stdout",
     "output_type": "stream",
     "text": [
      "Cross-Validation Accuracy: 0.7404761904761904\n",
      "Precision per class: [0.7925     0.73946429]\n",
      "Recall per class: [0.66666667 0.82083333]\n",
      "F1-score per class: [0.69194444 0.75263889]\n",
      "Evaluation for 1-Derivative Spectroscopy:\n",
      "Cross-Validation Accuracy: 0.7660714285714285\n",
      "Precision per class: [0.76833333 0.83333333]\n",
      "Recall per class: [0.82083333 0.71458333]\n",
      "F1-score per class: [0.77117063 0.73982143]\n",
      "Evaluation for 2-Derivative Spectroscopy:\n"
     ]
    },
    {
     "name": "stderr",
     "output_type": "stream",
     "text": [
      "c:\\Users\\pingk\\OneDrive - Chulalongkorn University\\Documents\\mekargit\\cpocluster\\env\\Lib\\site-packages\\sklearn\\metrics\\_classification.py:1531: UndefinedMetricWarning: Precision is ill-defined and being set to 0.0 in labels with no predicted samples. Use `zero_division` parameter to control this behavior.\n",
      "  _warn_prf(average, modifier, f\"{metric.capitalize()} is\", len(result))\n",
      "c:\\Users\\pingk\\OneDrive - Chulalongkorn University\\Documents\\mekargit\\cpocluster\\env\\Lib\\site-packages\\sklearn\\metrics\\_classification.py:1531: UndefinedMetricWarning: Precision is ill-defined and being set to 0.0 in labels with no predicted samples. Use `zero_division` parameter to control this behavior.\n",
      "  _warn_prf(average, modifier, f\"{metric.capitalize()} is\", len(result))\n"
     ]
    },
    {
     "name": "stdout",
     "output_type": "stream",
     "text": [
      "Cross-Validation Accuracy: 0.8101190476190476\n",
      "Precision per class: [0.77958333 0.86291667]\n",
      "Recall per class: [0.82708333 0.79375   ]\n",
      "F1-score per class: [0.79005952 0.80009921]\n",
      "Evaluation for 1-SG-Derivative Spectroscopy:\n",
      "Cross-Validation Accuracy: 0.8422619047619048\n",
      "Precision per class: [0.86083333 0.86708333]\n",
      "Recall per class: [0.85416667 0.83541667]\n",
      "F1-score per class: [0.83952381 0.8352381 ]\n",
      "Evaluation for 2-SG-Derivative Spectroscopy:\n",
      "Cross-Validation Accuracy: 0.7982142857142857\n",
      "Precision per class: [0.79166667 0.85041667]\n",
      "Recall per class: [0.87083333 0.72708333]\n",
      "F1-score per class: [0.81394841 0.76343254]\n"
     ]
    }
   ],
   "source": [
    "# Evaluate each preprocessing method\n",
    "print(\"Evaluation for No Preprocessing:\")\n",
    "classify_and_evaluate(df_0_selected_regions, columns_to_focus)\n",
    "\n",
    "print(\"Evaluation for Baseline Correction:\")\n",
    "df_baseline_corrected_v0y = pd.read_csv('data/data file 4/data_1_bslcrct.csv')\n",
    "classify_and_evaluate(df_baseline_corrected_v0y, columns_to_focus)\n",
    "\n",
    "print(\"Evaluation for Smoothing:\")\n",
    "df_smoothed_v0y = pd.read_csv('data/data file 4/data_1_smoothed.csv')\n",
    "classify_and_evaluate(df_smoothed_v0y, columns_to_focus)\n",
    "\n",
    "print(\"Evaluation for Normalization:\")\n",
    "df_normalized_v0y = pd.read_csv('data/data file 4/data_1_normalized.csv')\n",
    "classify_and_evaluate(df_normalized_v0y, columns_to_focus)\n",
    "\n",
    "print(\"Evaluation for 1-Derivative Spectroscopy:\")\n",
    "df_derivative_v0y = pd.read_csv('data/data file 4/data_1_1_der.csv')\n",
    "classify_and_evaluate(df_derivative_v0y, columns_to_focus)\n",
    "\n",
    "print(\"Evaluation for 2-Derivative Spectroscopy:\")\n",
    "data_2_der_combined_v0y = pd.read_csv('data/data file 4/data_1_2_der.csv')\n",
    "classify_and_evaluate(data_2_der_combined_v0y, columns_to_focus)\n",
    "\n",
    "print(\"Evaluation for 1-SG-Derivative Spectroscopy:\")\n",
    "data_1_der_savgol_combined_v0y = pd.read_csv('data/data file 4/data_1_1_der_savgol.csv')\n",
    "classify_and_evaluate(data_1_der_savgol_combined_v0y, columns_to_focus)\n",
    "\n",
    "print(\"Evaluation for 2-SG-Derivative Spectroscopy:\")\n",
    "data_1_der_savgol_combined_v0y = pd.read_csv('data/data file 4/data_1_2_der_savgol.csv')\n",
    "classify_and_evaluate(data_1_der_savgol_combined_v0y, columns_to_focus)"
   ]
  },
  {
   "cell_type": "code",
   "execution_count": 26,
   "metadata": {},
   "outputs": [
    {
     "name": "stdout",
     "output_type": "stream",
     "text": [
      "Evaluation for SNV:\n",
      "Cross-Validation Accuracy: 0.8839285714285715\n",
      "Precision per class: [0.91666667 0.90333333]\n",
      "Recall per class: [0.875   0.90625]\n",
      "F1-score per class: [0.86948413 0.88855159]\n",
      "Evaluation for RNV:\n",
      "Cross-Validation Accuracy: 0.6238095238095237\n",
      "Precision per class: [0.66       0.62708333]\n",
      "Recall per class: [0.60625    0.63958333]\n",
      "F1-score per class: [0.59589286 0.60785714]\n",
      "Evaluation for MSC:\n",
      "Cross-Validation Accuracy: 0.8958333333333333\n",
      "Precision per class: [0.915   0.90125]\n",
      "Recall per class: [0.87916667 0.9125    ]\n",
      "F1-score per class: [0.88700397 0.89912698]\n"
     ]
    }
   ],
   "source": [
    "print(\"Evaluation for SNV:\")\n",
    "df_snv_v0y = pd.read_csv('data/data file 4/data_1_snv.csv')\n",
    "classify_and_evaluate(df_snv_v0y, columns_to_focus)\n",
    "\n",
    "print(\"Evaluation for RNV:\")\n",
    "df_rnv_v0y = pd.read_csv('data/data file 4/data_1_rnv.csv')\n",
    "classify_and_evaluate(df_rnv_v0y, columns_to_focus)\n",
    "\n",
    "print(\"Evaluation for MSC:\")\n",
    "df_msc_v0y = pd.read_csv('data/data file 4/data_1_msc_corrected.csv')\n",
    "classify_and_evaluate(df_msc_v0y, columns_to_focus)"
   ]
  },
  {
   "cell_type": "code",
   "execution_count": 27,
   "metadata": {},
   "outputs": [
    {
     "data": {
      "text/plain": [
       "1576"
      ]
     },
     "execution_count": 27,
     "metadata": {},
     "output_type": "execute_result"
    }
   ],
   "source": [
    "len(columns_to_focus)"
   ]
  },
  {
   "cell_type": "markdown",
   "metadata": {},
   "source": [
    "Classification and Evaluation using LOGO-CV"
   ]
  },
  {
   "cell_type": "code",
   "execution_count": 28,
   "metadata": {},
   "outputs": [],
   "source": [
    "# Classification and evaluation function using LOGO-CV with detailed metrics\n",
    "def classify_and_evaluate_logo_cv_detailed(df, columns):\n",
    "    from sklearn.ensemble import RandomForestClassifier\n",
    "    from sklearn.model_selection import LeaveOneGroupOut\n",
    "    from sklearn.preprocessing import LabelEncoder\n",
    "    from sklearn.metrics import accuracy_score, precision_score, recall_score, f1_score, confusion_matrix\n",
    "    \n",
    "    # Encode target variable\n",
    "    le = LabelEncoder()\n",
    "    y = le.fit_transform(df[target])\n",
    "    \n",
    "    # Define features\n",
    "    X = df[columns]\n",
    "    \n",
    "    # Initialize the classifier\n",
    "    model = RandomForestClassifier(n_estimators=100, random_state=42)\n",
    "    \n",
    "    # Initialize LOGO-CV\n",
    "    logo = LeaveOneGroupOut()\n",
    "    groups = df['prov_char']\n",
    "    \n",
    "    # Arrays to store results\n",
    "    accuracies = []\n",
    "    precisions = []\n",
    "    recalls = []\n",
    "    f1_scores = []\n",
    "    all_y_test = []\n",
    "    all_y_pred = []\n",
    "    \n",
    "    # Perform LOGO-CV\n",
    "    for train_idx, test_idx in logo.split(X, y, groups=groups):\n",
    "        X_train, X_test = X.iloc[train_idx], X.iloc[test_idx]\n",
    "        y_train, y_test = y[train_idx], y[test_idx]\n",
    "        \n",
    "        # Train the model\n",
    "        model.fit(X_train, y_train)\n",
    "        \n",
    "        # Predict and evaluate\n",
    "        y_pred = model.predict(X_test)\n",
    "        accuracies.append(accuracy_score(y_test, y_pred))\n",
    "        all_y_test.extend(y_test)\n",
    "        all_y_pred.extend(y_pred)\n",
    "        \n",
    "    # Calculate overall metrics\n",
    "    mean_accuracy = np.mean(accuracies)\n",
    "    precision = precision_score(all_y_test, all_y_pred, average=None)\n",
    "    recall = recall_score(all_y_test, all_y_pred, average=None)\n",
    "    f1 = f1_score(all_y_test, all_y_pred, average=None)\n",
    "    conf_matrix = confusion_matrix(all_y_test, all_y_pred)\n",
    "    \n",
    "    # Print the results\n",
    "    print(f'Mean Accuracy: {mean_accuracy}')\n",
    "    print(f'Precision per class: {precision}')\n",
    "    print(f'Recall per class: {recall}')\n",
    "    print(f'F1-score per class: {f1}')\n",
    "    \n",
    "    # Return confusion matrix for presentation\n",
    "    return conf_matrix"
   ]
  },
  {
   "cell_type": "code",
   "execution_count": 29,
   "metadata": {},
   "outputs": [
    {
     "name": "stdout",
     "output_type": "stream",
     "text": [
      "LOGO-CV Evaluation for No Preprocessing:\n",
      "Mean Accuracy: 0.6510690174305733\n",
      "Precision per class: [0.53773585 0.52352941]\n",
      "Recall per class: [0.41304348 0.64492754]\n",
      "F1-score per class: [0.46721311 0.57792208]\n",
      "LOGO-CV Evaluation for Baseline Correction:\n",
      "Mean Accuracy: 0.6004665974757508\n",
      "Precision per class: [0.55639098 0.55244755]\n",
      "Recall per class: [0.53623188 0.57246377]\n",
      "F1-score per class: [0.54612546 0.56227758]\n",
      "LOGO-CV Evaluation for Smoothing:\n",
      "Mean Accuracy: 0.8149411479697523\n",
      "Precision per class: [0.81818182 0.71084337]\n",
      "Recall per class: [0.65217391 0.85507246]\n",
      "F1-score per class: [0.72580645 0.77631579]\n",
      "LOGO-CV Evaluation for Normalization:\n",
      "Mean Accuracy: 0.8250226016038374\n",
      "Precision per class: [0.83486239 0.71856287]\n",
      "Recall per class: [0.65942029 0.86956522]\n",
      "F1-score per class: [0.73684211 0.78688525]\n",
      "LOGO-CV Evaluation for 1-Derivative Spectroscopy:\n",
      "Mean Accuracy: 0.8642235619707015\n",
      "Precision per class: [0.84       0.78145695]\n",
      "Recall per class: [0.76086957 0.85507246]\n",
      "F1-score per class: [0.79847909 0.816609  ]\n",
      "LOGO-CV Evaluation for 2-Derivative Spectroscopy:\n",
      "Mean Accuracy: 0.7760477436369885\n",
      "Precision per class: [0.78571429 0.74      ]\n",
      "Recall per class: [0.7173913  0.80434783]\n",
      "F1-score per class: [0.75       0.77083333]\n",
      "LOGO-CV Evaluation for 1-SG-Derivative Spectroscopy:\n",
      "Mean Accuracy: 0.8317754895752607\n",
      "Precision per class: [0.79699248 0.77622378]\n",
      "Recall per class: [0.76811594 0.80434783]\n",
      "F1-score per class: [0.78228782 0.79003559]\n",
      "LOGO-CV Evaluation for 2-SG-Derivative Spectroscopy:\n",
      "Mean Accuracy: 0.8477963178443727\n",
      "Precision per class: [0.80882353 0.8       ]\n",
      "Recall per class: [0.79710145 0.8115942 ]\n",
      "F1-score per class: [0.80291971 0.8057554 ]\n",
      "LOGO-CV Evaluation for SNV:\n",
      "Mean Accuracy: 0.5751457144431973\n",
      "Precision per class: [0.49107143 0.49390244]\n",
      "Recall per class: [0.39855072 0.58695652]\n",
      "F1-score per class: [0.44       0.53642384]\n",
      "LOGO-CV Evaluation for RNV:\n",
      "Mean Accuracy: 0.46984533760163055\n",
      "Precision per class: [0.40458015 0.4137931 ]\n",
      "Recall per class: [0.38405797 0.43478261]\n",
      "F1-score per class: [0.39405204 0.42402827]\n",
      "LOGO-CV Evaluation for MSC:\n",
      "Mean Accuracy: 0.5538913518467293\n",
      "Precision per class: [0.47154472 0.47712418]\n",
      "Recall per class: [0.42028986 0.52898551]\n",
      "F1-score per class: [0.44444444 0.50171821]\n"
     ]
    }
   ],
   "source": [
    "# Evaluate each preprocessing method using LOGO-CV with detailed metrics\n",
    "print(\"LOGO-CV Evaluation for No Preprocessing:\")\n",
    "conf_matrix_no_preprocessing_v0x = classify_and_evaluate_logo_cv_detailed(df_0_selected_regions, columns_to_focus)\n",
    "\n",
    "print(\"LOGO-CV Evaluation for Baseline Correction:\")\n",
    "df_baseline_corrected_v0x = pd.read_csv('data/data file 4/data_1_bslcrct.csv')\n",
    "conf_matrix_baseline_v0x = classify_and_evaluate_logo_cv_detailed(df_baseline_corrected_v0x, columns_to_focus)\n",
    "\n",
    "print(\"LOGO-CV Evaluation for Smoothing:\")\n",
    "df_smoothed_v0x = pd.read_csv('data/data file 4/data_1_smoothed.csv')\n",
    "conf_matrix_smoothing_v0x = classify_and_evaluate_logo_cv_detailed(df_smoothed_v0x, columns_to_focus)\n",
    "\n",
    "print(\"LOGO-CV Evaluation for Normalization:\")\n",
    "df_normalized_v0x = pd.read_csv('data/data file 4/data_1_normalized.csv')\n",
    "conf_matrix_normalization_v0x = classify_and_evaluate_logo_cv_detailed(df_normalized_v0x, columns_to_focus)\n",
    "\n",
    "print(\"LOGO-CV Evaluation for 1-Derivative Spectroscopy:\")\n",
    "df_1_derivative_v0x = pd.read_csv('data/data file 4/data_1_1_der.csv')\n",
    "conf_matrix_1_derivative_v0x = classify_and_evaluate_logo_cv_detailed(df_1_derivative_v0x, columns_to_focus)\n",
    "\n",
    "print(\"LOGO-CV Evaluation for 2-Derivative Spectroscopy:\")\n",
    "df_2_derivative_v0x = pd.read_csv('data/data file 4/data_1_2_der.csv')\n",
    "conf_matrix_2_derivative_v0x = classify_and_evaluate_logo_cv_detailed(df_2_derivative_v0x, columns_to_focus)\n",
    "\n",
    "print(\"LOGO-CV Evaluation for 1-SG-Derivative Spectroscopy:\")\n",
    "df_1_der_savgol_combined_v0y = pd.read_csv('data/data file 4/data_1_1_der_savgol.csv')\n",
    "conf_matrix_1_sg_v0x = classify_and_evaluate_logo_cv_detailed(df_1_der_savgol_combined_v0y, columns_to_focus)\n",
    "\n",
    "print(\"LOGO-CV Evaluation for 2-SG-Derivative Spectroscopy:\")\n",
    "df_2_der_savgol_combined_v0y = pd.read_csv('data/data file 4/data_1_2_der_savgol.csv')\n",
    "conf_matrix_2_sg_v0x = classify_and_evaluate_logo_cv_detailed(df_2_der_savgol_combined_v0y, columns_to_focus)\n",
    "\n",
    "print(\"LOGO-CV Evaluation for SNV:\")\n",
    "df_snv_v0x = pd.read_csv('data/data file 4/data_1_snv.csv')\n",
    "conf_matrix_snv_v0x = classify_and_evaluate_logo_cv_detailed(df_snv_v0x, columns_to_focus)\n",
    "\n",
    "print(\"LOGO-CV Evaluation for RNV:\")\n",
    "df_rnv_v0x = pd.read_csv('data/data file 4/data_1_rnv.csv')\n",
    "conf_matrix_rnv_v0x = classify_and_evaluate_logo_cv_detailed(df_rnv_v0x, columns_to_focus)\n",
    "\n",
    "print(\"LOGO-CV Evaluation for MSC:\")\n",
    "df_msc_v0x = pd.read_csv('data/data file 4/data_1_msc_corrected.csv')\n",
    "conf_matrix_msc_v0x = classify_and_evaluate_logo_cv_detailed(df_msc_v0x, columns_to_focus)"
   ]
  },
  {
   "cell_type": "markdown",
   "metadata": {},
   "source": [
    "Display Confusion Matrices"
   ]
  },
  {
   "cell_type": "code",
   "execution_count": 31,
   "metadata": {},
   "outputs": [],
   "source": [
    "# Function to display confusion matrix in a tabular format\n",
    "def display_confusion_matrix(conf_matrix, class_labels):\n",
    "    df_cm = pd.DataFrame(conf_matrix, index=class_labels, columns=class_labels)\n",
    "    print(df_cm)\n",
    "\n",
    "# Ensure LabelEncoder is defined and class labels are set\n",
    "from sklearn.preprocessing import LabelEncoder\n",
    "\n",
    "# Define the target variable and fit LabelEncoder\n",
    "target = 'dgp_name'\n",
    "le = LabelEncoder()\n",
    "le.fit(df_0_selected_regions[target])\n",
    "class_labels = le.classes_"
   ]
  },
  {
   "cell_type": "code",
   "execution_count": 32,
   "metadata": {},
   "outputs": [
    {
     "name": "stdout",
     "output_type": "stream",
     "text": [
      "Confusion Matrix for No Preprocessing:\n",
      "         Group 1  Group 2\n",
      "Group 1       57       81\n",
      "Group 2       49       89\n",
      "Confusion Matrix for Baseline Correction:\n",
      "         Group 1  Group 2\n",
      "Group 1       74       64\n",
      "Group 2       59       79\n",
      "Confusion Matrix for Smoothing:\n",
      "         Group 1  Group 2\n",
      "Group 1       90       48\n",
      "Group 2       20      118\n",
      "Confusion Matrix for Normalization:\n",
      "         Group 1  Group 2\n",
      "Group 1       91       47\n",
      "Group 2       18      120\n",
      "Confusion Matrix for Derivative Spectroscopy:\n",
      "         Group 1  Group 2\n",
      "Group 1      105       33\n",
      "Group 2       20      118\n",
      "Confusion Matrix for Derivative Spectroscopy:\n",
      "         Group 1  Group 2\n",
      "Group 1       99       39\n",
      "Group 2       27      111\n",
      "Confusion Matrix for Derivative Spectroscopy:\n",
      "         Group 1  Group 2\n",
      "Group 1      106       32\n",
      "Group 2       27      111\n",
      "Confusion Matrix for Derivative Spectroscopy:\n",
      "         Group 1  Group 2\n",
      "Group 1      110       28\n",
      "Group 2       26      112\n",
      "Confusion Matrix for SNV:\n",
      "         Group 1  Group 2\n",
      "Group 1       55       83\n",
      "Group 2       57       81\n",
      "Confusion Matrix for RNV:\n",
      "         Group 1  Group 2\n",
      "Group 1       53       85\n",
      "Group 2       78       60\n",
      "Confusion Matrix for MSC:\n",
      "         Group 1  Group 2\n",
      "Group 1       58       80\n",
      "Group 2       65       73\n"
     ]
    }
   ],
   "source": [
    "# Display confusion matrices for each preprocessing method\n",
    "print(\"Confusion Matrix for No Preprocessing:\")\n",
    "display_confusion_matrix(conf_matrix_no_preprocessing_v0x, class_labels)\n",
    "\n",
    "print(\"Confusion Matrix for Baseline Correction:\")\n",
    "display_confusion_matrix(conf_matrix_baseline_v0x, class_labels)\n",
    "\n",
    "print(\"Confusion Matrix for Smoothing:\")\n",
    "display_confusion_matrix(conf_matrix_smoothing_v0x, class_labels)\n",
    "\n",
    "print(\"Confusion Matrix for Normalization:\")\n",
    "display_confusion_matrix(conf_matrix_normalization_v0x, class_labels)\n",
    "\n",
    "print(\"Confusion Matrix for Derivative Spectroscopy:\")\n",
    "display_confusion_matrix(conf_matrix_1_derivative_v0x, class_labels)\n",
    "\n",
    "print(\"Confusion Matrix for Derivative Spectroscopy:\")\n",
    "display_confusion_matrix(conf_matrix_2_derivative_v0x, class_labels)\n",
    "\n",
    "print(\"Confusion Matrix for Derivative Spectroscopy:\")\n",
    "display_confusion_matrix(conf_matrix_1_sg_v0x, class_labels)\n",
    "\n",
    "print(\"Confusion Matrix for Derivative Spectroscopy:\")\n",
    "display_confusion_matrix(conf_matrix_2_sg_v0x, class_labels)\n",
    "\n",
    "print(\"Confusion Matrix for SNV:\")\n",
    "display_confusion_matrix(conf_matrix_snv_v0x, class_labels)\n",
    "\n",
    "print(\"Confusion Matrix for RNV:\")\n",
    "display_confusion_matrix(conf_matrix_rnv_v0x, class_labels)\n",
    "\n",
    "print(\"Confusion Matrix for MSC:\")\n",
    "display_confusion_matrix(conf_matrix_msc_v0x, class_labels)"
   ]
  },
  {
   "cell_type": "markdown",
   "metadata": {},
   "source": [
    "1-der snv"
   ]
  },
  {
   "cell_type": "code",
   "execution_count": null,
   "metadata": {},
   "outputs": [],
   "source": [
    "def snv(spectrum):\n",
    "    return (spectrum - np.mean(spectrum)) / np.std(spectrum)\n",
    "\n",
    "\n",
    "# Apply SNV to the selected regions\n",
    "df_snv_1 = df_smoothed_v0x.copy()\n",
    "for col in columns_to_focus:\n",
    "    df_snv_1[col] = snv(df_snv_1[col])\n",
    "\n",
    "# Save the SNV data\n",
    "#df_snv_1.to_csv('data/data file 4/data_1_snv.csv', index=False)\n"
   ]
  },
  {
   "cell_type": "code",
   "execution_count": null,
   "metadata": {},
   "outputs": [
    {
     "name": "stdout",
     "output_type": "stream",
     "text": [
      "Evaluation for Smooth + SNV:\n",
      "Cross-Validation Accuracy: 0.6974213691026827\n",
      "Precision per class: [0.71578919 0.69610244]\n",
      "Recall per class: [0.66589674 0.7290308 ]\n",
      "F1-score per class: [0.68103505 0.70447817]\n"
     ]
    }
   ],
   "source": [
    "print(\"Evaluation for Smooth + SNV:\")\n",
    "classify_and_evaluate(df_snv_1, columns_to_focus)"
   ]
  }
 ],
 "metadata": {
  "kernelspec": {
   "display_name": "env",
   "language": "python",
   "name": "python3"
  },
  "language_info": {
   "codemirror_mode": {
    "name": "ipython",
    "version": 3
   },
   "file_extension": ".py",
   "mimetype": "text/x-python",
   "name": "python",
   "nbconvert_exporter": "python",
   "pygments_lexer": "ipython3",
   "version": "3.12.4"
  }
 },
 "nbformat": 4,
 "nbformat_minor": 2
}
