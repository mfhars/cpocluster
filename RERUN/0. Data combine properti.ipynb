{
 "cells": [
  {
   "cell_type": "code",
   "execution_count": 1,
   "metadata": {},
   "outputs": [],
   "source": [
    "import pandas as pd\n",
    "from sklearn.cluster import KMeans\n",
    "import matplotlib.pyplot as plt\n",
    "import seaborn as sns\n",
    "\n",
    "# Load the data\n",
    "country_mapping = pd.read_excel(r\"C:\\Users\\pingk\\Downloads\\fadhli nitip\\country_mapping.xlsx\")\n",
    "country_2digit = pd.read_excel(r\"C:\\Users\\pingk\\Downloads\\fadhli nitip\\country_2digit.xlsx\")\n",
    "provincial_code = pd.read_excel(r\"C:\\Users\\pingk\\Downloads\\fadhli nitip\\provincial code.xlsx\")\n",
    "three_group_precipitation = pd.read_excel(r\"C:\\Users\\pingk\\Downloads\\fadhli nitip\\three_group_precipitation.xlsx\")\n",
    "four_group_precipitation = pd.read_excel(r\"C:\\Users\\pingk\\Downloads\\fadhli nitip\\four_group_precipitation.xlsx\")\n",
    "island_mapping = pd.read_excel(r\"C:\\Users\\pingk\\Downloads\\fadhli nitip\\island code.xlsx\")\n",
    "thai_mapping = pd.read_excel(r\"C:\\Users\\pingk\\Downloads\\fadhli nitip\\thai_vs_nothai.xlsx\")"
   ]
  },
  {
   "cell_type": "code",
   "execution_count": 4,
   "metadata": {},
   "outputs": [],
   "source": [
    "data_rt4 = pd.read_csv(r\"C:\\Users\\pingk\\Downloads\\fadhli nitip\\fadhli nitip\\csv\\data_NIR_1.csv\")"
   ]
  },
  {
   "cell_type": "code",
   "execution_count": 5,
   "metadata": {},
   "outputs": [
    {
     "name": "stdout",
     "output_type": "stream",
     "text": [
      "Raw Data:\n",
      "  prov_char  country_code country_char           wavenumber     11544  \\\n",
      "0       CBI             0           TH  TH-CBI-028-2312-001  1.130114   \n",
      "1       CBI             0           TH  TH-CBI-028-2312-001  0.632215   \n",
      "2       CBI             0           TH  TH-CBI-028-2312-001  0.327512   \n",
      "3       CBI             0           TH  TH-CBI-028-2312-001  0.409853   \n",
      "4       CBI             0           TH  TH-CBI-028-2312-001  0.325830   \n",
      "\n",
      "      11540     11536     11532     11528     11524  ...      3988      3984  \\\n",
      "0  1.129987  1.129905  1.130098  1.130034  1.129895  ...  4.116173  4.092401   \n",
      "1  0.632145  0.631933  0.631887  0.632053  0.632104  ...  3.968800  3.966085   \n",
      "2  0.327577  0.327569  0.327574  0.327606  0.327647  ...  3.757404  3.723851   \n",
      "3  0.409919  0.410024  0.410191  0.410317  0.410413  ...  3.844122  3.838978   \n",
      "4  0.325964  0.326084  0.326087  0.326056  0.326163  ...  3.791623  3.798710   \n",
      "\n",
      "       3980      3976      3972      3968      3964      3960      3956  \\\n",
      "0  4.085280  4.090815  4.124988  4.168652  4.163396  4.143246  4.156603   \n",
      "1  3.938113  3.913646  3.907744  3.920535  3.933646  3.939754  3.925399   \n",
      "2  3.694534  3.690430  3.701378  3.696666  3.666743  3.634470  3.617612   \n",
      "3  3.811965  3.796956  3.787820  3.774406  3.756090  3.743530  3.741426   \n",
      "4  3.796472  3.783592  3.744903  3.705976  3.696601  3.691616  3.661514   \n",
      "\n",
      "       3952  \n",
      "0  4.158818  \n",
      "1  3.855970  \n",
      "2  3.602382  \n",
      "3  3.725178  \n",
      "4  3.621867  \n",
      "\n",
      "[5 rows x 1903 columns]\n",
      "  country_name  country_code\n",
      "0     Thailand             0\n",
      "1    Indonesia             1\n",
      "2     Malaysia             2\n",
      "  country_char  country_code\n",
      "0           TH             0\n",
      "1           ID             1\n",
      "2           MY             2\n",
      "  prov_char  prov_code\n",
      "0       CBI          0\n",
      "1       CCO          1\n",
      "2       CPN          2\n",
      "3       KBI          3\n",
      "4       KRI          4\n",
      "  prov_char  three_group_precip tgp_name dgp_name\n",
      "0       SKM                   0  Group 1  Group 1\n",
      "1       PKN                   0  Group 1  Group 1\n",
      "2       CBI                   0  Group 1  Group 1\n",
      "3       CCO                   0  Group 1  Group 1\n",
      "4       KRI                   0  Group 1  Group 1\n",
      "  prov_char  four_group_precip fgp_name\n",
      "0       SKM                  0  Group 1\n",
      "1       PKN                  0  Group 1\n",
      "2       CBI                  0  Group 1\n",
      "3       CCO                  0  Group 1\n",
      "4       KRI                  0  Group 1\n",
      "  prov_char  island_code\n",
      "0       CBI            0\n",
      "1       CCO            0\n",
      "2       CPN            0\n",
      "3       KBI            0\n",
      "4       KRI            0\n",
      "  country_char  th_vs_noth thnoth_name\n",
      "0           TH           0        Thai\n",
      "1           ID           1    Non-Thai\n",
      "2           MY           1    Non-Thai\n"
     ]
    }
   ],
   "source": [
    "# Inspect the first few rows of each dataset\n",
    "print(\"Raw Data:\")\n",
    "print(data_rt4.head())\n",
    "print(country_mapping.head())\n",
    "print(country_2digit.head())\n",
    "print(provincial_code.head())\n",
    "print(three_group_precipitation.head())\n",
    "print(four_group_precipitation.head())\n",
    "print(island_mapping.head())\n",
    "print(thai_mapping.head())"
   ]
  },
  {
   "cell_type": "code",
   "execution_count": 6,
   "metadata": {},
   "outputs": [],
   "source": [
    "# Merge data_rt4 with provincial_code on 'prov_char'\n",
    "data_rt4_with_prov_code = pd.merge(data_rt4, provincial_code, how='left', left_on='prov_char', right_on='prov_char')\n",
    "\n",
    "# Merge the result with three_group_precipitation\n",
    "data_rt4_with_3precip = pd.merge(data_rt4_with_prov_code, three_group_precipitation, how='left', left_on='prov_char', right_on='prov_char')\n",
    "\n",
    "# Merge the result with four_group_precipitation\n",
    "data_rt4_with_3p4p = pd.merge(data_rt4_with_3precip, four_group_precipitation, how='left', left_on='prov_char', right_on='prov_char')\n",
    "\n",
    "# Merge the result with country_mapping\n",
    "data_rt4_with_countryname = pd.merge(data_rt4_with_3p4p, country_mapping, how='left', left_on='country_code', right_on='country_code')\n",
    "\n",
    "# Merge the result with thai_mapping\n",
    "data_rt4_with_thai = pd.merge(data_rt4_with_countryname, thai_mapping, how='left', left_on='country_char', right_on='country_char')\n",
    "\n",
    "# Merge the result with island_mapping\n",
    "data_rt4_with_sixcat = pd.merge(data_rt4_with_thai, island_mapping, how='left', left_on='prov_char', right_on='prov_char')"
   ]
  },
  {
   "cell_type": "code",
   "execution_count": 7,
   "metadata": {},
   "outputs": [
    {
     "name": "stdout",
     "output_type": "stream",
     "text": [
      "Data with Additional Groupings:\n",
      "  prov_char  country_code country_char           wavenumber     11544  \\\n",
      "0       CBI             0           TH  TH-CBI-028-2312-001  1.130114   \n",
      "1       CBI             0           TH  TH-CBI-028-2312-001  0.632215   \n",
      "2       CBI             0           TH  TH-CBI-028-2312-001  0.327512   \n",
      "3       CBI             0           TH  TH-CBI-028-2312-001  0.409853   \n",
      "4       CBI             0           TH  TH-CBI-028-2312-001  0.325830   \n",
      "\n",
      "      11540     11536     11532     11528     11524  ...  prov_code  \\\n",
      "0  1.129987  1.129905  1.130098  1.130034  1.129895  ...        0.0   \n",
      "1  0.632145  0.631933  0.631887  0.632053  0.632104  ...        0.0   \n",
      "2  0.327577  0.327569  0.327574  0.327606  0.327647  ...        0.0   \n",
      "3  0.409919  0.410024  0.410191  0.410317  0.410413  ...        0.0   \n",
      "4  0.325964  0.326084  0.326087  0.326056  0.326163  ...        0.0   \n",
      "\n",
      "   three_group_precip  tgp_name  dgp_name  four_group_precip  fgp_name  \\\n",
      "0                 0.0   Group 1   Group 1                0.0   Group 1   \n",
      "1                 0.0   Group 1   Group 1                0.0   Group 1   \n",
      "2                 0.0   Group 1   Group 1                0.0   Group 1   \n",
      "3                 0.0   Group 1   Group 1                0.0   Group 1   \n",
      "4                 0.0   Group 1   Group 1                0.0   Group 1   \n",
      "\n",
      "   country_name  th_vs_noth  thnoth_name  island_code  \n",
      "0      Thailand           0         Thai          0.0  \n",
      "1      Thailand           0         Thai          0.0  \n",
      "2      Thailand           0         Thai          0.0  \n",
      "3      Thailand           0         Thai          0.0  \n",
      "4      Thailand           0         Thai          0.0  \n",
      "\n",
      "[5 rows x 1913 columns]\n"
     ]
    }
   ],
   "source": [
    "# Inspect the first few rows of each dataset\n",
    "print(\"Data with Additional Groupings:\")\n",
    "print(data_rt4_with_sixcat.head())"
   ]
  },
  {
   "cell_type": "code",
   "execution_count": 8,
   "metadata": {},
   "outputs": [],
   "source": [
    "# Input your dataset here\n",
    "\n",
    "asik  = data_rt4_with_sixcat.drop(\n",
    "        columns=[\n",
    "            col for col in data_rt4_with_sixcat.columns \n",
    "            if col in ['country_code', 'prov_code', 'three_group_precip', 'four_group_precip', 'th_vs_noth', 'island_code'] \n",
    "            #or (col.replace('.', '', 1).isdigit() and any(float(col) >= start and float(col) < end for start, end in [(3100, 4001), (1870, 2700)]))\n",
    "            #or (col.replace('.', '', 1).isdigit() and 822.01 <= float(col) < 879.99)\n",
    "        ]\n",
    "    )\n",
    "\n",
    "asik.to_csv('C:/Users/pingk/Downloads/fadhli nitip/asik_NIR_1.csv', index=False)"
   ]
  }
 ],
 "metadata": {
  "kernelspec": {
   "display_name": "env",
   "language": "python",
   "name": "python3"
  },
  "language_info": {
   "codemirror_mode": {
    "name": "ipython",
    "version": 3
   },
   "file_extension": ".py",
   "mimetype": "text/x-python",
   "name": "python",
   "nbconvert_exporter": "python",
   "pygments_lexer": "ipython3",
   "version": "3.12.4"
  }
 },
 "nbformat": 4,
 "nbformat_minor": 2
}
