{
 "cells": [
  {
   "cell_type": "code",
   "execution_count": 13,
   "metadata": {},
   "outputs": [],
   "source": [
    "import pandas as pd\n",
    "import numpy as np\n",
    "from sklearn.preprocessing import StandardScaler\n",
    "from scipy.signal import savgol_filter\n",
    "from sklearn.ensemble import IsolationForest\n",
    "\n",
    "# Load the data\n",
    "df_0 = pd.read_csv(r\"C:\\Users\\pingk\\Downloads\\fadhli nitip\\asik.csv\")\n",
    "\n",
    "# Identify numeric columns\n",
    "numeric_cols = df_0.select_dtypes(include=[np.number]).columns.tolist()\n",
    "string_cols = df_0.select_dtypes(exclude=[np.number]).columns.tolist()\n"
   ]
  },
  {
   "cell_type": "code",
   "execution_count": 14,
   "metadata": {},
   "outputs": [],
   "source": [
    "# Baseline Correction (Example using polynomial fitting)\n",
    "def baseline_correction(df, numeric_cols):\n",
    "    for col in numeric_cols:\n",
    "        df[col] = df[col] - np.polyval(np.polyfit(range(len(df[col])), df[col], 2), range(len(df[col])))\n",
    "    return df\n",
    "\n",
    "# Smoothing (Example using Savitzky-Golay filter)\n",
    "def smooth_spectra(df, numeric_cols, window_length=11, polyorder=2):\n",
    "    for col in numeric_cols:\n",
    "        df[col] = savgol_filter(df[col], window_length, polyorder)\n",
    "    return df\n",
    "\n",
    "# Normalization (Example using vector normalization)\n",
    "def normalize_spectra(df, numeric_cols):\n",
    "    for col in numeric_cols:\n",
    "        df[col] = df[col] / np.linalg.norm(df[col])\n",
    "    return df\n",
    "\n",
    "# Outlier Detection and Removal (Example using Isolation Forest)\n",
    "def remove_outliers(df, numeric_cols):\n",
    "    iso = IsolationForest(contamination=0.05)\n",
    "    yhat = iso.fit_predict(df[numeric_cols])\n",
    "    mask = yhat != -1\n",
    "    return df[mask].reset_index(drop=True)\n",
    "\n",
    "# Remove region between 2700 and 1870\n",
    "def remove_spectral_region(df, start, end):\n",
    "    columns_to_remove = [col for col in df.columns if start <= float(col) <= end]\n",
    "    df = df.drop(columns=columns_to_remove, errors='ignore')\n",
    "    return df"
   ]
  },
  {
   "cell_type": "code",
   "execution_count": 15,
   "metadata": {},
   "outputs": [],
   "source": [
    "# Apply preprocessing steps\n",
    "df_1 = baseline_correction(df_0, numeric_cols)\n",
    "df_2 = smooth_spectra(df_1, numeric_cols)\n",
    "df_3 = normalize_spectra(df_2, numeric_cols)\n",
    "df_4 = remove_outliers(df_3, numeric_cols)\n",
    "df_5 = remove_spectral_region(df_4[numeric_cols], 1870, 2700)"
   ]
  },
  {
   "cell_type": "code",
   "execution_count": 16,
   "metadata": {},
   "outputs": [],
   "source": [
    "# Update numeric columns list after removing spectral region\n",
    "numeric_cols_df_5 = df_5.select_dtypes(include=[np.number]).columns.tolist()\n",
    "string_cols_df_5 = df_5.select_dtypes(exclude=[np.number]).columns.tolist()"
   ]
  }
 ],
 "metadata": {
  "kernelspec": {
   "display_name": "env",
   "language": "python",
   "name": "python3"
  },
  "language_info": {
   "codemirror_mode": {
    "name": "ipython",
    "version": 3
   },
   "file_extension": ".py",
   "mimetype": "text/x-python",
   "name": "python",
   "nbconvert_exporter": "python",
   "pygments_lexer": "ipython3",
   "version": "3.12.4"
  }
 },
 "nbformat": 4,
 "nbformat_minor": 2
}
