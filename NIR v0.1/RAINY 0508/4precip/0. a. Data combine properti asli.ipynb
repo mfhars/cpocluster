{
 "cells": [
  {
   "cell_type": "code",
   "execution_count": 1,
   "metadata": {},
   "outputs": [],
   "source": [
    "import pandas as pd\n",
    "from sklearn.cluster import KMeans\n",
    "import matplotlib.pyplot as plt\n",
    "import seaborn as sns\n",
    "\n",
    "# Load the data\n",
    "country_mapping = pd.read_excel(r\"C:\\Users\\pingk\\Downloads\\fadhli nitip\\country_mapping.xlsx\")\n",
    "country_2digit = pd.read_excel(r\"C:\\Users\\pingk\\Downloads\\fadhli nitip\\country_2digit.xlsx\")\n",
    "provincial_code = pd.read_excel(r\"C:\\Users\\pingk\\Downloads\\fadhli nitip\\provincial code.xlsx\")\n",
    "three_group_precipitation = pd.read_excel(r\"C:\\Users\\pingk\\Downloads\\fadhli nitip\\three_group_precipitation.xlsx\")\n",
    "four_group_precipitation = pd.read_excel(r\"C:\\Users\\pingk\\Downloads\\fadhli nitip\\four_group_precipitation.xlsx\")\n",
    "island_mapping = pd.read_excel(r\"C:\\Users\\pingk\\Downloads\\fadhli nitip\\island code.xlsx\")\n",
    "thai_mapping = pd.read_excel(r\"C:\\Users\\pingk\\Downloads\\fadhli nitip\\thai_vs_nothai.xlsx\")"
   ]
  },
  {
   "cell_type": "code",
   "execution_count": 3,
   "metadata": {},
   "outputs": [],
   "source": [
    "data_rt4 = pd.read_csv(r\"C:\\Users\\pingk\\Downloads\\fadhli nitip\\fadhli nitip\\csv\\data_rt4_tambahanindo.csv\")"
   ]
  },
  {
   "cell_type": "code",
   "execution_count": 4,
   "metadata": {},
   "outputs": [
    {
     "name": "stdout",
     "output_type": "stream",
     "text": [
      "Raw Data:\n",
      "  prov_char  country_code country_char               wavenumber   649.893  \\\n",
      "0       KTX             1           ID  ID-KTX-068-2306-003_001  0.015794   \n",
      "1       KTX             1           ID  ID-KTX-068-2306-003_002  0.014523   \n",
      "2       KTX             1           ID  ID-KTX-068-2306-003_003  0.010280   \n",
      "3       KTX             1           ID  ID-KTX-068-2306-002_001  0.005386   \n",
      "4       KTX             1           ID  ID-KTX-068-2306-002_002  0.007414   \n",
      "\n",
      "    650.376   650.858    651.34   651.822   652.304  ...  3995.783  3996.265  \\\n",
      "0  0.016324  0.016524  0.016383  0.015971  0.015417  ...  0.000664  0.000594   \n",
      "1  0.014325  0.014323  0.014442  0.014605  0.014763  ...  0.000542  0.000378   \n",
      "2  0.011086  0.011959  0.012718  0.013193  0.013295  ... -0.000970 -0.001102   \n",
      "3  0.005712  0.006217  0.006896  0.007735  0.008692  ...  0.001383  0.001353   \n",
      "4  0.006574  0.005528  0.004484  0.003628  0.003092  ...  0.001987  0.002045   \n",
      "\n",
      "   3996.747   3997.23  3997.712  3998.194  3998.676  3999.158   3999.64  \\\n",
      "0  0.000510  0.000430  0.000373  0.000352  0.000367  0.000404  0.000441   \n",
      "1  0.000181 -0.000012 -0.000157 -0.000222 -0.000193 -0.000083  0.000071   \n",
      "2 -0.001228 -0.001327 -0.001380 -0.001377 -0.001326 -0.001243 -0.001157   \n",
      "3  0.001339  0.001350  0.001392  0.001465  0.001565  0.001679  0.001789   \n",
      "4  0.002099  0.002155  0.002217  0.002283  0.002351  0.002410  0.002449   \n",
      "\n",
      "   4000.122  \n",
      "0  0.000452  \n",
      "1  0.000221  \n",
      "2 -0.001095  \n",
      "3  0.001877  \n",
      "4  0.002456  \n",
      "\n",
      "[5 rows x 6954 columns]\n",
      "  country_name  country_code\n",
      "0     Thailand             0\n",
      "1    Indonesia             1\n",
      "2     Malaysia             2\n",
      "  country_char  country_code\n",
      "0           TH             0\n",
      "1           ID             1\n",
      "2           MY             2\n",
      "  prov_char  prov_code\n",
      "0       CBI          0\n",
      "1       CCO          1\n",
      "2       CPN          2\n",
      "3       KBI          3\n",
      "4       KRI          4\n",
      "  prov_char  three_group_precip tgp_name dgp_name\n",
      "0       SKM                   0  Group 1  Group 1\n",
      "1       PKN                   0  Group 1  Group 1\n",
      "2       CBI                   0  Group 1  Group 1\n",
      "3       CCO                   0  Group 1  Group 1\n",
      "4       KRI                   0  Group 1  Group 1\n",
      "  prov_char  four_group_precip fgp_name\n",
      "0       SKM                  0  Group 1\n",
      "1       PKN                  0  Group 1\n",
      "2       CBI                  0  Group 1\n",
      "3       CCO                  0  Group 1\n",
      "4       KRI                  0  Group 1\n",
      "  prov_char  island_code\n",
      "0       CBI            0\n",
      "1       CCO            0\n",
      "2       CPN            0\n",
      "3       KBI            0\n",
      "4       KRI            0\n",
      "  country_char  th_vs_noth thnoth_name\n",
      "0           TH           0        Thai\n",
      "1           ID           1    Non-Thai\n",
      "2           MY           1    Non-Thai\n"
     ]
    }
   ],
   "source": [
    "# Inspect the first few rows of each dataset\n",
    "print(\"Raw Data:\")\n",
    "print(data_rt4.head())\n",
    "print(country_mapping.head())\n",
    "print(country_2digit.head())\n",
    "print(provincial_code.head())\n",
    "print(three_group_precipitation.head())\n",
    "print(four_group_precipitation.head())\n",
    "print(island_mapping.head())\n",
    "print(thai_mapping.head())"
   ]
  },
  {
   "cell_type": "code",
   "execution_count": 5,
   "metadata": {},
   "outputs": [],
   "source": [
    "# Merge data_rt4 with provincial_code on 'prov_char'\n",
    "data_rt4_with_prov_code = pd.merge(data_rt4, provincial_code, how='left', left_on='prov_char', right_on='prov_char')\n",
    "\n",
    "# Merge the result with three_group_precipitation\n",
    "data_rt4_with_3precip = pd.merge(data_rt4_with_prov_code, three_group_precipitation, how='left', left_on='prov_char', right_on='prov_char')\n",
    "\n",
    "# Merge the result with four_group_precipitation\n",
    "data_rt4_with_3p4p = pd.merge(data_rt4_with_3precip, four_group_precipitation, how='left', left_on='prov_char', right_on='prov_char')\n",
    "\n",
    "# Merge the result with country_mapping\n",
    "data_rt4_with_countryname = pd.merge(data_rt4_with_3p4p, country_mapping, how='left', left_on='country_code', right_on='country_code')\n",
    "\n",
    "# Merge the result with thai_mapping\n",
    "data_rt4_with_thai = pd.merge(data_rt4_with_countryname, thai_mapping, how='left', left_on='country_char', right_on='country_char')\n",
    "\n",
    "# Merge the result with island_mapping\n",
    "data_rt4_with_sixcat = pd.merge(data_rt4_with_thai, island_mapping, how='left', left_on='prov_char', right_on='prov_char')"
   ]
  },
  {
   "cell_type": "code",
   "execution_count": 6,
   "metadata": {},
   "outputs": [
    {
     "name": "stdout",
     "output_type": "stream",
     "text": [
      "Data with Additional Groupings:\n",
      "  prov_char  country_code country_char               wavenumber   649.893  \\\n",
      "0       KTX             1           ID  ID-KTX-068-2306-003_001  0.015794   \n",
      "1       KTX             1           ID  ID-KTX-068-2306-003_002  0.014523   \n",
      "2       KTX             1           ID  ID-KTX-068-2306-003_003  0.010280   \n",
      "3       KTX             1           ID  ID-KTX-068-2306-002_001  0.005386   \n",
      "4       KTX             1           ID  ID-KTX-068-2306-002_002  0.007414   \n",
      "\n",
      "    650.376   650.858    651.34   651.822   652.304  ...  prov_code  \\\n",
      "0  0.016324  0.016524  0.016383  0.015971  0.015417  ...         20   \n",
      "1  0.014325  0.014323  0.014442  0.014605  0.014763  ...         20   \n",
      "2  0.011086  0.011959  0.012718  0.013193  0.013295  ...         20   \n",
      "3  0.005712  0.006217  0.006896  0.007735  0.008692  ...         20   \n",
      "4  0.006574  0.005528  0.004484  0.003628  0.003092  ...         20   \n",
      "\n",
      "   three_group_precip  tgp_name  dgp_name  four_group_precip  fgp_name  \\\n",
      "0                   2   Group 3   Group 2                  3   Group 4   \n",
      "1                   2   Group 3   Group 2                  3   Group 4   \n",
      "2                   2   Group 3   Group 2                  3   Group 4   \n",
      "3                   2   Group 3   Group 2                  3   Group 4   \n",
      "4                   2   Group 3   Group 2                  3   Group 4   \n",
      "\n",
      "   country_name  th_vs_noth  thnoth_name  island_code  \n",
      "0     Indonesia           1     Non-Thai            1  \n",
      "1     Indonesia           1     Non-Thai            1  \n",
      "2     Indonesia           1     Non-Thai            1  \n",
      "3     Indonesia           1     Non-Thai            1  \n",
      "4     Indonesia           1     Non-Thai            1  \n",
      "\n",
      "[5 rows x 6964 columns]\n"
     ]
    }
   ],
   "source": [
    "# Inspect the first few rows of each dataset\n",
    "print(\"Data with Additional Groupings:\")\n",
    "print(data_rt4_with_sixcat.head())"
   ]
  },
  {
   "cell_type": "code",
   "execution_count": 7,
   "metadata": {},
   "outputs": [],
   "source": [
    "# Input your dataset here\n",
    "\n",
    "asik  = data_rt4_with_sixcat.drop(\n",
    "        columns=[\n",
    "            col for col in data_rt4_with_sixcat.columns \n",
    "            if col in ['country_code', 'prov_code', 'three_group_precip', 'four_group_precip', 'th_vs_noth', 'island_code'] \n",
    "            #or (col.replace('.', '', 1).isdigit() and any(float(col) >= start and float(col) < end for start, end in [(3100, 4001), (1870, 2700)]))\n",
    "            #or (col.replace('.', '', 1).isdigit() and 822.01 <= float(col) < 879.99)\n",
    "        ]\n",
    "    )\n",
    "\n",
    "asik.to_csv('C:/Users/pingk/Downloads/fadhli nitip/asik_adisiindo.csv', index=False)"
   ]
  }
 ],
 "metadata": {
  "kernelspec": {
   "display_name": "env",
   "language": "python",
   "name": "python3"
  },
  "language_info": {
   "codemirror_mode": {
    "name": "ipython",
    "version": 3
   },
   "file_extension": ".py",
   "mimetype": "text/x-python",
   "name": "python",
   "nbconvert_exporter": "python",
   "pygments_lexer": "ipython3",
   "version": "3.12.4"
  }
 },
 "nbformat": 4,
 "nbformat_minor": 2
}
